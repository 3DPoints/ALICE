{
 "cells": [
  {
   "cell_type": "code",
   "execution_count": 97,
   "metadata": {
    "collapsed": true,
    "scrolled": false
   },
   "outputs": [],
   "source": [
    "import numpy as np\n",
    "from matplotlib.pylab import *\n",
    "from numpy import random\n",
    "from collections import OrderedDict\n",
    "import os\n",
    "import pdb"
   ]
  },
  {
   "cell_type": "code",
   "execution_count": 98,
   "metadata": {
    "collapsed": true,
    "scrolled": false
   },
   "outputs": [],
   "source": [
    "def figsize(width,height):\n",
    "    rcParams['figure.figsize'] = (width,height)"
   ]
  },
  {
   "cell_type": "code",
   "execution_count": 99,
   "metadata": {
    "collapsed": true,
    "scrolled": false
   },
   "outputs": [],
   "source": [
    "#%matplotlib notebook\n",
    "%matplotlib inline\n",
    "\n",
    "font = {'size'   : 22}\n",
    "matplotlib.rc('font', **font)\n",
    "\n",
    "figsize(15, 8)"
   ]
  },
  {
   "cell_type": "markdown",
   "metadata": {},
   "source": [
    "## MNIST"
   ]
  },
  {
   "cell_type": "markdown",
   "metadata": {},
   "source": [
    "To specify a weight hyperparameter value (eg. lambda=1.0) for cycle-consistency regularizer, runs like\n",
    "\n",
    "```\n",
    "python alice_mnist.py --lambda 1.0\n",
    "```"
   ]
  },
  {
   "cell_type": "code",
   "execution_count": 104,
   "metadata": {
    "collapsed": true
   },
   "outputs": [],
   "source": [
    "dat_MNIST_ALICE_ICP = array([\n",
    "    [0, 8.749, 0.09],\n",
    "    [0.00001, 8.851, 0.08],\n",
    "    [0.0001, 8.869, 0.10],\n",
    "    [0.001, 8.901, 0.09],\n",
    "    [0.01, 9.1045, 0.07],\n",
    "    [0.1, 9.2618, 0.04],\n",
    "    [1, 9.279, 0.07],\n",
    "    [10, 8.918, 0.11],\n",
    "    [100, 8.533, 0.09],\n",
    "    [1000, 7.776, 0.10],\n",
    "    [10000, 1.334, 0.01],\n",
    "    [100000, 1.662, 0.006],\n",
    "])\n",
    "\n",
    "dat_MNIST_ALICE_MSE = array([\n",
    "    [0, 0.4803, 0.100],\n",
    "    [0.00001, 0.5012, 0.039],\n",
    "    [0.0001, 0.5272, 0.037],\n",
    "    [0.001, 0.4567, 0.024],\n",
    "    [0.01, 0.1721, 0.012],\n",
    "    [0.1, 0.0982, 0.008],\n",
    "    [1, 0.0803, 0.007],\n",
    "    [10, 0.0856, 0.006],\n",
    "    [100, 0.2228, 0.014],\n",
    "    [1000, 0.2389, 0.026],\n",
    "    [10000, 0.1107, 0.005],\n",
    "    [100000, 0.1375, 0.009],\n",
    "])"
   ]
  },
  {
   "cell_type": "code",
   "execution_count": 105,
   "metadata": {
    "scrolled": false
   },
   "outputs": [],
   "source": [
    "# Style\n",
    "figsize(10, 5)\n",
    "plt.rc('text', usetex=True)\n",
    "\n",
    "# Create directory to save figs\n",
    "fig_dir = 'figures/'\n",
    "directory = fig_dir\n",
    "if not os.path.exists(directory):\n",
    "    os.makedirs(directory)"
   ]
  },
  {
   "cell_type": "code",
   "execution_count": 124,
   "metadata": {
    "collapsed": true,
    "scrolled": false
   },
   "outputs": [],
   "source": [
    "def plot_hyperpara_ff(dat, logx=False, ylabel_name=None, c=(.7,.7,1), saveas=None, IsMax=None):\n",
    "    plotfn = semilogx if logx else plot\n",
    "    \n",
    "    x, y, yerr = dat[:,0], dat[:,1], dat[:,2]\n",
    "    if np.isscalar(yerr) or len(yerr) == len(y):\n",
    "        ymin = y - yerr\n",
    "        ymax = y + yerr\n",
    "    elif len(yerr) == 2:\n",
    "        ymin, ymax = yerr \n",
    "    plotfn(x, y,'o-', lw=3, mfc=(.7,.7,1), color=(.7,.7,1), ms=14)\n",
    "    fill_between(x, ymax, ymin, alpha=0.2, color=(.7,.7,1)) \n",
    "    if IsMax=='max':\n",
    "        idx = np.argmax(y, axis=0)\n",
    "    elif IsMax=='min':\n",
    "        idx = np.argmin(y, axis=0)\n",
    "    plotfn(x[idx], y[idx], 'o', mec='b', lw=3, mfc=(.7,.7,1), color=(.7,.7,1), ms=14)\n",
    "    axhline(y[0], color=(.7,.7,.7), ls='--', label='w/o CE regularizer')\n",
    "    \n",
    "    legend(loc=3)\n",
    "    xlabel('Weighting hyperparameter')\n",
    "    if ylabel_name:\n",
    "        ylabel(ylabel_name)\n",
    "    plt.tight_layout()    \n",
    "\n",
    "    if saveas:\n",
    "        savefig('%s.png' % saveas)\n",
    "        savefig('%s.pdf' % saveas)"
   ]
  },
  {
   "cell_type": "code",
   "execution_count": 125,
   "metadata": {},
   "outputs": [
    {
     "data": {
      "image/png": "[encoded data removed]",
      "text/plain": [
       "<matplotlib.figure.Figure at 0x114935410>"
      ]
     },
     "metadata": {},
     "output_type": "display_data"
    }
   ],
   "source": [
    "plot_hyperpara_ff(dat_MNIST_ALICE_ICP,logx=True, ylabel_name=\"Inception Score\" ,saveas=fig_dir+'mnist_icp_weighting', IsMax='max')"
   ]
  },
  {
   "cell_type": "code",
   "execution_count": 126,
   "metadata": {
    "scrolled": false
   },
   "outputs": [
    {
     "data": {
      "image/png": "[encoded data removed]",
      "text/plain": [
       "<matplotlib.figure.Figure at 0x1138fdc90>"
      ]
     },
     "metadata": {},
     "output_type": "display_data"
    }
   ],
   "source": [
    "plot_hyperpara_ff(dat_MNIST_ALICE_MSE,logx=True, ylabel_name=\"Mean Square Error\" ,saveas=fig_dir+'mnist_mse_weighting', IsMax='min')"
   ]
  },
  {
   "cell_type": "markdown",
   "metadata": {
    "collapsed": true
   },
   "source": [
    "## CIFAR"
   ]
  },
  {
   "cell_type": "code",
   "execution_count": 127,
   "metadata": {},
   "outputs": [],
   "source": [
    "dat_CIFAR_ALICE_ICP = array([\n",
    "    [0, 5.93, 0.0437],\n",
    "    [1.00E-06, 6.015, 0.0284],\n",
    "    [1.00E-04, 5.994, 0.0305],\n",
    "    [1.00E-02, 5.83, 0.0221],\n",
    "    [1.00E-01, 4.42, 0.0247],\n",
    "    [5.00E-01, 3.02, 0.0222],\n",
    "    [1.00E+00, 2.18, 0.0204],\n",
    "    [1.00E+01, 1.942, 0.0156],\n",
    "    [5.00E+01, 1.32, 0.0122],\n",
    "    [1.00E+02, 1.22, .0172],\n",
    "    [1.00E+03, 1.08, 0.0211]\n",
    "])\n",
    "\n",
    "dat_CIFAR_ALICE_MSE = array([\n",
    "    [0, 0.672, 0.1129],\n",
    "    [1.00E-06, 0.4155, 0.2015],\n",
    "    [1.00E-04, 0.2902, 0.1071],\n",
    "    [1.00E-02, 0.1553, 0.0566],\n",
    "    [1.00E-01, 0.0991, 0.0349],\n",
    "    [5.00E-01, 0.0786, 0.0198],\n",
    "    [1.00E+00, 0.0561, 0.0281],\n",
    "    [1.00E+01, 0.0321, 0.00198],\n",
    "    [5.00E+01, 0.0323, 0.003108],\n",
    "    [1.00E+02, 0.0295, 0.00221],\n",
    "    [1.00E+03, 0.0217, 0.00176]\n",
    "])"
   ]
  },
  {
   "cell_type": "code",
   "execution_count": 128,
   "metadata": {},
   "outputs": [
    {
     "data": {
      "image/png": "[encoded data removed]",
      "text/plain": [
       "<matplotlib.figure.Figure at 0x1127d9ad0>"
      ]
     },
     "metadata": {},
     "output_type": "display_data"
    }
   ],
   "source": [
    "plot_hyperpara_ff(dat_CIFAR_ALICE_ICP,logx=True, ylabel_name=\"Inception Score\" ,saveas=fig_dir+'cifar_icp_weighting', IsMax='max')"
   ]
  },
  {
   "cell_type": "code",
   "execution_count": 129,
   "metadata": {},
   "outputs": [
    {
     "data": {
      "image/png": "[encoded data removed]",
      "text/plain": [
       "<matplotlib.figure.Figure at 0x112aec610>"
      ]
     },
     "metadata": {},
     "output_type": "display_data"
    }
   ],
   "source": [
    "plot_hyperpara_ff(dat_CIFAR_ALICE_MSE,logx=True, ylabel_name=\"Mean Square Error\" ,saveas=fig_dir+'cifar_mse_weighting', IsMax='min')"
   ]
  },
  {
   "cell_type": "markdown",
   "metadata": {},
   "source": [
    "100k parameters, runs like\n",
    "\n",
    "```\n",
    "CUDA_VISIBLE_DEVICES=0 resman -r mnist_timing_dense_$vsize -- ./train.py --arch mnistfc --denseproj $MNIST_DATA -E 3 --depth 3 --width 101 --mb 256 --vsize $vsize --output skip\n",
    "```"
   ]
  },
  {
   "cell_type": "markdown",
   "metadata": {},
   "source": [
    "```\n",
    "171005_165748_4347ff0_lrb_mnist_timing_direct\n",
    "...\n",
    "\n",
    "$ for dir in *fastfood*; do echo -e \"$dir \\t\\t `cat $dir/diary|grep fastest_avg_iter_time`\"; done\n",
    "```\n"
   ]
  },
  {
   "cell_type": "code",
   "execution_count": null,
   "metadata": {
    "collapsed": true,
    "scrolled": false
   },
   "outputs": [],
   "source": [
    "dat_direct = array([0.00273803])\n",
    "dat_dense = array([\n",
    "    [100, 0.00420681],\n",
    "    [200, 0.00412252],\n",
    "    [500, 0.00464736],\n",
    "    [1000, 0.00561655],\n",
    "    [2000, 0.00833679],\n",
    "    [5000, 0.0169604],\n",
    "    [10000, 0.0315385],\n",
    "])\n",
    "dat_sparse = array([\n",
    "    [100, 0.00441457],\n",
    "    [200, 0.00432252],\n",
    "    [500, 0.00442043],\n",
    "    [1000, 0.00424485],\n",
    "    [2000, 0.00448717],\n",
    "    [5000, 0.00450832],\n",
    "    [10000, 0.00496746],\n",
    "    [20000, 0.00596297],\n",
    "    [50000, 0.010959],\n",
    "    [100000, 0.0188555],\n",
    "])\n",
    "dat_fastfood = array([\n",
    "    [100, 0.0195069],\n",
    "    [200, 0.0195249],\n",
    "    [500, 0.0204123],\n",
    "    [1000, 0.0199341],\n",
    "    [2000, 0.0202374],\n",
    "    [5000, 0.0213178],\n",
    "    [10000, 0.020163],\n",
    "    [20000, 0.0202242],\n",
    "    [50000, 0.0193474],\n",
    "    [100000, 0.0196823],\n",
    "])\n"
   ]
  },
  {
   "cell_type": "code",
   "execution_count": null,
   "metadata": {
    "collapsed": true
   },
   "outputs": [],
   "source": [
    "plot_dense_sparse_ff(semilogx, dat_direct, dat_dense, dat_sparse, dat_fastfood, xmin=90, saveas='mnist_100k')"
   ]
  },
  {
   "cell_type": "code",
   "execution_count": null,
   "metadata": {
    "collapsed": true,
    "scrolled": false
   },
   "outputs": [],
   "source": []
  },
  {
   "cell_type": "markdown",
   "metadata": {},
   "source": [
    "# Random Search for Small Networks"
   ]
  },
  {
   "cell_type": "code",
   "execution_count": null,
   "metadata": {
    "collapsed": true
   },
   "outputs": [],
   "source": [
    "# Style\n",
    "figsize(12, 6)\n",
    "plt.rc('text', usetex=True)"
   ]
  },
  {
   "cell_type": "markdown",
   "metadata": {},
   "source": [
    "### MNIST MLP"
   ]
  },
  {
   "cell_type": "code",
   "execution_count": null,
   "metadata": {
    "collapsed": true
   },
   "outputs": [],
   "source": [
    "def plot_perf_cmp_trainable(dat1, dat2, logx=False, saveas=None, mfc_d=(.8,.8,.8), mec_d='k', mfc_s=(.7,.7,1), mec_s='b'):\n",
    "    plotfn = semilogx if logx else plot\n",
    "    plotfn(dat1[:,0], dat1[:,1], 'o', mfc=mfc_d, mec=mec_d, ms=14, label='Direct')\n",
    "    plotfn(dat2[:,0], dat2[:,1], 'o', mfc=mfc_s, mec=mec_s, ms=14, label='Subspace')\n",
    "    xlabel('Number of trainable parameters')\n",
    "    ylabel('Validation accuracy')\n",
    "    legend(loc=4)\n",
    "    if saveas:\n",
    "        savefig('%s.png' % saveas)\n",
    "        savefig('%s.pdf' % saveas)"
   ]
  },
  {
   "cell_type": "code",
   "execution_count": null,
   "metadata": {
    "collapsed": true
   },
   "outputs": [],
   "source": [
    "def plot_perf_dim(dat, logx=False, saveas=None, d_Int=None):\n",
    "    plotfn = semilogx if logx else plot\n",
    "    figsize(10, 5)\n",
    "    plt.rc('text', usetex=True)\n",
    "\n",
    "    dir_perf = np.mean(dat[dat[:,0]==0,:],0)[1]\n",
    "    sub_perf = dat[dat[:,0]!=0,:]\n",
    "    \n",
    "    unique_dim = sorted(list(set(sub_perf[:,0])))\n",
    "    perf_mean = [np.mean(dat[dat[:,0]==d,:],0)[1] for d in unique_dim]\n",
    "\n",
    "    axhline(dir_perf, color=(.7,.7,.7), ls='-')\n",
    "    axhline(.9 * dir_perf, color=(.7,.7,.7), ls='--')\n",
    "    plotfn(unique_dim, perf_mean, '-', mec='b', lw=3, mfc=(.7,.7,1), color=(.7,.7,1), ms=14)    \n",
    "    plotfn(sub_perf[:,0], sub_perf[:,1], 'o', mec='b', lw=3, mfc=(.7,.7,1), color=(.7,.7,1), ms=14)\n",
    "\n",
    "    \n",
    "    if d_Int==None:\n",
    "        for i in range(len(unique_dim)):\n",
    "            if perf_mean[i]>dir_perf*.90:\n",
    "                print \"d_int=\"+str(unique_dim[i]) + \", acc=\" +str( perf_mean[i] ) \n",
    "                plotfn(unique_dim[i], perf_mean[i], 'o', mec='b', lw=3, mfc='b', ms=14)\n",
    "                break\n",
    "            elif perf_mean[-1]<dir_perf*.90:\n",
    "                print \"d_int=\"+str(unique_dim[-1]) + \", acc=\" +str( perf_mean[-1] ) + \"(Warning: larger d should be considered)\"\n",
    "                break                \n",
    "\n",
    "    xlabel('Subspace dim d')\n",
    "    ylabel('Validation accuracy')\n",
    "    if saveas:\n",
    "        savefig('%s.png' % saveas)\n",
    "        savefig('%s.pdf' % saveas)"
   ]
  },
  {
   "cell_type": "code",
   "execution_count": null,
   "metadata": {
    "collapsed": true
   },
   "outputs": [],
   "source": [
    "def plot_perf_dim(dat, logx=False, saveas=None, d_Int=None):\n",
    "    plotfn = semilogx if logx else plot\n",
    "    figsize(10, 5)\n",
    "    plt.rc('text', usetex=True)\n",
    "\n",
    "    dir_perf = np.mean(dat[dat[:,0]==0,:],0)[1]\n",
    "    sub_perf = dat[dat[:,0]!=0,:]\n",
    "    \n",
    "    unique_dim = sorted(list(set(sub_perf[:,0])))\n",
    "    perf_mean = [np.mean(dat[dat[:,0]==d,:],0)[1] for d in unique_dim]\n",
    "\n",
    "    axhline(dir_perf, color=(.7,.7,.7), ls='-')\n",
    "    axhline(.9 * dir_perf, color=(.7,.7,.7), ls='--')\n",
    "    plotfn(unique_dim, perf_mean, '-', mec='b', lw=3, mfc=(.7,.7,1), color=(.7,.7,1), ms=14)    \n",
    "    plotfn(sub_perf[:,0], sub_perf[:,1], 'o', mec='b', lw=3, mfc=(.7,.7,1), color=(.7,.7,1), ms=14)\n",
    "\n",
    "    \n",
    "    if d_Int==None:\n",
    "        for i in range(len(unique_dim)):\n",
    "            if perf_mean[i]>dir_perf*.90:\n",
    "                print \"d_int=\"+str(unique_dim[i]) + \", acc=\" +str( perf_mean[i] ) \n",
    "                plotfn(unique_dim[i], perf_mean[i], 'o', mec='b', lw=3, mfc='b', ms=14)\n",
    "                break\n",
    "\n",
    "    xlabel('Subspace dim d')\n",
    "    ylabel('Validation accuracy')\n",
    "    if saveas:\n",
    "        savefig('%s.png' % saveas)\n",
    "        savefig('%s.pdf' % saveas)"
   ]
  },
  {
   "cell_type": "code",
   "execution_count": null,
   "metadata": {
    "collapsed": true
   },
   "outputs": [],
   "source": [
    "plot_perf_cmp(smallnets_mnist_mlp, False, 'mnist_small_direct_mlp_linear')"
   ]
  },
  {
   "cell_type": "code",
   "execution_count": null,
   "metadata": {
    "collapsed": true
   },
   "outputs": [],
   "source": [
    "plot_perf_cmp(smallnets_mnist_mlp, True, 'mnist_small_direct_mlp_log')"
   ]
  },
  {
   "cell_type": "code",
   "execution_count": null,
   "metadata": {
    "collapsed": true
   },
   "outputs": [],
   "source": [
    "plot_perf_cmp_trainable(smallnets_mnist_mlp, mnist_subspace_mlp_all, False, 'mnist_cmp_mlp_linear')"
   ]
  },
  {
   "cell_type": "code",
   "execution_count": null,
   "metadata": {
    "collapsed": true
   },
   "outputs": [],
   "source": [
    "plot_perf_cmp_trainable(smallnets_mnist_mlp, mnist_subspace_mlp_all, True, 'mnist_cmp_mlp_log')"
   ]
  },
  {
   "cell_type": "code",
   "execution_count": null,
   "metadata": {
    "collapsed": true
   },
   "outputs": [],
   "source": [
    "plot_perf_dim(data_mnist_mlp, logx=False, saveas=None)\n",
    "# plot_perf_dim(data_mnist_mlp_L3, logx=False, saveas=None)"
   ]
  },
  {
   "cell_type": "code",
   "execution_count": null,
   "metadata": {
    "collapsed": true
   },
   "outputs": [],
   "source": [
    "plot_perf_dim(data_mnist_mlp, logx=False, saveas=None)\n",
    "# plot_perf_dim(data_mnist_mlp_L3, logx=False, saveas=None)"
   ]
  },
  {
   "cell_type": "code",
   "execution_count": null,
   "metadata": {
    "collapsed": true
   },
   "outputs": [],
   "source": [
    "plot_perf_dim(data_mnist_mlp, logx=True, saveas=None)"
   ]
  },
  {
   "cell_type": "markdown",
   "metadata": {},
   "source": [
    "### MNIST LeNet"
   ]
  },
  {
   "cell_type": "markdown",
   "metadata": {},
   "source": [
    "Result directories like ```tiny_mnist_lenet_dir/171019_065959_5393fd2_lrb_tiny_mnist_lenet_dir_0806/```\n",
    "\n",
    "Run using\n",
    "\n",
    "```\n",
    "resman -d results/tiny_mnist_lenet_dir -r tiny_mnist_lenet_dir_${ii} -- ./train.py /data/mnist/h5/train.h5 /data/mnist/h5/val.h5 --arch mnistlenet_dir `./rand_args.py --lenet` -E 100 --opt 'adam' --lr 0.001 --l2 0.0001\n",
    "```\n",
    "\n",
    "Collected using\n",
    "\n",
    "```\n",
    "for dir in *lrb_tiny_mnist_lenet_*; do echo -n \"[`cat $dir/diary | grep 'final_stats total_params' | gk 4`, `cat $dir/diary | grep 'final_stats val_accuracy' | gk 4`],\"; done\n",
    "```"
   ]
  },
  {
   "cell_type": "code",
   "execution_count": null,
   "metadata": {
    "collapsed": true,
    "scrolled": true
   },
   "outputs": [],
   "source": [
    "#smallnets_mnist_lenet = array([\n",
    "#    [5771, 0.978],[2859, 0.9445],[9014, 0.9781],[2809, 0.9781],[944, 0.9212],[923, 0.8981],[840, 0.5194],[7490, 0.9883],[966, 0.8731],[3507, 0.98],[581, 0.7527],[1186, 0.909],[2002, 0.9811],[1331, 0.9237],[409, 0.9178],[1763, 0.9534],[748, 0.8946],[3174, 0.97],[35781, 0.9863],[2009, 0.9312],[2035, 0.9024],[11137, 0.9644],[7771, 0.9733],[814, 0.9537],[1207, 0.9724],[4773, 0.9608],[1830, 0.916],[1363, 0.9569],[9909, 0.9828],[4862, 0.9829],[19996, 0.9888],[8002, 0.9851],[21202, 0.9882],[713, 0.8921],[17503, 0.9873],[1285, 0.975],[914, 0.9697],[4378, 0.9832],[701, 0.9383],[3821, 0.9785],[1415, 0.9796],[22498, 0.9873],[3328, 0.1064],[7447, 0.9822],[3821, 0.9756],[10326, 0.9884],[1626, 0.622],[1619, 0.9788],[1388, 0.8842],[403, 0.9013],[5472, 0.9833],[9296, 0.9747],[7154, 0.9849],[1955, 0.9483],[32406, 0.9765],[396, 0.7805],[1013, 0.971],[1664, 0.9755],[8468, 0.8701],[665, 0.9027],[8213, 0.9888],[30502, 0.9898],[1319, 0.9801],[15737, 0.9875],[2109, 0.9559],[1591, 0.8961],[32128, 0.9871],[2298, 0.9624],[39310, 0.9898],[35190, 0.9883],[10046, 0.9887],[36754, 0.989],[1616, 0.9123],[3477, 0.9817],[1472, 0.9632],[4323, 0.982],[2373, 0.9761],[2158, 0.9796],[1370, 0.961],[3565, 0.9665],[13049, 0.9871],[1144, 0.9331],[2468, 0.9316],[15432, 0.9846],[743, 0.9391],[2439, 0.9781],[1404, 0.9673],[944, 0.9221],[3273, 0.9777],[122, 0.6218],[6357, 0.6277],[1016, 0.9523],[39972, 0.9913],[8805, 0.9704],[1252, 0.9773],[11327, 0.9862],[17319, 0.9859],[5164, 0.959],[4994, 0.9648],[20009, 0.5637],[3858, 0.9828],[6036, 0.9557],[7603, 0.98],[6919, 0.9828],[8202, 0.9592],[1035, 0.9568],[3186, 0.9791],[822, 0.967],[2017, 0.9844],[580, 0.8635],[7568, 0.9843],[12940, 0.9824],[1966, 0.8717],[2507, 0.962],[8744, 0.9699],[3232, 0.98],[9566, 0.9846],[531, 0.9243],[4217, 0.9702],[5225, 0.9729],[10290, 0.8763],[493, 0.9416],[4310, 0.9335],[4223, 0.9753],[1759, 0.974],[4294, 0.9848],[2239, 0.9241],[7890, 0.9813],[17503, 0.988],[2207, 0.9674],[985, 0.9459],[9848, 0.1064],[1813, 0.9746],[12270, 0.9642],[2808, 0.9564],[8614, 0.9755],[1485, 0.9143],[2504, 0.9424],[15554, 0.9789],[4495, 0.9835],[529, 0.9044],[3335, 0.9779],[1255, 0.972],[5060, 0.9555],[485, 0.8372],[12544, 0.9764],[1049, 0.9423],[2252, 0.9819],[32128, 0.9892],[1916, 0.9278],[20285, 0.9796],[8268, 0.9822],[511, 0.8643],[511, 0.8251],[16618, 0.9688],[2958, 0.9684],[3496, 0.9833],[6820, 0.9822],[511, 0.866],[7225, 0.9692],[3638, 0.9592],[1361, 0.9651],[541, 0.8987],[6212, 0.9831],[27262, 0.9832],[5516, 0.8713],[3512, 0.9561],[1204, 0.6352],[3232, 0.9801],[2745, 0.9751],[5240, 0.9863],[5168, 0.983],[7090, 0.9839],[425, 0.8447],[1214, 0.9735],[979, 0.9662],[709, 0.9485],[1062, 0.9305],[1268, 0.8804],[6155, 0.9871],[8328, 0.9672],[1490, 0.9724],[9842, 0.9866],[422, 0.851],[11282, 0.9841],[15332, 0.9873],[13106, 0.9527],[230, 0.776],[10826, 0.9849],[15736, 0.9853],[1282, 0.929],[1840, 0.9822],[10384, 0.9887],[1493, 0.9324],[546, 0.845],[2251, 0.9661],[2619, 0.9218],[797, 0.972],[1336, 0.9734],[832, 0.9275],[1350, 0.9702],[2997, 0.9744],[2207, 0.9613],[1039, 0.9191],[24420, 0.9893],[2317, 0.9278],[2806, 0.9804],[20706, 0.6714],[5577, 0.9794],[997, 0.9674],[2581, 0.9812],[2470, 0.9664],[1312, 0.9756],[291, 0.8161],[17227, 0.983],[1240, 0.9431],[5569, 0.9673],[396, 0.7797],[1012, 0.9743],[862, 0.5415],[742, 0.9708],[2211, 0.9621],[1573, 0.9532],[4026, 0.9845],[1217, 0.9335],[553, 0.915],[4432, 0.1064],[19568, 0.9863],[3062, 0.9399],[1804, 0.9583],[6396, 0.9833],[21389, 0.9834],[569, 0.9345],[6396, 0.9816],[19996, 0.9897],[1930, 0.8891],[1618, 0.976],[2344, 0.9852],[490, 0.7805],[3352, 0.9649],[5168, 0.9818],[1493, 0.9341],[1209, 0.8852],[4223, 0.9778],[1637, 0.979],[30620, 0.9863],[2839, 0.9795],[620, 0.9412],[1517, 0.9657],[2956, 0.9773],[31685, 0.9726],[649, 0.9566],[14868, 0.9871],[2442, 0.9794],[17907, 0.9867],[8213, 0.9884],[43574, 0.9899],[33815, 0.9871],[3809, 0.9815],[1365, 0.9775],[1124, 0.96],[2469, 0.9755],[461, 0.8457],[3946, 0.9839],[33454, 0.987],[5516, 0.9859],[2956, 0.9859],[28540, 0.9905],[2944, 0.9858],[1430, 0.9358],[704, 0.9556],[453, 0.8399],[2750, 0.952],[13565, 0.9723],[573, 0.9324],[1710, 0.9114],[3172, 0.9814],[238, 0.7838],[17907, 0.9857],[1571, 0.9455],[1367, 0.8792],[6225, 0.977],[35902, 0.9864],[8972, 0.9877],[25996, 0.9871],[2546, 0.9645],[3620, 0.9854],[15554, 0.9774],[2035, 0.8944],[7165, 0.9655],[1747, 0.9728],[11440, 0.9879],[20706, 0.6751],[4864, 0.9782],[1643, 0.9615],[503, 0.9369],[3135, 0.9427],[8580, 0.9673],[2453, 0.9796],[8622, 0.9852],[625, 0.9409],[31980, 0.974],[1493, 0.9332],[1809, 0.9547],[1462, 0.9594],[3184, 0.9815],[31096, 0.9895],[2251, 0.9641],[4517, 0.9683],[519, 0.9429],[3915, 0.9679],[18382, 0.9847],[531, 0.9243],[24430, 0.9888],[970, 0.9681],[525, 0.9197],[122, 0.6211],[4931, 0.9748],[1934, 0.9796],[6173, 0.9845],[10665, 0.9794],[5016, 0.983],[6629, 0.9857],[1443, 0.9201],[17779, 0.9845],[11948, 0.9871],[513, 0.9208],[281, 0.8314],[12401, 0.9672],[32206, 0.9905],[1304, 0.8079],[403, 0.8991],[5401, 0.9777],[1359, 0.9357],[2063, 0.9316],[37746, 0.9884],[3553, 0.9814],[5650, 0.9688],[1950, 0.95],[414, 0.7282],[28504, 0.1064],[7567, 0.9702],[4252, 0.9808],[1310, 0.9592],[1462, 0.9716],[1016, 0.9739],[26272, 0.988],[10342, 0.9837],[2258, 0.9365],[719, 0.8939],[3322, 0.9826],[4083, 0.9865],[5085, 0.9538],[3127, 0.9714],[8805, 0.9718],[3105, 0.9815],[3477, 0.9824],[5212, 0.9832],[2563, 0.9842],[161, 0.6786],[7090, 0.9833],[1653, 0.9746],[6357, 0.6281],[435, 0.7941],[1754, 0.9807],[23188, 0.9856],[642, 0.8537],[2963, 0.9815],[1856, 0.9781],[12224, 0.9885],[1789, 0.9643],[2564, 0.9807],[4499, 0.9839],[1059, 0.9402],[6064, 0.986],[782, 0.8922],[2894, 0.948],[1813, 0.9759],[1916, 0.9808],[20706, 0.6733],[3511, 0.9636],[878, 0.6101],[573, 0.9327],[2380, 0.9847],[1909, 0.982],[959, 0.7043],[10952, 0.9782],[6690, 0.9758],[13318, 0.9834],[12544, 0.9759],[554, 0.8689],[710, 0.9341],[3465, 0.9695],[5753, 0.9768],[2947, 0.9851],[1240, 0.941],[1160, 0.91],[9842, 0.9848],[1034, 0.8733],[1571, 0.9458],[14490, 0.9803],[5340, 0.6486],[1172, 0.9625],[33684, 0.9788],[309, 0.8287],[1156, 0.9332],[1053, 0.9268],[2443, 0.9228],[13453, 0.9854],[1472, 0.9633],[19070, 0.9828],[2775, 0.9709],[998, 0.9039],[8816, 0.9837],[671, 0.9483],[11137, 0.9647],[3990, 0.9687],[1485, 0.9098],[1472, 0.9629],[808, 0.943],[10577, 0.9778],[3154, 0.9831],[5472, 0.9834],[5066, 0.9807],[15190, 0.9896],[2878, 0.9793],[4875, 0.9638],[543, 0.9042],[19574, 0.9867],[1743, 0.9471],[432, 0.9026],[2901, 0.9809],[649, 0.957],[14540, 0.9826],[2621, 0.962],[8640, 0.982],[1073, 0.9495],[10686, 0.985],[4405, 0.981],[10031, 0.9854],[511, 0.8647],[794, 0.9107],[1348, 0.977],[3273, 0.9777],[12847, 0.9857],[1529, 0.9829],[519, 0.9431],[847, 0.8715],[481, 0.9014],[2105, 0.9649],[4161, 0.9757],[2100, 0.9406],[18852, 0.9876],[9048, 0.9873],[422, 0.8552],[1459, 0.9623],[5448, 0.1064],[12031, 0.9867],[1190, 0.9513],[727, 0.9472],[342, 0.7855],[1870, 0.9549],[4726, 0.9822],[13049, 0.9878],[183, 0.7712],[3511, 0.963],[391, 0.8914],[1226, 0.9776],[1525, 0.9791],[3890, 0.9664],[1503, 0.9644],[2781, 0.9455],[3543, 0.9683],[5741, 0.9709],[1331, 0.9196],[885, 0.9278],[17506, 0.9843],[1703, 0.9484],[903, 0.8888],[19966, 0.9879],[969, 0.9313],[963, 0.9034],[1433, 0.9594],[4439, 0.9476],[1742, 0.9792],[5434, 0.9739],[13453, 0.9866],[1405, 0.8849],[6620, 0.9888],[7312, 0.9555],[1748, 0.9772],[6427, 0.9851],[192, 0.7327],[15432, 0.9847],[4707, 0.976],[2158, 0.979],[9729, 0.9842],[35190, 0.9891],[2411, 0.9662],[16951, 0.9823],[3349, 0.9757],[464, 0.8037],[847, 0.9281],[4310, 0.9378],[1750, 0.9749],[665, 0.8918],[2357, 0.9815],[5350, 0.9854],[2470, 0.9809],[782, 0.8951],[10447, 0.974],[1444, 0.9653],[1202, 0.9572],[1777, 0.9649],[2183, 0.9589],[1740, 0.9465],[2438, 0.9837],[13105, 0.9785],[7114, 0.9647],[1534, 0.9355],[1696, 0.9759],[7994, 0.9873],[1746, 0.945],[5194, 0.9773],[9272, 0.9875],[5852, 0.967],[11135, 0.9851],[1877, 0.9771],[1930, 0.8884],[1035, 0.9258],[1183, 0.9356],[1000, 0.9668],[25720, 0.9844],[447, 0.8247],[2788, 0.9584],[3905, 0.9708],[22362, 0.1064],[1877, 0.9781],[18852, 0.988],[2060, 0.9734],[4574, 0.9773],[1742, 0.9806],[968, 0.5767],[35781, 0.9872],[1210, 0.1064],[6440, 0.9813],[3291, 0.9316],[8213, 0.9878],[4654, 0.987],[6328, 0.9853],[451, 0.526],[1151, 0.9283],[460, 0.9292],[9112, 0.9855],[4829, 0.9816],[657, 0.9356],[17630, 0.9873],[308, 0.6976],[2298, 0.9611],[4441, 0.6366],[13485, 0.9803],[615, 0.9202],[1304, 0.808],[1245, 0.9536],[1300, 0.9259],[2098, 0.9534],[620, 0.9549],[701, 0.9367],[2215, 0.938],[8329, 0.9866],[671, 0.9512],[587, 0.8812],[1753, 0.9748],[6754, 0.9859],[2623, 0.9834],[953, 0.9182],[3232, 0.9446],[1443, 0.8405],[588, 0.8777],[7405, 0.9789],[1143, 0.9629],[1957, 0.9796],[15280, 0.9865],[1433, 0.9598],[450, 0.9068],[16216, 0.9867],[31947, 0.9838],[1477, 0.9642],[18331, 0.9883],[28372, 0.9838],[3391, 0.982],[2963, 0.9776],[21754, 0.9891],[14616, 0.9851],[970, 0.9677],[12586, 0.9895],[1654, 0.903],[1442, 0.9109],[1085, 0.5807],[20096, 0.987],[2529, 0.9474],[7906, 0.9869],[17281, 0.9818],[1144, 0.9352],[18058, 0.9876],[1740, 0.921],[180, 0.5147],[775, 0.9057],[3338, 0.9819],[4124, 0.988],[1291, 0.9608],[9232, 0.9803],[6105, 0.9782],[20556, 0.9891],[7242, 0.9831],[513, 0.8799],[620, 0.823],[2859, 0.9668],[2846, 0.9806],[557, 0.912],[3732, 0.9821],[1675, 0.9654],[408, 0.1064],[12270, 0.9645],[712, 0.8879],[2252, 0.9809],[797, 0.9721],[29650, 0.9885],[179, 0.7094],[12487, 0.9789],[12753, 0.9789],[645, 0.8989],[641, 0.962],[4432, 0.1064],[22362, 0.1064],[1381, 0.924],[6862, 0.9706],[1363, 0.8575],[1973, 0.9763],[2031, 0.925],[12030, 0.9904],[581, 0.7572],[2563, 0.9837],[1685, 0.6222],[13049, 0.9879],[2249, 0.9755],[2495, 0.9006],[25720, 0.9841],[17782, 0.9859],[7825, 0.9855],[595, 0.858],[3699, 0.9719],[490, 0.9486],[665, 0.9029],[3275, 0.9766],[4161, 0.9753],[1503, 0.9582],[2098, 0.9517],[8213, 0.9869],[1218, 0.9791],[30541, 0.989],[5894, 0.989],[5516, 0.9679],[20823, 0.9855],[13670, 0.9883],[7574, 0.9885],[3854, 0.9723],[566, 0.7955],[2169, 0.9584],[3423, 0.9626],[2225, 0.969],[2134, 0.9834],[2797, 0.9784],[5586, 0.9826],[2251, 0.9646],[1151, 0.9603],[161, 0.6787],[10946, 0.9876],[1147, 0.9707],[30896, 0.9862],[561, 0.9594],[3006, 0.9483],[2357, 0.9826],[685, 0.8416],[2455, 0.9666],[3951, 0.9743],[2095, 0.9267],[2963, 0.979],[5872, 0.9854],[9628, 0.9854],[2158, 0.9806],[3428, 0.9791],[1942, 0.953],[557, 0.9355],[516, 0.871],[2043, 0.9487],[2323, 0.9777],[1319, 0.979],[1165, 0.87],[14022, 0.987],[1226, 0.9169],[1491, 0.8899],[594, 0.8069],[8444, 0.9803],[6173, 0.982],[5891, 0.9803],[4600, 0.9865],[32206, 0.9899],[8342, 0.9865],[704, 0.9542],[348, 0.8961],[472, 0.8059],[1398, 0.4872],[1847, 0.9746],[766, 0.9435],[32000, 0.988],[998, 0.9257],[31685, 0.9799],[8193, 0.9858],[2576, 0.9817],[14628, 0.9856],[3695, 0.9722],[5638, 0.9856],[926, 0.8939],[11282, 0.9834],[6523, 0.9854],[1719, 0.9627],[9729, 0.9841],[13607, 0.9834],[1835, 0.9488],[913, 0.9358],[4931, 0.976],[1136, 0.9026],[5744, 0.9887],[35781, 0.9881],[3184, 0.9812],[1384, 0.9594],[1537, 0.9772],[388, 0.9276],[3962, 0.9496],[3261, 0.9663],[22362, 0.1064],[3281, 0.9813],[2207, 0.9629],[3633, 0.9697],[2225, 0.9809],[3275, 0.9775],[1491, 0.8901],[2470, 0.9805],[2132, 0.9444],[12112, 0.9841],[122, 0.622],[2549, 0.978],[31702, 0.985],[16778, 0.9869],[5638, 0.9852],[3047, 0.9572],[2776, 0.9635],[1226, 0.9171],[1950, 0.95],[4498, 0.967],[3809, 0.9801],[505, 0.9405],[4722, 0.953],[4674, 0.9866],[1754, 0.9595],[5266, 0.989],[436, 0.7829],[6357, 0.6288],[3062, 0.9383],[953, 0.9664],[11188, 0.9659],[1349, 0.9772],[4161, 0.9776],[1207, 0.9711],[12568, 0.9878],[19704, 0.9898],[2088, 0.954],[10384, 0.9892],[885, 0.9255],[443, 0.7639],[3915, 0.9671],[4161, 0.9777],[3057, 0.9579],[13809, 0.9847],[493, 0.9415],[27763, 0.987],[1468, 0.9482],[26800, 0.9742],[10952, 0.9797],[2859, 0.9453],[2801, 0.9715],[704, 0.948],[1522, 0.9313],[361, 0.8593],[1900, 0.9829],[939, 0.9322],[12640, 0.9851],[1117, 0.9811],[2562, 0.9788],[14885, 0.9871],[1933, 0.9828],[12788, 0.9774],[2517, 0.603],[13049, 0.9872],[8963, 0.9818],[1675, 0.9645],[722, 0.9447],[328, 0.7993],[16652, 0.9904],[7242, 0.9846],[2281, 0.9731],[11440, 0.9881],[6589, 0.9624],[17170, 0.9714],[23012, 0.9861],[812, 0.9472],[969, 0.9317],[16042, 0.9894],[7906, 0.9891],[8652, 0.9539],[4310, 0.933],[5872, 0.9837],[1847, 0.9743],[8892, 0.9852],[1746, 0.9451],[1425, 0.9645],[620, 0.8083],[777, 0.8859],[18334, 0.9893],[19744, 0.9878],[891, 0.95],[17005, 0.9716],[709, 0.9388],[20271, 0.983],[409, 0.9319],[2285, 0.9628],[1747, 0.9705],[17170, 0.9745],[3826, 0.9799],[985, 0.9446],[20154, 0.9722],[12663, 0.981],[2251, 0.9634],[237, 0.7453],[7154, 0.9833],[22755, 0.9891],[2063, 0.9647],[2103, 0.9321],[1165, 0.8668],[2667, 0.9777],[2177, 0.9764],[1929, 0.9623],[3395, 0.9539],[186, 0.7189],[4562, 0.9889],[4498, 0.9817],[763, 0.9452],[4607, 0.9861],[2443, 0.9244],[1589, 0.9451],[2374, 0.9791],[303, 0.89],[42296, 0.9844],[2577, 0.978],[437, 0.8868],[906, 0.9456],[2620, 0.9362],[3806, 0.9833],[16778, 0.9871],[11282, 0.9832],[4115, 0.9674],[5715, 0.9748],[6371, 0.9853],[1522, 0.975],[3543, 0.9694],[1062, 0.9307],[256, 0.7372],[2061, 0.9741],[2618, 0.982],[11002, 0.9805],[1391, 0.9381],[4034, 0.9819],[2668, 0.9824],[649, 0.9581],[9628, 0.9858],[7242, 0.9834],[1825, 0.9675],[10812, 0.9848],[7546, 0.9826],[5618, 0.9847],[1174, 0.921],[633, 0.947],[3381, 0.9573],[31172, 0.9873],[7825, 0.9842],[35902, 0.9874],[1133, 0.8941],[587, 0.8834],[4437, 0.981],[1406, 0.9568],[2562, 0.9794],[1533, 0.9614],[10166, 0.981],[1564, 0.908],[703, 0.9431],[26485, 0.9702],[4875, 0.9645],[3025, 0.9638],[555, 0.9247],[6692, 0.9833],[1174, 0.9211],[1707, 0.9807],[9523, 0.9866],[13367, 0.9852],[263, 0.782],[1639, 0.9392],[721, 0.9661],[625, 0.9406],[18109, 0.9745],[2513, 0.953],[546, 0.8455],[959, 0.8957],[12640, 0.9856],[17200, 0.983],[1848, 0.9776],[768, 0.9483],[19704, 0.9894],[933, 0.9728],[17281, 0.9808],[23364, 0.9874],[9994, 0.9892],[3899, 0.9629],[546, 0.843],[16042, 0.9906],[2466, 0.9092],[17446, 0.9762],[10753, 0.9776],[9112, 0.9847],[34077, 0.9852],[525, 0.9194],[17098, 0.9886],[1272, 0.9019],[2086, 0.1064],[692, 0.9086],[7558, 0.9853],[2057, 0.9686],[6064, 0.9856],[18734, 0.9863],[3006, 0.9486],[12224, 0.9885],[1554, 0.9463],[837, 0.9569],[425, 0.847],[31980, 0.9721],[2368, 0.9394],[1017, 0.9595],[923, 0.9751],[278, 0.904],[1251, 0.9292],[1539, 0.9564],[2249, 0.9757],[4406, 0.9701],[6062, 0.1064],[1472, 0.9608],[1235, 0.915],[1251, 0.9214],[1477, 0.9636],[2678, 0.9819],[679, 0.9469],[1533, 0.9614],[36436, 0.9898],[6328, 0.9858],[26994, 0.9893],[4517, 0.9705],[4441, 0.9728],[36042, 0.9874],[1661, 0.9615],[6898, 0.9765],[1430, 0.9267],[14022, 0.9856],[766, 0.9431],[3688, 0.985],[1479, 0.9477],[2544, 0.9581],[26548, 0.9895],[34764, 0.9892],[2495, 0.8971],[1210, 0.1064],[15964, 0.9785],[970, 0.9689],[6227, 0.9819],[1664, 0.7556],[14804, 0.9865],[2943, 0.9783],[885, 0.9246],[2149, 0.9697],[3104, 0.9844],[1443, 0.9744],[1619, 0.9789],[5264, 0.9866],[1289, 0.8004],[9622, 0.986],[7500, 0.9867],[193, 0.4328],[1418, 0.1064],[4210, 0.9873],[1901, 0.9702],[26548, 0.9894],[2057, 0.9683],[5988, 0.9827],[979, 0.9704],[838, 0.9537],[11002, 0.9824],[901, 0.9514],[36328, 0.9896],[4720, 0.9851],[3110, 0.9798],[1105, 0.9516],[1391, 0.8546],[1637, 0.9787],[3986, 0.9818],[543, 0.9041],[336, 0.8856],[7225, 0.9673],[573, 0.9323],[2410, 0.9774],[3815, 0.9835],[19574, 0.9882],[5731, 0.9811],[2974, 0.9872],[12712, 0.9719],[15247, 0.9883],[2500, 0.9609],[17630, 0.988],[1619, 0.9785],[3809, 0.9796],[7225, 0.9679],[2068, 0.9733],[6478, 0.9852],[17204, 0.9878],[7607, 0.9827],[646, 0.7646],[9729, 0.9842],[11473, 0.9864],[3799, 0.9773],[837, 0.9573],[1763, 0.9544],[891, 0.9577],[1083, 0.9181],[5616, 0.987],[391, 0.8871],[766, 0.9436],[1365, 0.9804],[1755, 0.9613],[2571, 0.9631],[4826, 0.9345],[14948, 0.9854],[1474, 0.8633],[1647, 0.8048],[1430, 0.9361],[2415, 0.1064],[3979, 0.9797],[2219, 0.986],[1350, 0.9384],[24720, 0.9886],[729, 0.9377],[2387, 0.9692],[9467, 0.981],[1202, 0.9574],[491, 0.8005],[1870, 0.9573],[1723, 0.9814],[14948, 0.9851],[6750, 0.9724],[1316, 0.9503],[5891, 0.9824],[377, 0.8084],[2848, 0.9591],[6044, 0.9672],[1750, 0.9734],[3216, 0.9595],[933, 0.9716],[803, 0.9089],[4142, 0.971],[8973, 0.9807],[1630, 0.9791],[3796, 0.9854],[1435, 0.9575],[3951, 0.9767],[12224, 0.9888],[3191, 0.9685],[853, 0.9598],[3610, 0.9328],[4824, 0.9613],[1522, 0.9311],[664, 0.55],[1443, 0.9202],[7890, 0.9807],[1129, 0.9487],[26707, 0.9827],[2100, 0.9391],[1021, 0.968],[19213, 0.9847],[1472, 0.9633],[1175, 0.9635],[5539, 0.9665],[436, 0.8368],[2225, 0.9811],[544, 0.8874],[19322, 0.985],[1005, 0.8925],[1459, 0.9616],[2621, 0.9613],[2358, 0.9301],[3698, 0.9732],[2846, 0.9807],[2468, 0.9318],[4027, 0.9789],[15737, 0.9881],[6748, 0.9747],[803, 0.9118],[2346, 0.9521],[7492, 0.9742],[1459, 0.9603],[7567, 0.9719],[246, 0.8676],[26548, 0.9895],[1133, 0.9174],[1741, 0.9633],[3328, 0.1064],[308, 0.8276],[28650, 0.9892],[3047, 0.9558],[9232, 0.9821],[5988, 0.9832],[7180, 0.9862],[4325, 0.9821],[3543, 0.9705],[4378, 0.9809],[2399, 0.9796],[2158, 0.9805],[6004, 0.9818],[954, 0.9488],[1289, 0.8006],[3633, 0.97],[11694, 0.989],[1929, 0.962],[2197, 0.9682],[1098, 0.8858],[7276, 0.9865],[1556, 0.1064],[4203, 0.9839],[1877, 0.978],[15332, 0.9886],[3784, 0.9829],[1406, 0.9554],[1618, 0.9747],[1197, 0.9268],[1143, 0.9617],[2392, 0.9791],[1595, 0.9685],[923, 0.8972],[6256, 0.947],[303, 0.8887],[9318, 0.9818],[804, 0.7291],[381, 0.9036],[11530, 0.9884],[9166, 0.9829],[32799, 0.9856],[14490, 0.9816],[212, 0.7211],[4405, 0.9793],[5450, 0.7922],[2063, 0.9661],[37606, 0.9889],[42722, 0.986],[2462, 0.9826],[1777, 0.9668],[5257, 0.9828],[2347, 0.976],[1161, 0.9368],[1785, 0.973],[899, 0.8082],[10642, 0.972],[2618, 0.9817],[1172, 0.8794],[25996, 0.9872],[2859, 0.9437],[10994, 0.9773],[17557, 0.9828],[22512, 0.9853],[4363, 0.9776],[4001, 0.9843],[3108, 0.961],[710, 0.934],[1652, 0.9309],[5894, 0.9892],[683, 0.8979],[2035, 0.9055],[1763, 0.9555],[993, 0.9594],[513, 0.8767],[291, 0.8149],[5342, 0.9839],[13208, 0.9654],[10447, 0.9723],[7066, 0.9873],[6044, 0.8766],[2073, 0.9718],[2197, 0.6568],[20556, 0.9894],[27652, 0.4922],[443, 0.8643],[6896, 0.9833],[2439, 0.978],[2507, 0.9606],[4013, 0.9632],[1491, 0.8895],[39972, 0.9896],[9081, 0.9782],[3477, 0.9809],[645, 0.9073],[3442, 0.9781],[967, 0.9603],[14439, 0.9776],[30319, 0.9864],[5340, 0.6584],[3074, 0.9714],[227, 0.8617],[412, 0.1064],[15442, 0.983],[4223, 0.9752],[13911, 0.9811],[275, 0.1064],[23364, 0.9877],[1505, 0.976],[4203, 0.9715],[3799, 0.9762],[2846, 0.979],[16216, 0.9863],[6154, 0.9863],[13494, 0.9847],[913, 0.9372],[13015, 0.9826],[8614, 0.9757],[15190, 0.9881],[28204, 0.9901],[3167, 0.9804],[2012, 0.9458],[10753, 0.9765],[7363, 0.9636],[27688, 0.9857],[3261, 0.9671],[7492, 0.9745],[1785, 0.9741],[3543, 0.9701],[4084, 0.981],[1154, 0.922],[1154, 0.9171],[3047, 0.9599],[3273, 0.9769],[1472, 0.9631],[1172, 0.8775],[23716, 0.9886],[754, 0.938],[6225, 0.978],[443, 0.7649],[1005, 0.892],[5549, 0.9754],[5549, 0.9726],[8972, 0.9875],[2021, 0.9628],[3463, 0.9633],[6371, 0.985],[10674, 0.9787],[1961, 0.9216],[868, 0.9104],[337, 0.8876],[10394, 0.9879],[20271, 0.9831],[8597, 0.9853],[2239, 0.9231],[1212, 0.9422],[3868, 0.9846],[4441, 0.6603],[657, 0.9358],[224, 0.7285],[6080, 0.1064],[390, 0.848],[729, 0.9365],[5257, 0.9836],[5744, 0.9887],[1283, 0.9736],[2287, 0.9741],[947, 0.8849],[4072, 0.9779],[135, 0.6455],[2721, 0.9746],[963, 0.9047],[1340, 0.8727],[17779, 0.9871],[14452, 0.9797],[2561, 0.9805],[793, 0.9654],[2317, 0.9267],[4607, 0.9856],[2808, 0.9555],[587, 0.883],[345, 0.485],[453, 0.8399],[8597, 0.9832],[2128, 0.9423],[7492, 0.9744],[1809, 0.9553],[6932, 0.9747],[8604, 0.9891],[23326, 0.9896],[18734, 0.9845],[11396, 0.9845],[1754, 0.9792],[14726, 0.9896],[1035, 0.9414],[14980, 0.9867],[493, 0.9416],[868, 0.9105],[8860, 0.9776],[1246, 0.5212],[743, 0.1064],[19392, 0.9836],[22362, 0.1064],[4958, 0.7438],[620, 0.9404],[7890, 0.98],[2538, 0.9413],[10938, 0.9834],[10401, 0.9767],[796, 0.9494],[847, 0.8868],[10799, 0.9758],[1363, 0.9563],[32128, 0.9891],[485, 0.9269],[16618, 0.9713],[453, 0.9105],[275, 0.1064],[1415, 0.9761],[9048, 0.9865],[305, 0.8817],[2757, 0.9442],[1616, 0.9128],[1515, 0.9106],[5618, 0.9842],[1478, 0.8268],[1847, 0.9739],[3746, 0.9434],[3671, 0.9797],[4824, 0.9642],[2334, 0.9773],[4044, 0.9773],[1161, 0.9362],[303, 0.8873],[9119, 0.9863],[896, 0.912],[1046, 0.9446],[3493, 0.9711],[4630, 0.984],[5266, 0.9876],[836, 0.9488],[5577, 0.9791],[656, 0.878],[329, 0.9285],[1036, 0.8413],[1710, 0.9101],[356, 0.7012],[20186, 0.989],[3784, 0.9738],[1289, 0.8014],[10401, 0.9747],[26800, 0.9772],[3062, 0.9388],[22774, 0.9901],[5875, 0.9819],[793, 0.9651],[8805, 0.9646],[1291, 0.9608],[2563, 0.9844],[1305, 0.9208],[1483, 0.9704],[3573, 0.9647],[5670, 0.9742],[3081, 0.9782],[3784, 0.9758],[646, 0.7655],[2546, 0.9104],[2612, 0.9746],[1066, 0.972],[356, 0.7009],[7784, 0.9757],[741, 0.9266],[3102, 0.9784],[33912, 0.9856],[990, 0.9723],[2483, 0.9728],[15954, 0.9897],[1550, 0.8852],[3277, 0.9842],[8329, 0.9868],[13259, 0.9706],[1542, 0.9285],[22836, 0.9825],[4294, 0.9852],[1248, 0.9141],[11750, 0.9901],[5168, 0.9809],[544, 0.9352],[32799, 0.9868],[3232, 0.9806],[3389, 0.981],[1368, 0.9588],[813, 0.8017],[6862, 0.9624],[2368, 0.9379],[1488, 0.8923],[1268, 0.9477],[648, 0.9361],[6559, 0.9691],[8715, 0.9802],[6291, 0.9687],[599, 0.8448],[1151, 0.9464],[1359, 0.9207],[14452, 0.9804],[5051, 0.9857],[697, 0.9585],[603, 0.9329],[815, 0.824],[911, 0.9553],[28114, 0.989],[391, 0.8877],[15964, 0.9807],[1239, 0.7878],[8622, 0.9858],[2468, 0.9355],[8380, 0.9869],[1319, 0.9803],[15332, 0.9894],[2990, 0.9794],[2117, 0.9529],[4084, 0.9627],[5685, 0.9761],[6754, 0.9873],[31702, 0.9859],[2851, 0.9808],[14843, 0.9859],[11545, 0.9713],[933, 0.9726],[3508, 0.9829],[1124, 0.9584],[15615, 0.984],[962, 0.9449],[608, 0.9431],[1401, 0.9577],[7296, 0.9807],[2825, 0.9655],[2455, 0.9679],[1692, 0.9742],[10766, 0.982],[2453, 0.9782],[5715, 0.9765],[993, 0.928],[1368, 0.9594],[1552, 0.9779],[3962, 0.949],[620, 0.9409],[1665, 0.9553],[1503, 0.9572],[28798, 0.9879],[709, 0.9384],[4289, 0.9844],[38694, 0.9879],[1267, 0.9682],[19568, 0.9868],[2954, 0.7132],[2513, 0.9323],[17557, 0.9825],[15128, 0.9779],[5549, 0.9744],[5616, 0.9866],[3670, 0.9808],[5387, 0.9778],[23716, 0.9895],[2348, 0.9652],[20186, 0.9913],[453, 0.9112],[2240, 0.9636],[3986, 0.9802],[4574, 0.9785],[2103, 0.9329],[2207, 0.9691],[20561, 0.9812],[5891, 0.9788],[543, 0.9043],[799, 0.9341],[727, 0.9448],[4441, 0.6683],[11672, 0.987],[2956, 0.9838],[6111, 0.9726],[22236, 0.9814],[5440, 0.9878],[4610, 0.9775],[14298, 0.9893],[295, 0.5357],[2197, 0.6083],[7607, 0.985],[5891, 0.9809],[3352, 0.965],[4627, 0.983],[1350, 0.9695],[3905, 0.9757],[926, 0.8932],[998, 0.9028],[1428, 0.9427],[7490, 0.9891],[3305, 0.9618],[9119, 0.9858],[3403, 0.9726],[4222, 0.9833],[1469, 0.9187],[1664, 0.8035],[4252, 0.9811],[1173, 0.9729],[8927, 0.9819],[2309, 0.1064],[7688, 0.9752],[2901, 0.9807],[1418, 0.1064],[3905, 0.9804],[4462, 0.9609],[15554, 0.979],[1916, 0.9247],[13696, 0.9887],[961, 0.8956],[2455, 0.9674],[278, 0.9042],[1934, 0.9818],[20837, 0.9755],[664, 0.5467],[21946, 0.9855],[979, 0.9684],[1483, 0.9691],[1292, 0.918],[1607, 0.8744],[2054, 0.9629],[9474, 0.9884],[959, 0.8954],[674, 0.7201],[970, 0.968],[2956, 0.9864],[815, 0.825],[15052, 0.9729],[4462, 0.9607],[2043, 0.9487],[1273, 0.9774],[1239, 0.787],[8703, 0.9639],[683, 0.9026],[5603, 0.968],[23364, 0.9882],[437, 0.8867],[886, 0.9341],[9736, 0.9878],[8986, 0.9831],[2956, 0.9854],[1844, 0.9416],[2105, 0.9725],[840, 0.5663],[10290, 0.8737],[1741, 0.9645],[14338, 0.9785],[16594, 0.9869],[7447, 0.9827],[9848, 0.1064],[3514, 0.9585],[10466, 0.9686],[8805, 0.9667],[14439, 0.9772],[14337, 0.9831],[20926, 0.9841],[6212, 0.9838],[9729, 0.9835],[4432, 0.1064],[135, 0.6462],[472, 0.8051],[1189, 0.978],[886, 0.9338],[1577, 0.967],[1154, 0.9217],[6963, 0.9799],[1479, 0.9479],[3617, 0.9586],[1711, 0.96],[2054, 0.9426],[3331, 0.969],[9250, 0.9779],[531, 0.9255],[1637, 0.9425],[10623, 0.9803],[683, 0.896],[969, 0.9296],[5181, 0.9644],[41676, 0.9911],[4072, 0.9782],[3277, 0.9836],[998, 0.9223],[3493, 0.9713],[10753, 0.9788],[648, 0.9011],[1723, 0.9821],[1697, 0.9738],[3507, 0.9787],[10976, 0.9888],[1466, 0.9486],[3838, 0.949],[12992, 0.9887],[361, 0.8604],[4722, 0.9534],[13105, 0.9802],[701, 0.9388],[5050, 0.984],[390, 0.8017],[3389, 0.9806],[11750, 0.9907],[7304, 0.978],[623, 0.9411],[9203, 0.9843],[8213, 0.9877],[3127, 0.9627],[2639, 0.9809],[2884, 0.9882],[8860, 0.977],[3149, 0.9858],[7500, 0.9885],[482, 0.9277],[15794, 0.9863],[4878, 0.9803],[32537, 0.9761],[1239, 0.7889],[9508, 0.9851],[712, 0.8879],[2057, 0.9683],[1333, 0.9528],[1755, 0.9718],[642, 0.8537],[19574, 0.9885],[12645, 0.9785],[1036, 0.8411],[8459, 0.9722],[6119, 0.9869],[4187, 0.9847],[5760, 0.9821],[2098, 0.9529],[2797, 0.977],[12190, 0.9801],[7603, 0.9729],[2926, 0.978],[7991, 0.9857],[513, 0.8718],[1472, 0.1064],[4688, 0.985],[1911, 0.9747],[2225, 0.9695],[1952, 0.9431],[1462, 0.9797],[6155, 0.9859],[2571, 0.939],[32554, 0.9886],[19444, 0.9896],[1643, 0.975],[2894, 0.9485],[23064, 0.9893],[780, 0.9703],[4930, 0.9549],[2287, 0.9799],[485, 0.927],[1889, 0.9542],[20271, 0.9825],[2103, 0.9321],[8892, 0.9838],[8892, 0.9846],[2052, 0.9773],[15120, 0.988],[1785, 0.9741],[721, 0.966],[33815, 0.9872],[7352, 0.9869],[5747, 0.9801],[30896, 0.9858],[1281, 0.959],[4779, 0.9666],[10598, 0.9722],[7890, 0.9795],[15554, 0.9783],[22755, 0.9893],[1870, 0.9563],[3328, 0.1064],[20561, 0.9783],[15736, 0.9863],[692, 0.9088],[15120, 0.9865],[3081, 0.9784],[227, 0.8618],[1151, 0.9604],[345, 0.4874],[1350, 0.9709],[2323, 0.976],[1471, 0.9581],[422, 0.8515],[2323, 0.9765],[608, 0.9447],[2012, 0.9472],[1181, 0.9596],[2747, 0.9604],[2563, 0.9835],[8213, 0.9898],[1707, 0.9802],[1316, 0.9477],[3057, 0.9596],[5852, 0.9667],[2619, 0.9254],[1597, 0.9212],[1733, 0.9789],[599, 0.959],[1503, 0.9575],[2690, 0.9862],[481, 0.9011],[1003, 0.9719],[1055, 0.9712],[12577, 0.9771],[958, 0.9392],[1038, 0.9414],[1391, 0.9499],[9566, 0.9836],[19070, 0.9799],[914, 0.9674],[3605, 0.9844],[2576, 0.9835],[9848, 0.1064],[1084, 0.9364],[2355, 0.9674],[12464, 0.9855],[1001, 0.8412],[1785, 0.9741],[3149, 0.9848],[6119, 0.9856],[24420, 0.9903],[2462, 0.983],[495, 0.8411],[1335, 0.9617],[10978, 0.9824],[595, 0.8593],[1239, 0.7874],[1406, 0.9534],[275, 0.1064],[377, 0.899],[620, 0.9546],[685, 0.8444],[30502, 0.9903],[464, 0.8138],[274, 0.7821],[1472, 0.1064],[13485, 0.979],[625, 0.9414],[27763, 0.9782],[958, 0.9385],[2484, 0.9322],[2949, 0.9676],[16042, 0.9888],[804, 0.7286],[2132, 0.965],[10674, 0.9803],[1522, 0.9427],[954, 0.9487],[3062, 0.941],[3658, 0.9824],[2970, 0.9728],[288, 0.6861],[15247, 0.9876],[1753, 0.9737],[5060, 0.9491],[7099, 0.9639],[3034, 0.9715],[22755, 0.9887],[1459, 0.9644],[8268, 0.9812],[697, 0.9576],[3261, 0.9658],[6357, 0.6213],[29392, 0.9886],[12940, 0.9826],[3391, 0.9826],[1741, 0.9647],[4786, 0.9824],[2781, 0.9436],[6212, 0.9811],[371, 0.6012],[12224, 0.9877],[704, 0.9557],[2225, 0.9679],[1401, 0.9578],[1035, 0.9417],[21946, 0.9864],[7236, 0.9863],[3141, 0.9269],[457, 0.8953],[1181, 0.9583],[3778, 0.9847],[13485, 0.9782],[2252, 0.9823],[2239, 0.9235],[875, 0.9333],[2943, 0.979],[20096, 0.9871],[15120, 0.9854],[17319, 0.985],[26485, 0.9702],[2219, 0.9847],[1750, 0.9748],[620, 0.9545],[757, 0.9414],[6559, 0.9676],[9994, 0.9885],[7558, 0.9825],[1013, 0.971],[2293, 0.9545],[1401, 0.917],[3149, 0.9857],[3553, 0.9855],[9296, 0.9774],[253, 0.7945],[5539, 0.9652],[1905, 0.9717],[4044, 0.9769],[9250, 0.9811],[2063, 0.9661],[2035, 0.9331],[2287, 0.9798],[186, 0.7187],[5753, 0.9757],[13324, 0.9877],[646, 0.7657],[1001, 0.839],[9376, 0.9801],[15442, 0.98],[5215, 0.9798],[39972, 0.9901],[16352, 0.9853],[15800, 0.9889],[1081, 0.9533],[9784, 0.9864],[782, 0.8927],[681, 0.9266],[17779, 0.9869],[1740, 0.922],[1614, 0.8632],[742, 0.9712],[11327, 0.9859],[5608, 0.9666],[7876, 0.9822],[333, 0.9076],[21258, 0.976],[1031, 0.9172],[998, 0.9023],[977, 0.9214],[2648, 0.9369],[6478, 0.9847],[1384, 0.9608],[16036, 0.9893],[33912, 0.9862],[1856, 0.9784],[6748, 0.9748],[4788, 0.968],[6559, 0.9661],[2507, 0.9615],[13208, 0.966],[1591, 0.898],[808, 0.9431],[20096, 0.9874],[32111, 0.9817],[8032, 0.9867],[1748, 0.9066],[1550, 0.8889],[1696, 0.9764],[32000, 0.9885],[6559, 0.969],[5892, 0.7057],[1973, 0.9801],[3762, 0.7047],[1522, 0.9285],[490, 0.7802],[8342, 0.9862],[179, 0.7094],[1675, 0.9655],[1948, 0.9655],[19568, 0.9853],[725, 0.9216],[173, 0.6874],[2749, 0.9787],[8107, 0.9815],[3085, 0.9589],[135, 0.6457],[348, 0.8967],[2078, 0.9428],[782, 0.8875],[807, 0.9227],[27559, 0.9844],[234, 0.8389],[495, 0.8949],[2024, 0.9288],[16090, 0.9817],[1829, 0.9779],[725, 0.921],[754, 0.9283],[1433, 0.9591],[4779, 0.969],[1435, 0.958],[750, 0.9382],[2839, 0.9827],[10225, 0.9726],[6438, 0.9826],[13318, 0.9847],[780, 0.9716],[1001, 0.8396],[7750, 0.9797],[17503, 0.9871],[2636, 0.9685],[2035, 0.9007],[2299, 0.967],[2500, 0.958],[278, 0.9043],[1609, 0.9561],[864, 0.8843],[8459, 0.9727],[646, 0.8749],[2546, 0.966],[13049, 0.9864],[561, 0.9596],[16951, 0.9822],[1143, 0.9636],[227, 0.8616],[4862, 0.9847],[29392, 0.9889],[3333, 0.9656],[2495, 0.9019],[1552, 0.9784],[12746, 0.9857],[1934, 0.98],[2149, 0.9678],[1677, 0.9586],[27985, 0.9871],[450, 0.898],[10290, 0.8743],[1860, 0.9191],[1341, 0.8138],[2158, 0.9808],[5206, 0.9864],[314, 0.7429],[1396, 0.9346],[1977, 0.9646],[869, 0.9585],[9523, 0.9882],[2529, 0.9706],[1430, 0.9292],[12288, 0.9842],[1525, 0.9794],[1100, 0.9395],[10518, 0.9862],[2618, 0.9825],[6212, 0.9833],[3085, 0.9642],[295, 0.8548],[637, 0.9045],[1210, 0.1064],[337, 0.8855],[15204, 0.9833],[1064, 0.8437],[849, 0.9297],[939, 0.9369],[1365, 0.9771],[12316, 0.9835],[1409, 0.9412],[1165, 0.9558],[2095, 0.4783],[1505, 0.9748],[8193, 0.9862],[12464, 0.9847],[2177, 0.9757],[8420, 0.9885],[4072, 0.9781],[899, 0.904],[852, 0.914],[1750, 0.9743],\n",
    "#])\n",
    "\n",
    "smallnets_mnist_lenet_1 = array([\n",
    "[5771, 0.978],[2859, 0.9445],[9014, 0.9781],[2809, 0.9781],[944, 0.9212],[923, 0.8981],[840, 0.5194],[7490, 0.9883],[966, 0.8731],[3507, 0.98],[581, 0.7527],[1186, 0.909],[2002, 0.9811],[1331, 0.9237],[409, 0.9178],[1763, 0.9534],[748, 0.8946],[3174, 0.97],[35781, 0.9863],[2009, 0.9312],[2035, 0.9024],[11137, 0.9644],[7771, 0.9733],[814, 0.9537],[1207, 0.9724],[4773, 0.9608],[1830, 0.916],[1363, 0.9569],[9909, 0.9828],[4862, 0.9829],[19996, 0.9888],[8002, 0.9851],[21202, 0.9882],[713, 0.8921],[17503, 0.9873],[1285, 0.975],[914, 0.9697],[4378, 0.9832],[701, 0.9383],[3821, 0.9785],[1415, 0.9796],[22498, 0.9873],[3328, 0.1064],[7447, 0.9822],[3821, 0.9756],[10326, 0.9884],[1626, 0.622],[1619, 0.9788],[1388, 0.8842],[403, 0.9013],[5472, 0.9833],[9296, 0.9747],[7154, 0.9849],[1955, 0.9483],[32406, 0.9765],[396, 0.7805],[1013, 0.971],[1664, 0.9755],[8468, 0.8701],[665, 0.9027],[8213, 0.9888],[30502, 0.9898],[1319, 0.9801],[15737, 0.9875],[2109, 0.9559],[1591, 0.8961],[32128, 0.9871],[2298, 0.9624],[39310, 0.9898],[35190, 0.9883],[10046, 0.9887],[36754, 0.989],[1616, 0.9123],[3477, 0.9817],[1472, 0.9632],[4323, 0.982],[2373, 0.9761],[2158, 0.9796],[1370, 0.961],[3565, 0.9665],[13049, 0.9871],[1144, 0.9331],[2468, 0.9316],[15432, 0.9846],[743, 0.9391],[2439, 0.9781],[1404, 0.9673],[944, 0.9221],[3273, 0.9777],[122, 0.6218],[6357, 0.6277],[1016, 0.9523],[39972, 0.9913],[8805, 0.9704],[1252, 0.9773],[11327, 0.9862],[17319, 0.9859],[5164, 0.959],[4994, 0.9648],[20009, 0.5637],[3858, 0.9828],[6036, 0.9557],[7603, 0.98],[6919, 0.9828],[8202, 0.9592],[1035, 0.9568],[3186, 0.9791],[822, 0.967],[2017, 0.9844],[580, 0.8635],[7568, 0.9843],[12940, 0.9824],[1966, 0.8717],[2507, 0.962],[8744, 0.9699],[3232, 0.98],[9566, 0.9846],[531, 0.9243],[4217, 0.9702],[5225, 0.9729],[10290, 0.8763],[493, 0.9416],[4310, 0.9335],[4223, 0.9753],[1759, 0.974],[4294, 0.9848],[2239, 0.9241],[7890, 0.9813],[17503, 0.988],[2207, 0.9674],[985, 0.9459],[9848, 0.1064],[1813, 0.9746],[12270, 0.9642],[2808, 0.9564],[8614, 0.9755],[1485, 0.9143],[2504, 0.9424],[15554, 0.9789],\n",
    "])\n",
    "smallnets_mnist_lenet_2 = array([\n",
    "[4495, 0.9835],[529, 0.9044],[3335, 0.9779],[1255, 0.972],[5060, 0.9555],[485, 0.8372],[12544, 0.9764],[1049, 0.9423],[2252, 0.9819],[32128, 0.9892],[1916, 0.9278],[20285, 0.9796],[8268, 0.9822],[511, 0.8643],[511, 0.8251],[16618, 0.9688],[2958, 0.9684],[3496, 0.9833],[6820, 0.9822],[511, 0.866],[7225, 0.9692],[3638, 0.9592],[1361, 0.9651],[541, 0.8987],[6212, 0.9831],[27262, 0.9832],[5516, 0.8713],[3512, 0.9561],[1204, 0.6352],[3232, 0.9801],[2745, 0.9751],[5240, 0.9863],[5168, 0.983],[7090, 0.9839],[425, 0.8447],[1214, 0.9735],[979, 0.9662],[709, 0.9485],[1062, 0.9305],[1268, 0.8804],[6155, 0.9871],[8328, 0.9672],[1490, 0.9724],[9842, 0.9866],[422, 0.851],[11282, 0.9841],[15332, 0.9873],[13106, 0.9527],[230, 0.776],[10826, 0.9849],[15736, 0.9853],[1282, 0.929],[1840, 0.9822],[10384, 0.9887],[1493, 0.9324],[546, 0.845],[2251, 0.9661],[2619, 0.9218],[797, 0.972],[1336, 0.9734],[832, 0.9275],[1350, 0.9702],[2997, 0.9744],[2207, 0.9613],[1039, 0.9191],[24420, 0.9893],[2317, 0.9278],[2806, 0.9804],[20706, 0.6714],[5577, 0.9794],[997, 0.9674],[2581, 0.9812],[2470, 0.9664],[1312, 0.9756],[291, 0.8161],[17227, 0.983],[1240, 0.9431],[5569, 0.9673],[396, 0.7797],[1012, 0.9743],[862, 0.5415],[742, 0.9708],[2211, 0.9621],[1573, 0.9532],[4026, 0.9845],[1217, 0.9335],[553, 0.915],[4432, 0.1064],[19568, 0.9863],[3062, 0.9399],[1804, 0.9583],[6396, 0.9833],[21389, 0.9834],[569, 0.9345],[6396, 0.9816],[19996, 0.9897],[1930, 0.8891],[1618, 0.976],[2344, 0.9852],[490, 0.7805],[3352, 0.9649],[5168, 0.9818],[1493, 0.9341],[1209, 0.8852],[4223, 0.9778],[1637, 0.979],[30620, 0.9863],[2839, 0.9795],[620, 0.9412],[1517, 0.9657],[2956, 0.9773],[31685, 0.9726],[649, 0.9566],[14868, 0.9871],[2442, 0.9794],[17907, 0.9867],[8213, 0.9884],[43574, 0.9899],[33815, 0.9871],[3809, 0.9815],[1365, 0.9775],[1124, 0.96],[2469, 0.9755],[461, 0.8457],[3946, 0.9839],[33454, 0.987],[5516, 0.9859],[2956, 0.9859],[28540, 0.9905],[2944, 0.9858],[1430, 0.9358],[704, 0.9556],[453, 0.8399],[2750, 0.952],[13565, 0.9723],[573, 0.9324],[1710, 0.9114],[3172, 0.9814],[238, 0.7838],[17907, 0.9857],[1571, 0.9455],[1367, 0.8792],[6225, 0.977],[35902, 0.9864],[8972, 0.9877],[25996, 0.9871],[2546, 0.9645],[3620, 0.9854],[15554, 0.9774],[2035, 0.8944],[7165, 0.9655],[1747, 0.9728],[11440, 0.9879],[20706, 0.6751],[4864, 0.9782],[1643, 0.9615],[503, 0.9369],[3135, 0.9427],[8580, 0.9673],[2453, 0.9796],[8622, 0.9852],[625, 0.9409],[31980, 0.974],[1493, 0.9332],[1809, 0.9547],[1462, 0.9594],[3184, 0.9815],[31096, 0.9895],[2251, 0.9641],[4517, 0.9683],[519, 0.9429],[3915, 0.9679],[18382, 0.9847],[531, 0.9243],[24430, 0.9888],[970, 0.9681],[525, 0.9197],[122, 0.6211],[4931, 0.9748],[1934, 0.9796],[6173, 0.9845],[10665, 0.9794],[5016, 0.983],[6629, 0.9857],[1443, 0.9201],[17779, 0.9845],[11948, 0.9871],[513, 0.9208],[281, 0.8314],[12401, 0.9672],[32206, 0.9905],[1304, 0.8079],[403, 0.8991],[5401, 0.9777],[1359, 0.9357],[2063, 0.9316],[37746, 0.9884],[3553, 0.9814],[5650, 0.9688],[1950, 0.95],[414, 0.7282],[28504, 0.1064],[7567, 0.9702],[4252, 0.9808],[1310, 0.9592],[1462, 0.9716],[1016, 0.9739],[26272, 0.988],[10342, 0.9837],[2258, 0.9365],[719, 0.8939],[3322, 0.9826],[4083, 0.9865],[5085, 0.9538],[3127, 0.9714],[8805, 0.9718],[3105, 0.9815],[3477, 0.9824],[5212, 0.9832],[2563, 0.9842],[161, 0.6786],[7090, 0.9833],[1653, 0.9746],[6357, 0.6281],[435, 0.7941],[1754, 0.9807],[23188, 0.9856],[642, 0.8537],[2963, 0.9815],[1856, 0.9781],[12224, 0.9885],[1789, 0.9643],[2564, 0.9807],[4499, 0.9839],[1059, 0.9402],[6064, 0.986],[782, 0.8922],[2894, 0.948],[1813, 0.9759],[1916, 0.9808],[20706, 0.6733],[3511, 0.9636],[878, 0.6101],[573, 0.9327],[2380, 0.9847],[1909, 0.982],[959, 0.7043],[10952, 0.9782],[6690, 0.9758],[13318, 0.9834],[12544, 0.9759],[554, 0.8689],[710, 0.9341],[3465, 0.9695],[5753, 0.9768],[2947, 0.9851],[1240, 0.941],[1160, 0.91],[9842, 0.9848],[1034, 0.8733],[1571, 0.9458],[14490, 0.9803],[5340, 0.6486],[1172, 0.9625],[33684, 0.9788],[309, 0.8287],[1156, 0.9332],[1053, 0.9268],[2443, 0.9228],[13453, 0.9854],[1472, 0.9633],[19070, 0.9828],[2775, 0.9709],[998, 0.9039],[8816, 0.9837],[671, 0.9483],[11137, 0.9647],[3990, 0.9687],[1485, 0.9098],[1472, 0.9629],[808, 0.943],[10577, 0.9778],[3154, 0.9831],[5472, 0.9834],[5066, 0.9807],[15190, 0.9896],[2878, 0.9793],[4875, 0.9638],[543, 0.9042],[19574, 0.9867],[1743, 0.9471],[432, 0.9026],[2901, 0.9809],[649, 0.957],[14540, 0.9826],[2621, 0.962],[8640, 0.982],[1073, 0.9495],[10686, 0.985],[4405, 0.981],[10031, 0.9854],[511, 0.8647],[794, 0.9107],[1348, 0.977],[3273, 0.9777],[12847, 0.9857],[1529, 0.9829],[519, 0.9431],[847, 0.8715],[481, 0.9014],[2105, 0.9649],[4161, 0.9757],[2100, 0.9406],[18852, 0.9876],[9048, 0.9873],[422, 0.8552],[1459, 0.9623],[5448, 0.1064],[12031, 0.9867],[1190, 0.9513],[727, 0.9472],[342, 0.7855],[1870, 0.9549],[4726, 0.9822],[13049, 0.9878],[183, 0.7712],[3511, 0.963],[391, 0.8914],[1226, 0.9776],[1525, 0.9791],[3890, 0.9664],[1503, 0.9644],[2781, 0.9455],[3543, 0.9683],[5741, 0.9709],[1331, 0.9196],[885, 0.9278],[17506, 0.9843],[1703, 0.9484],[903, 0.8888],[19966, 0.9879],[969, 0.9313],[963, 0.9034],[1433, 0.9594],[4439, 0.9476],[1742, 0.9792],[5434, 0.9739],[13453, 0.9866],[1405, 0.8849],[6620, 0.9888],[7312, 0.9555],[1748, 0.9772],[6427, 0.9851],[192, 0.7327],[15432, 0.9847],[4707, 0.976],[2158, 0.979],[9729, 0.9842],[35190, 0.9891],[2411, 0.9662],[16951, 0.9823],[3349, 0.9757],[464, 0.8037],[847, 0.9281],[4310, 0.9378],[1750, 0.9749],[665, 0.8918],[2357, 0.9815],[5350, 0.9854],[2470, 0.9809],[782, 0.8951],[10447, 0.974],[1444, 0.9653],[1202, 0.9572],[1777, 0.9649],[2183, 0.9589],[1740, 0.9465],[2438, 0.9837],[13105, 0.9785],[7114, 0.9647],[1534, 0.9355],[1696, 0.9759],[7994, 0.9873],[1746, 0.945],[5194, 0.9773],[9272, 0.9875],[5852, 0.967],[11135, 0.9851],[1877, 0.9771],[1930, 0.8884],[1035, 0.9258],[1183, 0.9356],[1000, 0.9668],[25720, 0.9844],[447, 0.8247],[2788, 0.9584],[3905, 0.9708],[22362, 0.1064],[1877, 0.9781],[18852, 0.988],[2060, 0.9734],[4574, 0.9773],[1742, 0.9806],[968, 0.5767],[35781, 0.9872],[1210, 0.1064],[6440, 0.9813],[3291, 0.9316],[8213, 0.9878],[4654, 0.987],[6328, 0.9853],[451, 0.526],[1151, 0.9283],[460, 0.9292],[9112, 0.9855],[4829, 0.9816],[657, 0.9356],[17630, 0.9873],[308, 0.6976],[2298, 0.9611],[4441, 0.6366],[13485, 0.9803],[615, 0.9202],[1304, 0.808],[1245, 0.9536],[1300, 0.9259],[2098, 0.9534],[620, 0.9549],[701, 0.9367],[2215, 0.938],[8329, 0.9866],[671, 0.9512],[587, 0.8812],[1753, 0.9748],[6754, 0.9859],[2623, 0.9834],[953, 0.9182],[3232, 0.9446],[1443, 0.8405],[588, 0.8777],[7405, 0.9789],[1143, 0.9629],[1957, 0.9796],[15280, 0.9865],[1433, 0.9598],[450, 0.9068],[16216, 0.9867],[31947, 0.9838],[1477, 0.9642],[18331, 0.9883],[28372, 0.9838],[3391, 0.982],[2963, 0.9776],[21754, 0.9891],[14616, 0.9851],[970, 0.9677],[12586, 0.9895],[1654, 0.903],[1442, 0.9109],[1085, 0.5807],[20096, 0.987],[2529, 0.9474],[7906, 0.9869],[17281, 0.9818],[1144, 0.9352],[18058, 0.9876],[1740, 0.921],[180, 0.5147],[775, 0.9057],[3338, 0.9819],[4124, 0.988],[1291, 0.9608],[9232, 0.9803],[6105, 0.9782],[20556, 0.9891],[7242, 0.9831],[513, 0.8799],[620, 0.823],[2859, 0.9668],[2846, 0.9806],[557, 0.912],[3732, 0.9821],[1675, 0.9654],[408, 0.1064],[12270, 0.9645],[712, 0.8879],[2252, 0.9809],[797, 0.9721],[29650, 0.9885],[179, 0.7094],[12487, 0.9789],[12753, 0.9789],[645, 0.8989],[641, 0.962],[4432, 0.1064],[22362, 0.1064],[1381, 0.924],[6862, 0.9706],[1363, 0.8575],[1973, 0.9763],[2031, 0.925],[12030, 0.9904],[581, 0.7572],[2563, 0.9837],[1685, 0.6222],[13049, 0.9879],[2249, 0.9755],[2495, 0.9006],[25720, 0.9841],[17782, 0.9859],[7825, 0.9855],[595, 0.858],[3699, 0.9719],[490, 0.9486],[665, 0.9029],\n",
    "])\n",
    "smallnets_mnist_lenet_3 = array([\n",
    "[2776, 0.9635],[1226, 0.9171],[1950, 0.95],[4498, 0.967],[3809, 0.9801],[505, 0.9405],[4722, 0.953],[4674, 0.9866],[1754, 0.9595],[5266, 0.989],[436, 0.7829],[6357, 0.6288],[3062, 0.9383],[953, 0.9664],[11188, 0.9659],[1349, 0.9772],[4161, 0.9776],[1207, 0.9711],[12568, 0.9878],[19704, 0.9898],[2088, 0.954],[10384, 0.9892],[885, 0.9255],[443, 0.7639],[3915, 0.9671],[4161, 0.9777],[3057, 0.9579],[13809, 0.9847],[493, 0.9415],[27763, 0.987],[1468, 0.9482],[26800, 0.9742],[10952, 0.9797],[2859, 0.9453],[2801, 0.9715],[704, 0.948],[1522, 0.9313],[361, 0.8593],[1900, 0.9829],[939, 0.9322],[12640, 0.9851],[1117, 0.9811],[2562, 0.9788],[14885, 0.9871],[1933, 0.9828],[12788, 0.9774],[2517, 0.603],[13049, 0.9872],[8963, 0.9818],[1675, 0.9645],[722, 0.9447],[328, 0.7993],[16652, 0.9904],[7242, 0.9846],[2281, 0.9731],[11440, 0.9881],[6589, 0.9624],[17170, 0.9714],[23012, 0.9861],[812, 0.9472],[969, 0.9317],[16042, 0.9894],[7906, 0.9891],[8652, 0.9539],[4310, 0.933],[5872, 0.9837],[1847, 0.9743],[8892, 0.9852],[1746, 0.9451],[1425, 0.9645],[620, 0.8083],[777, 0.8859],[18334, 0.9893],[19744, 0.9878],[891, 0.95],[17005, 0.9716],[709, 0.9388],[20271, 0.983],[409, 0.9319],[2285, 0.9628],[1747, 0.9705],[17170, 0.9745],[3826, 0.9799],[985, 0.9446],[20154, 0.9722],[12663, 0.981],[2251, 0.9634],[237, 0.7453],[7154, 0.9833],[22755, 0.9891],[2063, 0.9647],[2103, 0.9321],[1165, 0.8668],[2667, 0.9777],[2177, 0.9764],[1929, 0.9623],[3395, 0.9539],[186, 0.7189],[4562, 0.9889],[4498, 0.9817],[763, 0.9452],[4607, 0.9861],[2443, 0.9244],[1589, 0.9451],[2374, 0.9791],[303, 0.89],[42296, 0.9844],[2577, 0.978],[437, 0.8868],[906, 0.9456],[2620, 0.9362],[3806, 0.9833],[16778, 0.9871],[11282, 0.9832],[4115, 0.9674],[5715, 0.9748],[6371, 0.9853],[1522, 0.975],[3543, 0.9694],[1062, 0.9307],[256, 0.7372],[2061, 0.9741],[2618, 0.982],[11002, 0.9805],[1391, 0.9381],[4034, 0.9819],[2668, 0.9824],[649, 0.9581],[9628, 0.9858],[7242, 0.9834],[1825, 0.9675],[10812, 0.9848],[7546, 0.9826],[5618, 0.9847],[1174, 0.921],[633, 0.947],[3381, 0.9573],[31172, 0.9873],[7825, 0.9842],[35902, 0.9874],[1133, 0.8941],[587, 0.8834],[4437, 0.981],[1406, 0.9568],[2562, 0.9794],[1533, 0.9614],[10166, 0.981],[1564, 0.908],[703, 0.9431],[26485, 0.9702],[4875, 0.9645],[3025, 0.9638],[555, 0.9247],[6692, 0.9833],[1174, 0.9211],[1707, 0.9807],[9523, 0.9866],[13367, 0.9852],[263, 0.782],[1639, 0.9392],[721, 0.9661],[625, 0.9406],[18109, 0.9745],[2513, 0.953],[546, 0.8455],[959, 0.8957],[12640, 0.9856],[17200, 0.983],[1848, 0.9776],[768, 0.9483],[19704, 0.9894],[933, 0.9728],[17281, 0.9808],[23364, 0.9874],[9994, 0.9892],[3899, 0.9629],[546, 0.843],[16042, 0.9906],[2466, 0.9092],[17446, 0.9762],[10753, 0.9776],[9112, 0.9847],[34077, 0.9852],[525, 0.9194],[17098, 0.9886],[1272, 0.9019],[2086, 0.1064],[692, 0.9086],[7558, 0.9853],[2057, 0.9686],[6064, 0.9856],[18734, 0.9863],[3006, 0.9486],[12224, 0.9885],[1554, 0.9463],[837, 0.9569],[425, 0.847],[31980, 0.9721],[2368, 0.9394],[1017, 0.9595],[923, 0.9751],[278, 0.904],[1251, 0.9292],[1539, 0.9564],[2249, 0.9757],[4406, 0.9701],[6062, 0.1064],[1472, 0.9608],[1235, 0.915],[1251, 0.9214],[1477, 0.9636],[2678, 0.9819],[679, 0.9469],[1533, 0.9614],[36436, 0.9898],[6328, 0.9858],[26994, 0.9893],[4517, 0.9705],[4441, 0.9728],[36042, 0.9874],[1661, 0.9615],[6898, 0.9765],[1430, 0.9267],[14022, 0.9856],[766, 0.9431],[3688, 0.985],[1479, 0.9477],[2544, 0.9581],[26548, 0.9895],[34764, 0.9892],[2495, 0.8971],[1210, 0.1064],[15964, 0.9785],[970, 0.9689],[6227, 0.9819],[1664, 0.7556],[14804, 0.9865],[2943, 0.9783],[885, 0.9246],[2149, 0.9697],[3104, 0.9844],[1443, 0.9744],[1619, 0.9789],[5264, 0.9866],[1289, 0.8004],[9622, 0.986],[7500, 0.9867],[193, 0.4328],[1418, 0.1064],[4210, 0.9873],[1901, 0.9702],[26548, 0.9894],[2057, 0.9683],[5988, 0.9827],[979, 0.9704],[838, 0.9537],[11002, 0.9824],[901, 0.9514],[36328, 0.9896],[4720, 0.9851],[3110, 0.9798],[1105, 0.9516],[1391, 0.8546],[1637, 0.9787],[3986, 0.9818],[543, 0.9041],[336, 0.8856],[7225, 0.9673],[573, 0.9323],[2410, 0.9774],[3815, 0.9835],[19574, 0.9882],[5731, 0.9811],[2974, 0.9872],[12712, 0.9719],[15247, 0.9883],[2500, 0.9609],[17630, 0.988],[1619, 0.9785],[3809, 0.9796],[7225, 0.9679],[2068, 0.9733],[6478, 0.9852],[17204, 0.9878],[7607, 0.9827],[646, 0.7646],[9729, 0.9842],[11473, 0.9864],[3799, 0.9773],[837, 0.9573],[1763, 0.9544],[891, 0.9577],[1083, 0.9181],[5616, 0.987],[391, 0.8871],[766, 0.9436],[1365, 0.9804],[1755, 0.9613],[2571, 0.9631],[4826, 0.9345],[14948, 0.9854],[1474, 0.8633],[1647, 0.8048],[1430, 0.9361],[2415, 0.1064],[3979, 0.9797],[2219, 0.986],[1350, 0.9384],[24720, 0.9886],[729, 0.9377],[2387, 0.9692],[9467, 0.981],[1202, 0.9574],[491, 0.8005],[1870, 0.9573],[1723, 0.9814],[14948, 0.9851],[6750, 0.9724],[1316, 0.9503],[5891, 0.9824],[377, 0.8084],[2848, 0.9591],[6044, 0.9672],[1750, 0.9734],[3216, 0.9595],[933, 0.9716],[803, 0.9089],[4142, 0.971],[8973, 0.9807],[1630, 0.9791],[3796, 0.9854],[1435, 0.9575],[3951, 0.9767],[12224, 0.9888],[3191, 0.9685],[853, 0.9598],[3610, 0.9328],[4824, 0.9613],[1522, 0.9311],[664, 0.55],[1443, 0.9202],[7890, 0.9807],[1129, 0.9487],[26707, 0.9827],[2100, 0.9391],[1021, 0.968],[19213, 0.9847],[1472, 0.9633],[1175, 0.9635],[5539, 0.9665],[436, 0.8368],[2225, 0.9811],[544, 0.8874],[19322, 0.985],[1005, 0.8925],[1459, 0.9616],[2621, 0.9613],[2358, 0.9301],[3698, 0.9732],[2846, 0.9807],[2468, 0.9318],[4027, 0.9789],[15737, 0.9881],[6748, 0.9747],[803, 0.9118],[2346, 0.9521],[7492, 0.9742],[1459, 0.9603],[7567, 0.9719],[246, 0.8676],[26548, 0.9895],[1133, 0.9174],[1741, 0.9633],[3328, 0.1064],[308, 0.8276],[28650, 0.9892],[3047, 0.9558],[9232, 0.9821],[5988, 0.9832],[7180, 0.9862],[4325, 0.9821],[3543, 0.9705],[4378, 0.9809],[2399, 0.9796],[2158, 0.9805],[6004, 0.9818],[954, 0.9488],[1289, 0.8006],[3633, 0.97],[11694, 0.989],[1929, 0.962],[2197, 0.9682],[1098, 0.8858],[7276, 0.9865],[1556, 0.1064],[4203, 0.9839],[1877, 0.978],[15332, 0.9886],[3784, 0.9829],[1406, 0.9554],[1618, 0.9747],[1197, 0.9268],[1143, 0.9617],[2392, 0.9791],[1595, 0.9685],[923, 0.8972],[6256, 0.947],[303, 0.8887],[9318, 0.9818],[804, 0.7291],[381, 0.9036],[11530, 0.9884],[9166, 0.9829],[32799, 0.9856],[14490, 0.9816],[212, 0.7211],[4405, 0.9793],[5450, 0.7922],[2063, 0.9661],[37606, 0.9889],[42722, 0.986],[2462, 0.9826],[1777, 0.9668],[5257, 0.9828],[2347, 0.976],[1161, 0.9368],[1785, 0.973],[899, 0.8082],[10642, 0.972],[2618, 0.9817],[1172, 0.8794],[25996, 0.9872],[2859, 0.9437],[10994, 0.9773],[17557, 0.9828],[22512, 0.9853],[4363, 0.9776],[4001, 0.9843],[3108, 0.961],[710, 0.934],[1652, 0.9309],[5894, 0.9892],[683, 0.8979],[2035, 0.9055],[1763, 0.9555],[993, 0.9594],[513, 0.8767],[291, 0.8149],[5342, 0.9839],[13208, 0.9654],[10447, 0.9723],[7066, 0.9873],[6044, 0.8766],[2073, 0.9718],[2197, 0.6568],[20556, 0.9894],[27652, 0.4922],[443, 0.8643],[6896, 0.9833],[2439, 0.978],[2507, 0.9606],[4013, 0.9632],[1491, 0.8895],[39972, 0.9896],[9081, 0.9782],[3477, 0.9809],[645, 0.9073],[3442, 0.9781],[967, 0.9603],[14439, 0.9776],[30319, 0.9864],[5340, 0.6584],[3074, 0.9714],[227, 0.8617],[412, 0.1064],[15442, 0.983],[4223, 0.9752],[13911, 0.9811],[275, 0.1064],[23364, 0.9877],[1505, 0.976],[4203, 0.9715],[3799, 0.9762],[2846, 0.979],[16216, 0.9863],[6154, 0.9863],[13494, 0.9847],[913, 0.9372],[13015, 0.9826],[8614, 0.9757],[15190, 0.9881],[28204, 0.9901],[3167, 0.9804],[2012, 0.9458],[10753, 0.9765],[7363, 0.9636],[27688, 0.9857],[3261, 0.9671],[7492, 0.9745],[1785, 0.9741],[3543, 0.9701],[4084, 0.981],[1154, 0.922],[1154, 0.9171],[3047, 0.9599],[3273, 0.9769],[1472, 0.9631],[1172, 0.8775],[23716, 0.9886],[754, 0.938],[6225, 0.978],[443, 0.7649],[1005, 0.892],[5549, 0.9754],[5549, 0.9726],[8972, 0.9875],[2021, 0.9628],[3463, 0.9633],[6371, 0.985],[10674, 0.9787],[1961, 0.9216],[868, 0.9104],[337, 0.8876],[10394, 0.9879],[20271, 0.9831],[8597, 0.9853],[2239, 0.9231],[1212, 0.9422],[3868, 0.9846],[4441, 0.6603],[657, 0.9358],[224, 0.7285],[6080, 0.1064],[390, 0.848],[729, 0.9365],[5257, 0.9836],[5744, 0.9887],[1283, 0.9736],[2287, 0.9741],[947, 0.8849],[4072, 0.9779],[135, 0.6455],[2721, 0.9746],[963, 0.9047],[1340, 0.8727],[17779, 0.9871],[14452, 0.9797],[2561, 0.9805],[793, 0.9654],[2317, 0.9267],[4607, 0.9856],[2808, 0.9555],[587, 0.883],[345, 0.485],[453, 0.8399],[8597, 0.9832],[2128, 0.9423],[7492, 0.9744],[1809, 0.9553],[6932, 0.9747],[8604, 0.9891],[23326, 0.9896],[18734, 0.9845],[11396, 0.9845],[1754, 0.9792],[14726, 0.9896],[1035, 0.9414],[14980, 0.9867],[493, 0.9416],[868, 0.9105],[8860, 0.9776],[1246, 0.5212],[743, 0.1064],[19392, 0.9836],[22362, 0.1064],[4958, 0.7438],[620, 0.9404],[7890, 0.98],[2538, 0.9413],[10938, 0.9834],[10401, 0.9767],[796, 0.9494],[847, 0.8868],[10799, 0.9758],[1363, 0.9563],[32128, 0.9891],[485, 0.9269],[16618, 0.9713],[453, 0.9105],[275, 0.1064],[1415, 0.9761],[9048, 0.9865],[305, 0.8817],[2757, 0.9442],[1616, 0.9128],[1515, 0.9106],[5618, 0.9842],[1478, 0.8268],[1847, 0.9739],[3746, 0.9434],[3671, 0.9797],[4824, 0.9642],[2334, 0.9773],[4044, 0.9773],[1161, 0.9362],[303, 0.8873],[9119, 0.9863],[896, 0.912],[1046, 0.9446],[3493, 0.9711],[4630, 0.984],[5266, 0.9876],[836, 0.9488],[5577, 0.9791],[656, 0.878],[329, 0.9285],[1036, 0.8413],[1710, 0.9101],[356, 0.7012],[20186, 0.989],[3784, 0.9738],[1289, 0.8014],[10401, 0.9747],[26800, 0.9772],[3062, 0.9388],[22774, 0.9901],[5875, 0.9819],[793, 0.9651],[8805, 0.9646],[1291, 0.9608],[2563, 0.9844],[1305, 0.9208],[1483, 0.9704],[3573, 0.9647],[5670, 0.9742],[3081, 0.9782],[3784, 0.9758],[646, 0.7655],[2546, 0.9104],[2612, 0.9746],[1066, 0.972],[356, 0.7009],[7784, 0.9757],[741, 0.9266],[3102, 0.9784],[33912, 0.9856],[990, 0.9723],[2483, 0.9728],[15954, 0.9897],[1550, 0.8852],[3277, 0.9842],[8329, 0.9868],[13259, 0.9706],[1542, 0.9285],[22836, 0.9825],[4294, 0.9852],[1248, 0.9141],[11750, 0.9901],[5168, 0.9809],[544, 0.9352],[32799, 0.9868],[3232, 0.9806],[3389, 0.981],[1368, 0.9588],[813, 0.8017],[6862, 0.9624],[2368, 0.9379],[1488, 0.8923],[1268, 0.9477],[648, 0.9361],[6559, 0.9691],[8715, 0.9802],[6291, 0.9687],[599, 0.8448],[1151, 0.9464],[1359, 0.9207],[14452, 0.9804],[5051, 0.9857],[697, 0.9585],[603, 0.9329],[815, 0.824],[911, 0.9553],[28114, 0.989],[391, 0.8877],[15964, 0.9807],[1239, 0.7878],[8622, 0.9858],[2468, 0.9355],[8380, 0.9869],[1319, 0.9803],[15332, 0.9894],[2990, 0.9794],[2117, 0.9529],[4084, 0.9627],[5685, 0.9761],[6754, 0.9873],[31702, 0.9859],[2851, 0.9808],[14843, 0.9859],[11545, 0.9713],[933, 0.9726],[3508, 0.9829],[1124, 0.9584],[15615, 0.984],[962, 0.9449],[608, 0.9431],[1401, 0.9577],[7296, 0.9807],[2825, 0.9655],[2455, 0.9679],[1692, 0.9742],[10766, 0.982],[2453, 0.9782],[5715, 0.9765],[993, 0.928],[1368, 0.9594],[1552, 0.9779],[3962, 0.949],[620, 0.9409],[1665, 0.9553],[1503, 0.9572],[28798, 0.9879],[709, 0.9384],[4289, 0.9844],[38694, 0.9879],[1267, 0.9682],[19568, 0.9868],[2954, 0.7132],[2513, 0.9323],[17557, 0.9825],[15128, 0.9779],[5549, 0.9744],[5616, 0.9866],[3670, 0.9808],[5387, 0.9778],[23716, 0.9895],[2348, 0.9652],[20186, 0.9913],[453, 0.9112],[2240, 0.9636],[3986, 0.9802],[4574, 0.9785],[2103, 0.9329],[2207, 0.9691],[20561, 0.9812],[5891, 0.9788],[543, 0.9043],[799, 0.9341],[727, 0.9448],[4441, 0.6683],[11672, 0.987],[2956, 0.9838],[6111, 0.9726],[22236, 0.9814],[5440, 0.9878],[4610, 0.9775],[14298, 0.9893],[295, 0.5357],[2197, 0.6083],[7607, 0.985],[5891, 0.9809],[3352, 0.965],[4627, 0.983],[1350, 0.9695],[3905, 0.9757],[926, 0.8932],[998, 0.9028],[1428, 0.9427],[7490, 0.9891],[3305, 0.9618],[9119, 0.9858],[3403, 0.9726],[4222, 0.9833],[1469, 0.9187],[1664, 0.8035],[4252, 0.9811],[1173, 0.9729],[8927, 0.9819],[2309, 0.1064],[7688, 0.9752],[2901, 0.9807],[1418, 0.1064],[3905, 0.9804],[4462, 0.9609],[15554, 0.979],[1916, 0.9247],[13696, 0.9887],[961, 0.8956],[2455, 0.9674],[278, 0.9042],[1934, 0.9818],[20837, 0.9755],[664, 0.5467],[21946, 0.9855],[979, 0.9684],[1483, 0.9691],[1292, 0.918],[1607, 0.8744],[2054, 0.9629],[9474, 0.9884],[959, 0.8954],[674, 0.7201],[970, 0.968],[2956, 0.9864],[815, 0.825],[15052, 0.9729],[4462, 0.9607],[2043, 0.9487],[1273, 0.9774],[1239, 0.787],[8703, 0.9639],[683, 0.9026],[5603, 0.968],[23364, 0.9882],[437, 0.8867],[886, 0.9341],[9736, 0.9878],[8986, 0.9831],[2956, 0.9854],[1844, 0.9416],[2105, 0.9725],[840, 0.5663],[10290, 0.8737],[1741, 0.9645],[14338, 0.9785],[16594, 0.9869],[7447, 0.9827],[9848, 0.1064],[3514, 0.9585],[10466, 0.9686],[8805, 0.9667],[14439, 0.9772],[14337, 0.9831],[20926, 0.9841],[6212, 0.9838],[9729, 0.9835],[4432, 0.1064],[135, 0.6462],[472, 0.8051],[1189, 0.978],[886, 0.9338],[1577, 0.967],[1154, 0.9217],[6963, 0.9799],[1479, 0.9479],[3617, 0.9586],[1711, 0.96],[2054, 0.9426],[3331, 0.969],[9250, 0.9779],[531, 0.9255],[1637, 0.9425],[10623, 0.9803],[683, 0.896],[969, 0.9296],[5181, 0.9644],[41676, 0.9911],[4072, 0.9782],[3277, 0.9836],[998, 0.9223],[3493, 0.9713],[10753, 0.9788],[648, 0.9011],[1723, 0.9821],[1697, 0.9738],[3507, 0.9787],[10976, 0.9888],[1466, 0.9486],[3838, 0.949],[12992, 0.9887],[361, 0.8604],[4722, 0.9534],[13105, 0.9802],[701, 0.9388],[5050, 0.984],[390, 0.8017],[3389, 0.9806],[11750, 0.9907],[7304, 0.978],[623, 0.9411],[9203, 0.9843],[8213, 0.9877],[3127, 0.9627],[2639, 0.9809],[2884, 0.9882],[8860, 0.977],[3149, 0.9858],[7500, 0.9885],[482, 0.9277],[15794, 0.9863],[4878, 0.9803],[32537, 0.9761],[1239, 0.7889],[9508, 0.9851],[712, 0.8879],[2057, 0.9683],[1333, 0.9528],[1755, 0.9718],[642, 0.8537],[19574, 0.9885],[12645, 0.9785],[1036, 0.8411],[8459, 0.9722],[6119, 0.9869],[4187, 0.9847],[5760, 0.9821],[2098, 0.9529],[2797, 0.977],[12190, 0.9801],[7603, 0.9729],[2926, 0.978],[7991, 0.9857],[513, 0.8718],[1472, 0.1064],[4688, 0.985],[1911, 0.9747],[2225, 0.9695],[1952, 0.9431],[1462, 0.9797],[6155, 0.9859],[2571, 0.939],[32554, 0.9886],[19444, 0.9896],[1643, 0.975],[2894, 0.9485],[23064, 0.9893],[780, 0.9703],[4930, 0.9549],[2287, 0.9799],[485, 0.927],[1889, 0.9542],[20271, 0.9825],[2103, 0.9321],[8892, 0.9838],[8892, 0.9846],[2052, 0.9773],[15120, 0.988],[1785, 0.9741],[721, 0.966],[33815, 0.9872],[7352, 0.9869],[5747, 0.9801],[30896, 0.9858],[1281, 0.959],[4779, 0.9666],[10598, 0.9722],[7890, 0.9795],[15554, 0.9783],[22755, 0.9893],[1870, 0.9563],[3328, 0.1064],[20561, 0.9783],[15736, 0.9863],[692, 0.9088],[15120, 0.9865],[3081, 0.9784],[227, 0.8618],[1151, 0.9604],[345, 0.4874],[1350, 0.9709],[2323, 0.976],[1471, 0.9581],[422, 0.8515],[2323, 0.9765],[608, 0.9447],[2012, 0.9472],[1181, 0.9596],[2747, 0.9604],[2563, 0.9835],[8213, 0.9898],[1707, 0.9802],[1316, 0.9477],[3057, 0.9596],[5852, 0.9667],[2619, 0.9254],[1597, 0.9212],[1733, 0.9789],[599, 0.959],[1503, 0.9575],[2690, 0.9862],[481, 0.9011],[1003, 0.9719],[1055, 0.9712],[12577, 0.9771],[958, 0.9392],[1038, 0.9414],[1391, 0.9499],[9566, 0.9836],[19070, 0.9799],[914, 0.9674],[3605, 0.9844],[2576, 0.9835],[9848, 0.1064],[1084, 0.9364],[2355, 0.9674],[12464, 0.9855],[1001, 0.8412],[1785, 0.9741],[3149, 0.9848],[6119, 0.9856],[24420, 0.9903],[2462, 0.983],[495, 0.8411],[1335, 0.9617],[10978, 0.9824],[595, 0.8593],[1239, 0.7874],[1406, 0.9534],[275, 0.1064],[377, 0.899],[620, 0.9546],[685, 0.8444],[30502, 0.9903],[464, 0.8138],[274, 0.7821],[1472, 0.1064],[13485, 0.979],[625, 0.9414],[27763, 0.9782],[958, 0.9385],[2484, 0.9322],[2949, 0.9676],[16042, 0.9888],[804, 0.7286],[2132, 0.965],[10674, 0.9803],[1522, 0.9427],[954, 0.9487],[3062, 0.941],[3658, 0.9824],[2970, 0.9728],[288, 0.6861],[15247, 0.9876],[1753, 0.9737],[5060, 0.9491],[7099, 0.9639],[3034, 0.9715],[22755, 0.9887],[1459, 0.9644],[8268, 0.9812],[697, 0.9576],[3261, 0.9658],[6357, 0.6213],[29392, 0.9886],[12940, 0.9826],[3391, 0.9826],[1741, 0.9647],[4786, 0.9824],[2781, 0.9436],[6212, 0.9811],[371, 0.6012],[12224, 0.9877],[704, 0.9557],[2225, 0.9679],[1401, 0.9578],[1035, 0.9417],[21946, 0.9864],[7236, 0.9863],[3141, 0.9269],[457, 0.8953],[1181, 0.9583],[3778, 0.9847],[13485, 0.9782],[2252, 0.9823],[2239, 0.9235],[875, 0.9333],[2943, 0.979],[20096, 0.9871],[15120, 0.9854],[17319, 0.985],[26485, 0.9702],[2219, 0.9847],[1750, 0.9748],[620, 0.9545],[757, 0.9414],[6559, 0.9676],[9994, 0.9885],[7558, 0.9825],[1013, 0.971],[2293, 0.9545],[1401, 0.917],[3149, 0.9857],[3553, 0.9855],[9296, 0.9774],[253, 0.7945],[5539, 0.9652],[1905, 0.9717],[4044, 0.9769],[9250, 0.9811],[2063, 0.9661],[2035, 0.9331],[2287, 0.9798],[186, 0.7187],[5753, 0.9757],[13324, 0.9877],[646, 0.7657],[1001, 0.839],[9376, 0.9801],[15442, 0.98],[5215, 0.9798],[39972, 0.9901],[16352, 0.9853],[15800, 0.9889],[1081, 0.9533],[9784, 0.9864],[782, 0.8927],[681, 0.9266],[17779, 0.9869],[1740, 0.922],[1614, 0.8632],[742, 0.9712],[11327, 0.9859],[5608, 0.9666],[7876, 0.9822],[333, 0.9076],[21258, 0.976],[1031, 0.9172],[998, 0.9023],[977, 0.9214],[2648, 0.9369],[6478, 0.9847],[1384, 0.9608],[16036, 0.9893],[33912, 0.9862],[1856, 0.9784],[6748, 0.9748],[4788, 0.968],[6559, 0.9661],[2507, 0.9615],[13208, 0.966],[1591, 0.898],[808, 0.9431],[20096, 0.9874],[32111, 0.9817],[8032, 0.9867],[1748, 0.9066],[1550, 0.8889],[1696, 0.9764],[32000, 0.9885],[6559, 0.969],[5892, 0.7057],[1973, 0.9801],[3762, 0.7047],[1522, 0.9285],[490, 0.7802],[8342, 0.9862],[179, 0.7094],[1675, 0.9655],[1948, 0.9655],[19568, 0.9853],[725, 0.9216],[173, 0.6874],[2749, 0.9787],[8107, 0.9815],[3085, 0.9589],[135, 0.6457],[348, 0.8967],[2078, 0.9428],[782, 0.8875],[807, 0.9227],[27559, 0.9844],[234, 0.8389],[495, 0.8949],[2024, 0.9288],[16090, 0.9817],[1829, 0.9779],[725, 0.921],[754, 0.9283],[1433, 0.9591],[4779, 0.969],[1435, 0.958],[750, 0.9382],[2839, 0.9827],[10225, 0.9726],[6438, 0.9826],[13318, 0.9847],[780, 0.9716],[1001, 0.8396],[7750, 0.9797],[17503, 0.9871],[2636, 0.9685],[2035, 0.9007],[2299, 0.967],[2500, 0.958],[278, 0.9043],[1609, 0.9561],[864, 0.8843],[8459, 0.9727],[646, 0.8749],[2546, 0.966],[13049, 0.9864],[561, 0.9596],[16951, 0.9822],[1143, 0.9636],[227, 0.8616],[4862, 0.9847],[29392, 0.9889],[3333, 0.9656],[2495, 0.9019],[1552, 0.9784],[12746, 0.9857],[1934, 0.98],[2149, 0.9678],[1677, 0.9586],[27985, 0.9871],[450, 0.898],[10290, 0.8743],[1860, 0.9191],[1341, 0.8138],[2158, 0.9808],[5206, 0.9864],[314, 0.7429],[1396, 0.9346],[1977, 0.9646],[869, 0.9585],[9523, 0.9882],[2529, 0.9706],[1430, 0.9292],[12288, 0.9842],[1525, 0.9794],[1100, 0.9395],[10518, 0.9862],[2618, 0.9825],[6212, 0.9833],[3085, 0.9642],[295, 0.8548],[637, 0.9045],[1210, 0.1064],[337, 0.8855],[15204, 0.9833],[1064, 0.8437],[849, 0.9297],[939, 0.9369],[1365, 0.9771],[12316, 0.9835],[1409, 0.9412],[1165, 0.9558],[2095, 0.4783],[1505, 0.9748],[8193, 0.9862],[12464, 0.9847],[2177, 0.9757],[8420, 0.9885],[4072, 0.9781],[899, 0.904],[852, 0.914],[1750, 0.9743],\n",
    "])\n",
    "smallnets_mnist_lenet = vstack((smallnets_mnist_lenet_1, smallnets_mnist_lenet_2, smallnets_mnist_lenet_3))"
   ]
  },
  {
   "cell_type": "code",
   "execution_count": null,
   "metadata": {
    "collapsed": true
   },
   "outputs": [],
   "source": [
    "# mnist_subspace_lenet=array([\n",
    "# [100, 0.7543],[200, 0.8771],[225, 0.8909],[250, 0.8977],[260, 0.9018],[275, 0.9004],[290, 0.9086],[300, 0.9093],[310, 0.9141],[325, 0.9152],[350, 0.9196],[375, 0.9212],[380, 0.9214],[390, 0.9223],[400, 0.9201],[410, 0.9226],[420, 0.9229],[425, 0.9188],[450, 0.9289],[475, 0.9314],[500, 0.9312],[550, 0.941],[600, 0.9432],[1000, 0.96],[1100, 0.9638],[1200, 0.9645],[1300, 0.9647],[1400, 0.9682],[1500, 0.9687],[2000, 0.9751],[2500, 0.9763],[3000, 0.9805],[3500, 0.98],[4000, 0.9805],[4500, 0.9832],[5000, 0.9826],[10000, 0.986],[20000, 0.9868],[30000, 0.9873],[40000, 0.9864],[44426, 0.9875]       \n",
    "# ])\n",
    "\n",
    "direct_mnist_lenet = array([\n",
    "    [0, 0.9915],[0, 0.991],[0, 0.99]\n",
    "])\n",
    "\n",
    "subspace_mnist_lenet = array([\n",
    "    [10, 0.1293],[10, 0.1293],[10, 0.1293],[50, 0.5696],[50, 0.5696],[50, 0.5698],[75, 0.6698],[75, 0.6702],[75, 0.6697],[100, 0.7627],[100, 0.7625],[100, 0.7625],[150, 0.8358],[150, 0.8355],[150, 0.836],[200, 0.8641],[200, 0.8643],[200, 0.8641],[225, 0.8691],[225, 0.8698],[225, 0.8698],[250, 0.887],[250, 0.887],[250, 0.8861],[260, 0.8894],[260, 0.8892],[260, 0.8891],[275, 0.8979],[275, 0.8982],[275, 0.8977],[290, 0.9017],[290, 0.9009],[290, 0.9011],[300, 0.903],[300, 0.9029],[300, 0.9031],[310, 0.9016],[310, 0.9017],[310, 0.9017],[325, 0.9113],[325, 0.9112],[325, 0.9112],[350, 0.9159],[350, 0.9172],[350, 0.9165],[375, 0.9161],[375, 0.9159],[375, 0.9162],[380, 0.9179],[380, 0.9176],[380, 0.9173],[390, 0.9204],[390, 0.9196],[390, 0.9202],[400, 0.9211],[400, 0.9211],[400, 0.9209],[410, 0.9233],[410, 0.9237],[410, 0.9233],[420, 0.9239],[420, 0.9261],[420, 0.9256],[425, 0.9249],[425, 0.9272],[425, 0.9253],[450, 0.9298],[450, 0.9301],[450, 0.9299],[475, 0.9339],[475, 0.9342],[475, 0.934],[500, 0.9395],[500, 0.939],[500, 0.9391],[550, 0.9355],[550, 0.9353],[550, 0.9352],[600, 0.9407],[600, 0.9404],[600, 0.9405],[1000, 0.9625],[1000, 0.9633],[1000, 0.9626],[1100, 0.9643],[1100, 0.9646],[1100, 0.9639],[1200, 0.9649],[1200, 0.9652],[1200, 0.9654],[1300, 0.9658],[1300, 0.9659],[1300, 0.9655],[1400, 0.9682],[1400, 0.9678],[1400, 0.9682],[1500, 0.9685],[1500, 0.969],[1500, 0.969],[2000, 0.9757],[2000, 0.9753],[2000, 0.9751],[2500, 0.9765],[2500, 0.9775],[2500, 0.9772],[3000, 0.9809],[3000, 0.9801],[3000, 0.9806],[3500, 0.9804],[3500, 0.9801],[3500, 0.9799],[4000, 0.9807],[4000, 0.9804],[4000, 0.9809],[4500, 0.9827],[4500, 0.9831],[4500, 0.9834],[5000, 0.9841],[5000, 0.9826],[5000, 0.9834],[7500, 0.9847],[7500, 0.984],[7500, 0.9841],[10000, 0.9858],[10000, 0.984],[10000, 0.9856],[15000, 0.9863],[15000, 0.9876],[15000, 0.9863],[20000, 0.9872],[20000, 0.9862],[20000, 0.9882],[25000, 0.9871],[25000, 0.9866],[25000, 0.9876],[30000, 0.9892],[30000, 0.9878],[30000, 0.9888],[35000, 0.9877],[35000, 0.9917],[35000, 0.988],[40000, 0.9875],[40000, 0.9872],[40000, 0.9897],[42000, 0.9898],[42000, 0.9896],[42000, 0.9893],[44426, 0.9897],[44426, 0.9878],[44426, 0.9907]\n",
    "])\n",
    "\n",
    "data_mnist_lenet =  vstack((direct_mnist_lenet,subspace_mnist_lenet))"
   ]
  },
  {
   "cell_type": "code",
   "execution_count": null,
   "metadata": {
    "collapsed": true
   },
   "outputs": [],
   "source": [
    "plot_perf_cmp(smallnets_mnist_lenet, False, 'mnist_small_direct_lenet_linear')"
   ]
  },
  {
   "cell_type": "code",
   "execution_count": null,
   "metadata": {
    "collapsed": true
   },
   "outputs": [],
   "source": [
    "plot_perf_cmp(smallnets_mnist_lenet, True, 'mnist_small_direct_lenet_log')"
   ]
  },
  {
   "cell_type": "code",
   "execution_count": null,
   "metadata": {
    "collapsed": true
   },
   "outputs": [],
   "source": [
    "plot_perf_cmp_trainable(smallnets_mnist_lenet, subspace_mnist_lenet, False, 'mnist_cmp_lenet_linear')"
   ]
  },
  {
   "cell_type": "code",
   "execution_count": null,
   "metadata": {
    "collapsed": true
   },
   "outputs": [],
   "source": [
    "plot_perf_cmp_trainable(smallnets_mnist_lenet, subspace_mnist_lenet, True, 'mnist_cmp_lenet_log')"
   ]
  },
  {
   "cell_type": "code",
   "execution_count": null,
   "metadata": {
    "collapsed": true
   },
   "outputs": [],
   "source": [
    "plot_perf_dim(data_mnist_lenet, logx=False, saveas=None)"
   ]
  },
  {
   "cell_type": "code",
   "execution_count": null,
   "metadata": {
    "collapsed": true
   },
   "outputs": [],
   "source": [
    "plot_perf_dim(data_mnist_lenet, logx=True, saveas=None)"
   ]
  },
  {
   "cell_type": "code",
   "execution_count": null,
   "metadata": {
    "collapsed": true
   },
   "outputs": [],
   "source": [
    "#figsize(15,15)\n",
    "#plot_perf_cmp(smallnets_mnist_lenet_1, True, mfc=(1, .5, .5))\n",
    "#plot_perf_cmp(smallnets_mnist_lenet_2, True, mfc=(1, .75, .5))\n",
    "#plot_perf_cmp(smallnets_mnist_lenet_3, True, mfc=(1, 1, .5))"
   ]
  },
  {
   "cell_type": "markdown",
   "metadata": {},
   "source": [
    "### CIFAR MLP"
   ]
  },
  {
   "cell_type": "markdown",
   "metadata": {},
   "source": [
    "Result directories like ```tiny_cifar_mlp_dir/171024_235023_3e19a7a_lrb_tiny_cifar_mlp_dir_0001/```\n",
    "\n",
    "Collect using\n",
    "\n",
    "```\n",
    "for dir in 17*; do echo -n \"[`cat $dir/diary | grep 'final_stats total_params' | gk 4`, `cat $dir/diary | grep 'final_stats val_accuracy' | gk 4`],\"; done\n",
    "```"
   ]
  },
  {
   "cell_type": "code",
   "execution_count": null,
   "metadata": {
    "collapsed": true,
    "scrolled": true
   },
   "outputs": [],
   "source": [
    "smallnets_cifar_mlp = array([\n",
    "    [6194, 0.2187],[31170, 0.4199],[6200, 0.1979],[6200, 0.1931],[15455, 0.3694],[15455, 0.3693],[24674, 0.3994],[31060, 0.4137],[31280, 0.4187],[62510, 0.4395],[6188, 0.2637],[15545, 0.35],[9271, 0.3218],[31280, 0.4064],[6176, 0.2606],[31060, 0.414],[6188, 0.2674],[6176, 0.2603],[24962, 0.3993],[31280, 0.4078],[24746, 0.3964],[31060, 0.415],[9283, 0.3004],[46495, 0.4466],[24890, 0.3909],[24890, 0.3961],[24818, 0.4031],[77735, 0.4553],[46255, 0.4323],[15545, 0.3605],[24890, 0.386],[31170, 0.4153],[31280, 0.42],[9295, 0.3007],[24962, 0.3927],[15545, 0.3584],[15545, 0.3438],[15455, 0.3691],[31170, 0.4209],[79035, 0.4501],[31280, 0.4085],[47215, 0.4293],[24674, 0.4007],[79035, 0.4496],[9271, 0.3237],[9283, 0.2988],[9283, 0.2793],[46255, 0.4292],[6176, 0.2601],[78385, 0.4546],[9283, 0.3088],[30950, 0.4269],[61670, 0.4356],[62930, 0.4568],[9259, 0.3199],[24818, 0.4022],[6194, 0.2223],[31280, 0.4065],[24746, 0.3945],[24746, 0.3974],[6200, 0.1972],[77735, 0.4539],[24962, 0.383],[9259, 0.3199],[6182, 0.2627],[24818, 0.4024],[31060, 0.4112],[9283, 0.2794],[31280, 0.4151],[62930, 0.4547],[62930, 0.4513],[79035, 0.4579],[9283, 0.3002],[78385, 0.456],[9307, 0.2911],[31170, 0.4151],[31060, 0.4058],[77735, 0.4584],[30840, 0.4144],[62090, 0.4452],[62930, 0.4536],[9283, 0.2983],[31060, 0.4095],[79685, 0.4577],[79685, 0.4512],[9307, 0.3081],[24818, 0.4058],[15455, 0.3695],[9307, 0.3197],[15425, 0.3631],[62090, 0.4463],[6200, 0.1924],[6176, 0.2607],[15545, 0.3618],[24674, 0.3994],[24962, 0.3964],[46255, 0.4296],[15425, 0.3615],[31170, 0.4168],[31060, 0.4043],[24674, 0.4054],[30840, 0.4124],[63350, 0.4474],[47215, 0.4288],[6200, 0.2056],[9259, 0.3202],[79035, 0.4554],[31170, 0.4166],[30840, 0.4126],[15485, 0.3607],[62090, 0.4537],[63350, 0.4433],[31060, 0.413],[6176, 0.26],[6188, 0.221],[24818, 0.4017],[78385, 0.455],[9283, 0.3004],[9283, 0.3002],[6176, 0.2606],[9283, 0.2992],[77085, 0.4497],[15425, 0.3618],[30840, 0.4127],[6182, 0.2609],[15455, 0.3682],[15455, 0.3701],[46975, 0.4397],[6182, 0.2631],[30950, 0.4219],[15485, 0.3624],[24746, 0.3953],[47215, 0.4376],[15515, 0.3547],[30950, 0.4199],[24746, 0.3944],[6200, 0.1915],[6182, 0.2611],[24818, 0.4026],[15455, 0.3699],[15515, 0.3593],[15515, 0.3388],[47215, 0.4348],[31170, 0.4144],[46495, 0.4399],[31060, 0.4096],[15485, 0.3573],[46255, 0.4253],[6182, 0.2622],[15425, 0.3607],[79035, 0.4475],[77085, 0.4448],[6188, 0.2602],[31280, 0.4125],[31280, 0.4111],[9259, 0.3193],[9271, 0.324],[46975, 0.4345],[46255, 0.4259],[61670, 0.4333],[15545, 0.3525],[6200, 0.1977],[24746, 0.3965],[77735, 0.4633],[46255, 0.4348],[61670, 0.4416],[9283, 0.2986],[6182, 0.261],[6176, 0.2604],[24890, 0.3912],[6194, 0.2592],[15545, 0.3433],[15545, 0.3469],[31060, 0.4066],[9295, 0.3003],[9307, 0.32],[30840, 0.4127],[6188, 0.2579],[9271, 0.3232],[61670, 0.4348],[46495, 0.4403],[24962, 0.3947],[15545, 0.3556],[79035, 0.4552],[46255, 0.4258],[46735, 0.4396],[47215, 0.4258],[62510, 0.4541],[24962, 0.3894],[46735, 0.4297],[30840, 0.4144],[31170, 0.416],[15425, 0.3612],[77085, 0.4449],[6200, 0.2041],[46255, 0.4259],[30840, 0.4113],[9307, 0.3115],[31280, 0.4229],[77085, 0.4475],[6176, 0.2602],[63350, 0.4401],[31280, 0.4094],[31280, 0.4168],[46735, 0.4337],[30950, 0.4253],[9295, 0.3077],[78385, 0.455],[15515, 0.3613],[46495, 0.4389],[15425, 0.3631],[30840, 0.4149],[24674, 0.3995],[6182, 0.2601],[47215, 0.4317],[46495, 0.4404],[9295, 0.307],[61670, 0.4452],[46975, 0.4404],[24962, 0.3923],[24890, 0.3808],[24746, 0.3966],[61670, 0.4409],[46495, 0.4392],[77735, 0.4566],[15485, 0.3578],[30950, 0.424],[24962, 0.3864],[77735, 0.457],[46255, 0.4271],[77085, 0.4491],[24890, 0.4029],[9295, 0.3087],[6182, 0.262],[77085, 0.4435],[79035, 0.454],[46495, 0.4361],[79685, 0.451],[31280, 0.4117],[24962, 0.383],[6200, 0.1926],[30840, 0.4131],[61670, 0.4407],[63350, 0.44],[62510, 0.4448],[46495, 0.4446],[9283, 0.3001],[24890, 0.3983],[9259, 0.3197],[46495, 0.4376],[47215, 0.4317],[78385, 0.4572],[77735, 0.4569],[6176, 0.2603],[9271, 0.3216],[46975, 0.4352],[24890, 0.3932],[9307, 0.3212],[6188, 0.2558],[9295, 0.3067],[30950, 0.4193],[15455, 0.3715],[30950, 0.4199],[63350, 0.4459],[46255, 0.4258],[24962, 0.3926],[15455, 0.3722],[79035, 0.4531],[62510, 0.4461],[24674, 0.4051],[46735, 0.4396],[46495, 0.4379],[15515, 0.3347],[77085, 0.4479],[63350, 0.4435],[9259, 0.3207],[61670, 0.4336],[31060, 0.4134],[62930, 0.4523],[15425, 0.3616],[9259, 0.3199],[61670, 0.4395],[6188, 0.2206],[15515, 0.3583],[77735, 0.4563],[31280, 0.4158],[31280, 0.4085],[9259, 0.3193],[79035, 0.453],[9271, 0.3228],[24818, 0.3969],[46255, 0.4289],[9283, 0.2801],[6188, 0.234],[46735, 0.4354],[61670, 0.4376],[6194, 0.2146],[9283, 0.2993],[46975, 0.437],[24674, 0.4059],[62510, 0.4556],[31280, 0.4149],[9307, 0.29],[30950, 0.4195],[78385, 0.462],[9295, 0.3075],[31280, 0.4131],[62930, 0.4491],[6176, 0.2603],[30950, 0.4165],[24890, 0.3953],[30950, 0.4268],[77085, 0.4463],[24890, 0.3979],[24818, 0.4056],[6200, 0.1994],[47215, 0.4257],[24818, 0.4041],[9307, 0.319],[24746, 0.3941],[77735, 0.4591],[15455, 0.3686],[9283, 0.2988],[31280, 0.4139],[6200, 0.196],[15515, 0.3585],[6194, 0.213],[61670, 0.4403],[15455, 0.3695],[6194, 0.2174],[79685, 0.4574],[62930, 0.4484],[24890, 0.3954],[9259, 0.3199],[9259, 0.3203],[30950, 0.4202],[31280, 0.4196],[78385, 0.4534],[9295, 0.3007],[9271, 0.3235],[24746, 0.3928],[31060, 0.409],[62510, 0.4466],[6194, 0.2164],[9307, 0.3188],[63350, 0.4408],[31060, 0.4064],[78385, 0.4542],[15515, 0.3387],[15485, 0.3634],[30840, 0.4124],[6194, 0.2175],[9283, 0.2775],[46735, 0.438],[31170, 0.4133],[62090, 0.4473],[62090, 0.4472],[77735, 0.456],[6194, 0.2144],[30840, 0.4118],[15545, 0.3485],[15485, 0.36],[24746, 0.3957],[47215, 0.4272],[24890, 0.3788],[9307, 0.3217],[9283, 0.2998],[62510, 0.4493],[63350, 0.4449],[6188, 0.2195],[15425, 0.3621],[15425, 0.3619],[24674, 0.4],[24818, 0.4014],[78385, 0.4606],[62930, 0.4546],[9259, 0.3209],[62510, 0.457],[30950, 0.4198],[46735, 0.4347],[62090, 0.4441],[6176, 0.2601],[24674, 0.4064],[46255, 0.4257],[6182, 0.2631],[15545, 0.3634],[9307, 0.3086],[46495, 0.4393],[24674, 0.4008],[24746, 0.3926],[30840, 0.4129],[9283, 0.3],[31280, 0.4198],[31060, 0.4093],[62090, 0.4401],[31060, 0.412],[9307, 0.3113],[77085, 0.448],[46735, 0.4383],[15485, 0.3583],[30950, 0.4186],[62090, 0.4501],[62510, 0.4398],[79685, 0.4509],[15545, 0.3488],[62510, 0.4538],[30950, 0.4196],[30840, 0.4155],[24890, 0.3944],[31280, 0.4158],[30950, 0.4171],[24674, 0.4047],[77085, 0.4452],[6188, 0.2607],[6200, 0.1939],[6182, 0.2604],[63350, 0.4513],[9259, 0.3203],[6176, 0.2603],[24674, 0.4073],[79035, 0.4489],[46255, 0.4318],[79685, 0.4498],[31060, 0.411],[9283, 0.2976],[63350, 0.4465],[9295, 0.3066],[6182, 0.2602],[6182, 0.2595],[31280, 0.4041],[6200, 0.194],[46255, 0.428],[9271, 0.3211],[31060, 0.4085],[9259, 0.3203],[77085, 0.4439],[6188, 0.2616],[46255, 0.4288],[15425, 0.3618],[6188, 0.2554],[24818, 0.4036],[46495, 0.4454],[30840, 0.4122],[24818, 0.4024],[24674, 0.3999],[6188, 0.2305],[78385, 0.4536],[15545, 0.3472],[77085, 0.4466],[30840, 0.4137],[24890, 0.3938],[15485, 0.3578],[9295, 0.3083],[24674, 0.407],[47215, 0.4339],[47215, 0.4407],[62090, 0.448],[30950, 0.4174],[15425, 0.3619],[15425, 0.361],[9295, 0.3089],[15455, 0.3703],[46495, 0.441],[24890, 0.3989],[9271, 0.3214],[15515, 0.3395],[15485, 0.36],[46975, 0.4517],[46255, 0.4247],[9307, 0.2942],[79685, 0.4434],[6188, 0.2558],[6188, 0.2663],[9283, 0.3009],[15455, 0.3714],[63350, 0.4464],[77085, 0.4463],[15485, 0.3632],[46975, 0.4397],[30840, 0.4128],[6176, 0.2603],[6176, 0.2601],[9271, 0.3249],[6176, 0.2601],[6176, 0.2601],[77735, 0.4504],[62510, 0.4397],[24890, 0.4009],[15425, 0.3616],[9295, 0.3105],[6176, 0.2598],[15515, 0.3586],[24746, 0.393],[24746, 0.3968],[78385, 0.4489],[31170, 0.423],[9271, 0.3236],[46735, 0.4338],[61670, 0.4407],[46255, 0.4268],[6188, 0.2652],[6200, 0.1943],[31280, 0.4173],[79035, 0.4468],[77085, 0.4481],[15545, 0.353],[6176, 0.2603],[79685, 0.453],[15455, 0.3689],[31280, 0.4123],[30950, 0.4242],[31060, 0.4072],[24962, 0.3838],[15485, 0.3636],[77735, 0.4575],[63350, 0.4439],[15425, 0.3624],[15455, 0.3693],[15485, 0.3696],[24962, 0.3938],[77085, 0.4439],[62930, 0.4523],[6182, 0.2611],[46495, 0.4392],[24674, 0.3996],[6194, 0.2199],[62930, 0.4532],[15545, 0.3488],[47215, 0.4388],[9283, 0.3003],[30840, 0.4129],[24962, 0.3773],[30950, 0.4233],[78385, 0.4552],[24818, 0.3989],[15425, 0.3627],[62930, 0.452],[46735, 0.4365],[61670, 0.4382],[24746, 0.3937],[24818, 0.4034],[15485, 0.357],[30840, 0.4137],[9271, 0.3241],[9307, 0.3217],[31280, 0.4155],[15455, 0.371],[6176, 0.26],[6200, 0.1926],[62510, 0.4468],[47215, 0.4342],[62930, 0.4458],[31280, 0.4141],[62090, 0.4495],[6182, 0.2623],[6200, 0.199],[62090, 0.4549],[62930, 0.4542],[77085, 0.4456],[6194, 0.2088],[24962, 0.3859],[9259, 0.3198],[6200, 0.1956],[47215, 0.4286],[77085, 0.4465],[9271, 0.324],[78385, 0.4557],[15545, 0.3487],[78385, 0.4525],[15545, 0.3512],[6200, 0.1981],[78385, 0.449],[6176, 0.2601],[78385, 0.4484],[77085, 0.4442],[9307, 0.2951],[46735, 0.4338],[62510, 0.4462],[6182, 0.2603],[79685, 0.4495],[78385, 0.4567],[61670, 0.4407],[9295, 0.3029],[24674, 0.4065],[24674, 0.3993],[63350, 0.445],[9259, 0.3208],[63350, 0.4392],[9259, 0.3202],[15455, 0.3725],[77735, 0.4515],[15455, 0.3696],[63350, 0.4391],[6188, 0.26],[15455, 0.3701],[79685, 0.4572],[9307, 0.3092],[46255, 0.4261],[24962, 0.3925],[31280, 0.4122],[9271, 0.32],[79035, 0.4565],[6200, 0.193],[30840, 0.4132],[31060, 0.4087],[78385, 0.4527],[6200, 0.197],[62930, 0.4557],[62510, 0.4533],[9295, 0.2987],[9271, 0.3208],[79035, 0.4495],[6194, 0.2109],[46975, 0.4432],[31170, 0.4217],[31170, 0.4173],[15485, 0.3622],[6182, 0.2593],[6182, 0.2601],[6182, 0.2598],[9271, 0.3244],[9307, 0.322],[6194, 0.216],[62510, 0.4405],[6188, 0.2636],[46255, 0.4368],[24746, 0.3951],[9259, 0.3199],[9307, 0.3205],[46255, 0.4332],[31060, 0.4111],[77085, 0.4473],[79685, 0.4595],[31060, 0.4075],[30950, 0.4195],[15515, 0.3394],[9259, 0.3202],[6194, 0.2171],[9283, 0.2999],[24746, 0.396],[46735, 0.4396],[15455, 0.3682],[78385, 0.4557],[6176, 0.2611],[79685, 0.4547],[6200, 0.1946],[62930, 0.4613],[24746, 0.3969],[9307, 0.319],[15515, 0.3622],[79685, 0.4528],[62510, 0.4537],[77085, 0.4435],[6176, 0.2601],[30950, 0.4209],[62510, 0.449],[79685, 0.4611],[30950, 0.4172],[15455, 0.3719],[63350, 0.4427],[61670, 0.4434],[9259, 0.3199],[31280, 0.4112],[9295, 0.3107],[24962, 0.3894],[6200, 0.1945],[61670, 0.4449],[77085, 0.4471],[6194, 0.2241],[15545, 0.358],[79035, 0.4543],[46495, 0.4384],[15515, 0.3572],[6182, 0.27],[46255, 0.4243],[79035, 0.4585],[46975, 0.4369],[15545, 0.3572],[77735, 0.4501],[15455, 0.3703],[9283, 0.2984],[46255, 0.4296],[9295, 0.3002],[61670, 0.439],[77735, 0.4555],[31060, 0.4107],[24890, 0.3897],[15485, 0.3654],[46735, 0.441],[15485, 0.3585],[24746, 0.396],[46495, 0.4372],[31170, 0.4199],[9283, 0.2976],[6200, 0.1958],[9295, 0.3096],[24674, 0.4044],[77735, 0.4521],[62930, 0.4622],[6188, 0.2673],[46975, 0.4413],[46975, 0.4465],[24746, 0.3944],[31060, 0.4086],[30840, 0.4119],[15425, 0.3628],[77085, 0.4451],[46255, 0.4267],[77735, 0.4577],[77085, 0.4459],[24890, 0.4012],[61670, 0.4388],[63350, 0.4449],[79685, 0.451],[24962, 0.3934],[46975, 0.4442],[30950, 0.4199],[31170, 0.4215],[47215, 0.4349],[15485, 0.3608],[61670, 0.4424],[62510, 0.4544],[61670, 0.4436],[63350, 0.4568],[46735, 0.4355],[62510, 0.4462],[46255, 0.4245],[46255, 0.4288],[77085, 0.4515],[15485, 0.3585],[62930, 0.4512],[9295, 0.2983],[62930, 0.4519],[24818, 0.3992],[47215, 0.4393],[61670, 0.4362],[9271, 0.3233],[30950, 0.4199],[6182, 0.2625],[77085, 0.4439],[9271, 0.3242],[46495, 0.4366],[63350, 0.4423],[24818, 0.4033],[79685, 0.4544],[6182, 0.2607],[62090, 0.4467],[47215, 0.4313],[30950, 0.42],[31170, 0.4234],[77735, 0.4573],[79035, 0.4544],[77085, 0.4442],[9271, 0.3232],[78385, 0.4527],[77085, 0.4433],[24962, 0.3872],[46255, 0.4285],[78385, 0.4614],[62510, 0.4522],[30840, 0.4124],[24962, 0.3844],[77735, 0.4572],[30840, 0.4141],[15485, 0.3584],[24746, 0.3953],[30840, 0.4127],[46495, 0.4355],[6176, 0.2607],[9283, 0.2784],[31060, 0.4068],[30840, 0.4148],[30950, 0.4198],[79035, 0.4566],[79035, 0.4606],[6200, 0.1986],[9271, 0.3229],[79685, 0.4516],[24890, 0.3893],[9283, 0.3014],[24962, 0.3931],[24890, 0.3923],[47215, 0.4439],[9259, 0.3199],[31060, 0.4105],[15515, 0.357],[24674, 0.3995],[46735, 0.4336],[15515, 0.3587],[6200, 0.192],[31280, 0.4166],[46495, 0.4449],[46735, 0.4332],[9259, 0.3201],[46495, 0.4403],[63350, 0.446],[15485, 0.3633],[77085, 0.4453],[78385, 0.4567],[62510, 0.4482],[46735, 0.4306],[9283, 0.2994],[9271, 0.3218],[9259, 0.3199],[62090, 0.4488],[46735, 0.4413],[15455, 0.3723],[77085, 0.4477],[15455, 0.3699],[78385, 0.4535],[15485, 0.3575],[79685, 0.4519],[6176, 0.2606],[24746, 0.3928],[78385, 0.4556],[6182, 0.2609],[9283, 0.2976],[9259, 0.3202],[6200, 0.1912],[31060, 0.4125],[9271, 0.3234],[9307, 0.3193],[46975, 0.4301],[62090, 0.4497],[15545, 0.3544],[63350, 0.4443],[30840, 0.413],[79685, 0.4592],[31060, 0.4089],[31170, 0.4198],[79035, 0.4516],[79685, 0.449],[61670, 0.4381],[77085, 0.4466],[6176, 0.2607],[62930, 0.4491],[6182, 0.2631],[79035, 0.4586],[30840, 0.4132],[6176, 0.261],[9283, 0.3003],[31280, 0.4156],[31060, 0.4089],[46255, 0.4376],[46735, 0.4352],[24962, 0.3913],[24818, 0.4008],[15425, 0.3615],[6182, 0.2612],[46495, 0.4456],[46495, 0.4437],[9271, 0.3231],[15425, 0.3619],[31170, 0.4162],[62510, 0.4492],[9307, 0.292],[62510, 0.4525],[30950, 0.419],[47215, 0.4386],[9295, 0.3016],[6182, 0.2594],[47215, 0.4292],[15455, 0.3703],[24746, 0.3965],[79035, 0.4515],[46495, 0.4373],[6200, 0.2001],[15455, 0.3711],[46495, 0.4381],[63350, 0.4423],[6182, 0.2594],[6194, 0.2137],[62510, 0.4382],[9271, 0.3239],[24746, 0.3957],[77735, 0.4579],[46975, 0.4316],[9295, 0.3098],[9307, 0.3133],[9295, 0.3089],[24962, 0.3889],[61670, 0.4392],[24962, 0.3878],[30950, 0.4264],[15515, 0.3549],[79685, 0.4452],[46255, 0.4272],[77085, 0.4464],[30840, 0.412],[24890, 0.4002],[24890, 0.3919],[79685, 0.4531],[62930, 0.4525],[63350, 0.4438],[9283, 0.2795],[6182, 0.2599],[9283, 0.2624],[78385, 0.4512],[46975, 0.441],[6194, 0.2136],[77085, 0.4455],[31060, 0.412],[24818, 0.3976],[30840, 0.4145],[46975, 0.4356],[46975, 0.4387],[31060, 0.4116],[77735, 0.4556],[15515, 0.3618],[77085, 0.4478],[24746, 0.3924],[9259, 0.3201],[79035, 0.4547],[9259, 0.32],[46255, 0.4269],[30840, 0.4144],[62930, 0.4489],[24674, 0.3994],[6182, 0.2621],[46735, 0.4324],[15485, 0.3568],[46735, 0.4428],[79685, 0.457],[9259, 0.3203],[9283, 0.2993],[79035, 0.4608],[77085, 0.4474],[15545, 0.3613],[77735, 0.4544],[79035, 0.4472],[24818, 0.4035],[77735, 0.4533],[46495, 0.4433],[46975, 0.4325],[62510, 0.4567],[15515, 0.3589],[79035, 0.4551],[62510, 0.452],[9271, 0.3242],[15515, 0.3607],[46975, 0.4418],[15455, 0.369],[24962, 0.3847],[77085, 0.4504],[6176, 0.2606],[9259, 0.3202],[15455, 0.3715],[62510, 0.4494],[31280, 0.4096],[31060, 0.4053],[46255, 0.4242],[79035, 0.4593],[30950, 0.4166],[30950, 0.4253],[6188, 0.2618],[77085, 0.4439],[15425, 0.362],[77735, 0.4598],[9259, 0.3199],[78385, 0.449],[9283, 0.3102],[79685, 0.4526],[15425, 0.3602],[24674, 0.4064],[24890, 0.4053],[9271, 0.3238],[24674, 0.4045],[79035, 0.4626],[9271, 0.3222],[46255, 0.4286],[30950, 0.4202],[15485, 0.368],[9271, 0.325],[31060, 0.4123],[9271, 0.3239],[6176, 0.2607],[31170, 0.424],[30950, 0.4236],[6194, 0.2224],[15485, 0.3582],[77085, 0.4478],[6194, 0.2547],[31060, 0.4081],[24962, 0.3887],[24890, 0.3914],[46975, 0.4415],[6194, 0.2161],[9295, 0.3084],[77085, 0.4506],[47215, 0.4336],[9307, 0.3207],[30840, 0.4116],[31170, 0.4212],[15515, 0.3557],[62930, 0.4523],[6176, 0.2602],[15425, 0.3615],[9271, 0.3206],[24818, 0.3957],[15425, 0.3643],[61670, 0.445],[15515, 0.339],[6176, 0.2603],[24890, 0.3907],[15485, 0.359],[77735, 0.4506],[15545, 0.3472],[46495, 0.4315],[6188, 0.2171],\n",
    "])"
   ]
  },
  {
   "cell_type": "code",
   "execution_count": null,
   "metadata": {
    "collapsed": true
   },
   "outputs": [],
   "source": [
    "cifar_direct_mlp_w23 = array([\n",
    "    [0, 0.5061],[0, 0.5085],[0, 0.5061],[0, 0.5136],[0, 0.5124],[0, 0.5086]\n",
    "])\n",
    "\n",
    "cifar_subspace_mlp_w23 = array([\n",
    "    [1000, 0.3485],[1000, 0.3418],[1000, 0.3424],[1000, 0.3482],[1000, 0.3413],[1000, 0.3485],[2000, 0.3926],[2000, 0.3939],[2000, 0.3936],[2000, 0.3921],[2000, 0.3931],[2000, 0.3922],[3000, 0.4122],[3000, 0.4072],[3000, 0.4074],[3000, 0.4122],[3000, 0.4071],[3000, 0.4125],[4000, 0.4272],[4000, 0.4264],[4000, 0.4259],[4000, 0.4267],[4000, 0.4243],[4000, 0.427],[5000, 0.4319],[5000, 0.4325],[5000, 0.4369],[5000, 0.4383],[5000, 0.4313],[5000, 0.438],[5250, 0.4356],[5250, 0.4354],[5250, 0.4335],[5250, 0.4406],[5250, 0.4411],[5250, 0.4387],[5500, 0.4393],[5500, 0.4395],[5500, 0.4394],[5500, 0.438],[5500, 0.4361],[5500, 0.4402],[5750, 0.4433],[5750, 0.4396],[5750, 0.4433],[5750, 0.4398],[5750, 0.4396],[5750, 0.4437],[6000, 0.4423],[6000, 0.4391],[6000, 0.4428],[6000, 0.4422],[6000, 0.4454],[6000, 0.4421],[6000, 0.4416],[6250, 0.4463],[6250, 0.4458],[6250, 0.4482],[6250, 0.4435],[6250, 0.4432],[6250, 0.4463],[6250, 0.4426],[6500, 0.4481],[6500, 0.4447],[6500, 0.4433],[6500, 0.4523],[6500, 0.4502],[6500, 0.4427],[6500, 0.4497],[6750, 0.4473],[6750, 0.45],[6750, 0.444],[6750, 0.4505],[6750, 0.4509],[6750, 0.4465],[7000, 0.4486],[7000, 0.4513],[7000, 0.4495],[7000, 0.449],[7000, 0.4533],[7000, 0.4532],[7250, 0.4494],[7250, 0.457],[7250, 0.4558],[7250, 0.4508],[7250, 0.4498],[7250, 0.4591],[7500, 0.4595],[7500, 0.4562],[7500, 0.4585],[7500, 0.4582],[7500, 0.457],[7500, 0.4551],[7750, 0.4579],[7750, 0.4555],[7750, 0.4561],[7750, 0.455],[7750, 0.4564],[7750, 0.4566],[8000, 0.4617],[8000, 0.4607],[8000, 0.462],[8000, 0.4601],[8000, 0.4595],[8000, 0.4597],[8500, 0.4581],[8500, 0.4586],[8500, 0.4573],[8500, 0.4589],[8500, 0.4571],[8500, 0.4566],[9000, 0.4581],[9000, 0.4605],[9000, 0.4645],[9000, 0.46],[9000, 0.4609],[9000, 0.4645],[10000, 0.4699],[10000, 0.4608],[10000, 0.4704],[10000, 0.4642],[10000, 0.461],[10000, 0.4679],[12500, 0.472],[12500, 0.473],[12500, 0.475],[12500, 0.4681],[12500, 0.468],[12500, 0.469],[15000, 0.4775],[15000, 0.4822],[15000, 0.474],[15000, 0.4712],[15000, 0.4838],[15000, 0.4825],[20000, 0.4816],[20000, 0.4847],[20000, 0.4797],[20000, 0.4807],[20000, 0.485],[20000, 0.4825],[30000, 0.4948],[30000, 0.4965],[30000, 0.4865],[30000, 0.4833],[30000, 0.4969],[30000, 0.4815],[40000, 0.4887],[40000, 0.4822],[40000, 0.489],[40000, 0.4757],[40000, 0.4885],[40000, 0.4779],[50000, 0.4886],[50000, 0.4768],[50000, 0.4761],[50000, 0.4838],[50000, 0.4912],[50000, 0.4876],[60000, 0.484],[60000, 0.4926],[60000, 0.4823],[60000, 0.4805],[60000, 0.4787],[60000, 0.4937],[70000, 0.4811],[70000, 0.486],[70000, 0.4884],[70000, 0.4849],[70000, 0.4891],[70000, 0.4897],[79685, 0.4823],[79685, 0.4856],[79685, 0.4879],[79685, 0.4786],[79685, 0.4875],[79685, 0.4801]\n",
    "])\n",
    "data_cifar_subspace_mlp_w23 =  vstack((cifar_direct_mlp_w23,cifar_subspace_mlp_w23))\n",
    "\n",
    "\n",
    "cifar_subspace_mlp_L2_high_d = array([\n",
    "    [250, 0.2299],[500, 0.2932],[750, 0.3211],[1000, 0.3519],[1250, 0.3587],[1500, 0.3759],[1750, 0.3851],[1900, 0.3835],[1950, 0.3904],[2000, 0.3935],[2050, 0.3993],[2100, 0.3981],[2250, 0.3985],[2500, 0.3984],[3000, 0.4125],[4000, 0.4305],[5000, 0.4399],[5250, 0.438],[5500, 0.4463],[5750, 0.4452],[6000, 0.4478],[6250, 0.4467],[6500, 0.4528],[6750, 0.4534],[7000, 0.4607],[7250, 0.4586],[7500, 0.4537],[7750, 0.4596],[8000, 0.46],[8250, 0.4622],[8500, 0.4595],[8750, 0.4662],[9000, 0.4646],[9250, 0.4618],[9500, 0.4688],[9750, 0.4687],[10000, 0.4677],[15000, 0.486],[20000, 0.4902],[25000, 0.4866],[30000, 0.4906],[35000, 0.4861],[40000, 0.4826],[45000, 0.4847],[50000, 0.4883]\n",
    "])\n",
    "\n",
    "cifar_subspace_mlp_low_d = array([\n",
    "    [1000, 0.3453],[2000, 0.3857],[3000, 0.4142],[4000, 0.4288],[5000, 0.4447],[5250, 0.4338],[5500, 0.4506],[5750, 0.4464],[6000, 0.4545],[6250, 0.451],[6500, 0.4563],[6750, 0.4535],[7000, 0.4533],[7250, 0.4587],[7500, 0.467],[7750, 0.4673],[8000, 0.4641],[8500, 0.4611],[9000, 0.4652],[10000, 0.4638],[12500, 0.4787],[15000, 0.4797],[1000, 0.3577],[2000, 0.3884],[3000, 0.417],[4000, 0.4265],[5000, 0.4379],[5250, 0.4435],[5500, 0.4486],[5750, 0.4445],[6000, 0.4486],[6250, 0.445],[6500, 0.4512],[6750, 0.4521],[7000, 0.4538],[7250, 0.4539],[7500, 0.4554],[7750, 0.4551],[8000, 0.4574],[8500, 0.4594],[9000, 0.4633],[10000, 0.4652],[12500, 0.4682],[15000, 0.4757],[1000, 0.3438],[2000, 0.4016],[3000, 0.4156],[4000, 0.423],[5000, 0.4396],[5250, 0.4413],[5500, 0.45],[5750, 0.4433],[6000, 0.4419],[6250, 0.4451],[6500, 0.4437],[6750, 0.445],[7000, 0.4531],[7250, 0.4487],[7500, 0.4547],[7750, 0.4482],[8000, 0.461],[8500, 0.4589],[9000, 0.4511],[10000, 0.4567],[12500, 0.468],[15000, 0.4654],[1000, 0.3574],[2000, 0.3948],[3000, 0.4194],[4000, 0.4324],[5000, 0.4323],[5250, 0.4362],[5500, 0.4409],[5750, 0.4472],[6000, 0.4415],[6250, 0.4473],[6500, 0.4565],[6750, 0.4496],[7000, 0.4518],[7250, 0.4521],[7500, 0.4533],[7750, 0.4473],[8000, 0.4537],[8500, 0.4447],[9000, 0.4541],[10000, 0.4664],[12500, 0.4589],[15000, 0.4669],[1000, 0.362],[2000, 0.3944],[3000, 0.4127],[4000, 0.4357],[5000, 0.429],[5250, 0.4436],[5500, 0.4419],[5750, 0.4376],[6000, 0.4374],[6250, 0.4437],[6500, 0.4458],[6750, 0.4415],[7000, 0.4511],[7250, 0.4578],[7500, 0.4434],[7750, 0.446],[8000, 0.4603],[8500, 0.4559],[9000, 0.45],[10000, 0.4623],[12500, 0.4619],[15000, 0.4691],[1000, 0.3476],[2000, 0.3907],[3000, 0.4185],[4000, 0.4352],[5000, 0.4434],[5250, 0.4519],[5500, 0.4498],[5750, 0.4461],[6000, 0.4537],[6250, 0.4619],[6500, 0.4584],[6750, 0.4524],[7000, 0.4657],[7250, 0.463],[7500, 0.466],[7750, 0.4599],[8000, 0.4635],[8500, 0.4695],[9000, 0.4702],[10000, 0.4797],[12500, 0.4784],[15000, 0.4815],[1000, 0.3527],[2000, 0.3965],[3000, 0.4146],[4000, 0.4248],[5000, 0.4473],[5250, 0.449],[5500, 0.4531],[5750, 0.4436],[6000, 0.4556],[6250, 0.4524],[6500, 0.4562],[6750, 0.4562],[7000, 0.4505],[7250, 0.4582],[7500, 0.4615],[7750, 0.4537],[8000, 0.458],[8500, 0.4589],[9000, 0.4568],[10000, 0.4707],[12500, 0.468],[15000, 0.4795],[1000, 0.353],[2000, 0.398],[3000, 0.4202],[4000, 0.4299],[5000, 0.4375],[5250, 0.4411],[5500, 0.4455],[5750, 0.4412],[6000, 0.4505],[6250, 0.4496],[6500, 0.443],[6750, 0.4544],[7000, 0.4532],[7250, 0.453],[7500, 0.4592],[7750, 0.45],[8000, 0.463],[8500, 0.4644],[9000, 0.465],[10000, 0.4667],[12500, 0.47],[15000, 0.4679],[1000, 0.3548],[2000, 0.3957],[3000, 0.4222],[4000, 0.4294],[5000, 0.4413],[5250, 0.4469],[5500, 0.4393],[5750, 0.4451],[6000, 0.4453],[6250, 0.4517],[6500, 0.4503],[6750, 0.4544],[7000, 0.4484],[7250, 0.454],[7500, 0.4504],[7750, 0.4511],[8000, 0.4541],[8500, 0.4489],[9000, 0.4608],[10000, 0.453],[12500, 0.4632],[15000, 0.4613],[1000, 0.3504],[2000, 0.398],[3000, 0.4115],[4000, 0.4258],[5000, 0.4315],[5250, 0.4409],[5500, 0.4422],[5750, 0.4479],[6000, 0.4412],[6250, 0.4425],[6500, 0.4468],[6750, 0.4439],[7000, 0.4551],[7250, 0.4532],[7500, 0.4554],[7750, 0.452],[8000, 0.4496],[8500, 0.4518],[9000, 0.4532],[10000, 0.4576],[12500, 0.4629],[15000, 0.4558],[1000, 0.3525],[2000, 0.3955],[3000, 0.4152],[4000, 0.4344],[5000, 0.4422],[5250, 0.4475],[5500, 0.4468],[5750, 0.453],[6000, 0.4503],[6250, 0.4509],[6500, 0.4586],[6750, 0.4552],[7000, 0.463],[7250, 0.4561],[7500, 0.4663],[7750, 0.4675],[8000, 0.4569],[8500, 0.4651],[9000, 0.4639],[10000, 0.4676],[12500, 0.4752],[15000, 0.4865],[1000, 0.3546],[2000, 0.3997],[3000, 0.4176],[4000, 0.434],[5000, 0.4421],[5250, 0.4434],[5500, 0.4521],[5750, 0.4485],[6000, 0.4468],[6250, 0.4471],[6500, 0.4478],[6750, 0.4516],[7000, 0.459],[7250, 0.4491],[7500, 0.4607],[7750, 0.4637],[8000, 0.4552],[8500, 0.4559],[9000, 0.4684],[10000, 0.4615],[12500, 0.4719],[15000, 0.474],[1000, 0.3539],[2000, 0.3947],[3000, 0.4119],[4000, 0.4266],[5000, 0.4383],[5250, 0.4358],[5500, 0.4358],[5750, 0.4422],[6000, 0.4454],[6250, 0.4527],[6500, 0.4534],[6750, 0.4561],[7000, 0.448],[7250, 0.4548],[7500, 0.4533],[7750, 0.4496],[8000, 0.4488],[8500, 0.4612],[9000, 0.4605],[10000, 0.4641],[12500, 0.4709],[15000, 0.4636],[1000, 0.3626],[2000, 0.3958],[3000, 0.4144],[4000, 0.4273],[5000, 0.434],[5250, 0.4382],[5500, 0.4385],[5750, 0.444],[6000, 0.4373],[6250, 0.4463],[6500, 0.4519],[6750, 0.4487],[7000, 0.4413],[7250, 0.4539],[7500, 0.4494],[7750, 0.4519],[8000, 0.4574],[8500, 0.4508],[9000, 0.4588],[10000, 0.4549],[12500, 0.4591],[15000, 0.4693],[1000, 0.3584],[2000, 0.3914],[3000, 0.4143],[4000, 0.4226],[5000, 0.4316],[5250, 0.4419],[5500, 0.4355],[5750, 0.4342],[6000, 0.4367],[6250, 0.4439],[6500, 0.4504],[6750, 0.4515],[7000, 0.4527],[7250, 0.4499],[7500, 0.4557],[7750, 0.45],[8000, 0.4423],[8500, 0.449],[9000, 0.4617],[10000, 0.4625],[12500, 0.4618],[15000, 0.4624],[1000, 0.3549],[2000, 0.3945],[3000, 0.4114],[4000, 0.4365],[5000, 0.4442],[5250, 0.4425],[5500, 0.4447],[5750, 0.4446],[6000, 0.4487],[6250, 0.4595],[6500, 0.4556],[6750, 0.4632],[7000, 0.457],[7250, 0.4571],[7500, 0.4632],[7750, 0.4591],[8000, 0.4674],[8500, 0.4643],[9000, 0.4644],[10000, 0.4714],[12500, 0.4779],[15000, 0.4836],[1000, 0.3582],[2000, 0.3984],[3000, 0.408],[4000, 0.4284],[5000, 0.4351],[5250, 0.446],[5500, 0.4407],[5750, 0.4482],[6000, 0.4478],[6250, 0.4533],[6500, 0.4565],[6750, 0.4516],[7000, 0.4505],[7250, 0.4542],[7500, 0.4587],[7750, 0.4593],[8000, 0.4596],[8500, 0.457],[9000, 0.4632],[10000, 0.4639],[12500, 0.4719],[15000, 0.468],[1000, 0.3587],[2000, 0.3949],[3000, 0.4107],[4000, 0.4352],[5000, 0.4357],[5250, 0.443],[5500, 0.4386],[5750, 0.4423],[6000, 0.4421],[6250, 0.4469],[6500, 0.4517],[6750, 0.448],[7000, 0.4512],[7250, 0.452],[7500, 0.4525],[7750, 0.4507],[8000, 0.4501],[8500, 0.4553],[9000, 0.4582],[10000, 0.4583],[12500, 0.4652],[15000, 0.4691],[1000, 0.3532],[2000, 0.3861],[3000, 0.4069],[4000, 0.428],[5000, 0.44],[5250, 0.4375],[5500, 0.4423],[5750, 0.4365],[6000, 0.4479],[6250, 0.4438],[6500, 0.4435],[6750, 0.4442],[7000, 0.4439],[7250, 0.4503],[7500, 0.4468],[7750, 0.4538],[8000, 0.4508],[8500, 0.4493],[9000, 0.4486],[10000, 0.4525],[12500, 0.4682],[15000, 0.4633],[1000, 0.3617],[2000, 0.3894],[3000, 0.4126],[4000, 0.4241],[5000, 0.4263],[5250, 0.4375],[5500, 0.4409],[5750, 0.4386],[6000, 0.4423],[6250, 0.4381],[6500, 0.4385],[6750, 0.4411],[7000, 0.4422],[7250, 0.445],[7500, 0.4443],[7750, 0.4448],[8000, 0.4521],[8500, 0.4501],[9000, 0.4533],[10000, 0.4522],[12500, 0.4599],[15000, 0.4566]\n",
    "])\n",
    "\n",
    "cifar_subspace_mlp_all = vstack((cifar_subspace_mlp_w23,cifar_subspace_mlp_low_d,cifar_subspace_mlp_L2_high_d))"
   ]
  },
  {
   "cell_type": "code",
   "execution_count": null,
   "metadata": {
    "collapsed": true
   },
   "outputs": [],
   "source": [
    "plot_perf_cmp(smallnets_cifar_mlp, False, 'cifar_small_direct_mlp_linear')"
   ]
  },
  {
   "cell_type": "code",
   "execution_count": null,
   "metadata": {
    "collapsed": true
   },
   "outputs": [],
   "source": [
    "plot_perf_cmp(smallnets_cifar_mlp, True, 'cifar_small_direct_mlp_log')"
   ]
  },
  {
   "cell_type": "code",
   "execution_count": null,
   "metadata": {
    "collapsed": true
   },
   "outputs": [],
   "source": [
    "plot_perf_cmp_trainable(smallnets_cifar_mlp, cifar_subspace_mlp_all, False, 'cifar_cmp_mlp_linear')"
   ]
  },
  {
   "cell_type": "code",
   "execution_count": null,
   "metadata": {
    "collapsed": true
   },
   "outputs": [],
   "source": [
    "plot_perf_cmp_trainable(smallnets_cifar_mlp, cifar_subspace_mlp_all, True, 'cifar_cmp_mlp_log')"
   ]
  },
  {
   "cell_type": "code",
   "execution_count": null,
   "metadata": {
    "collapsed": true
   },
   "outputs": [],
   "source": [
    "plot_perf_dim(data_cifar_subspace_mlp_w23, logx=False, saveas=None)"
   ]
  },
  {
   "cell_type": "code",
   "execution_count": null,
   "metadata": {
    "collapsed": true
   },
   "outputs": [],
   "source": [
    "plot_perf_dim(data_cifar_subspace_mlp_w23, logx=True, saveas=None)"
   ]
  },
  {
   "cell_type": "markdown",
   "metadata": {},
   "source": [
    "### CIFAR LeNet"
   ]
  },
  {
   "cell_type": "markdown",
   "metadata": {},
   "source": [
    "Result directories like ```tiny_cifar_lenet_dir/171024_234006_3e19a7a_lrb_tiny_cifar_lenet_dir_0701/```\n"
   ]
  },
  {
   "cell_type": "code",
   "execution_count": null,
   "metadata": {
    "collapsed": true,
    "scrolled": true
   },
   "outputs": [],
   "source": [
    "smallnets_cifar_lenet = array([\n",
    "    [4733, 0.5558],[6026, 0.5102],[423, 0.3208],[1850, 0.3935],[532, 0.3429],[24078, 0.5518],[13368, 0.5514],[4696, 0.6084],[1620, 0.4368],[3996, 0.5969],[15204, 0.5924],[12965, 0.4373],[5754, 0.1],[8584, 0.1],[1333, 0.3262],[1030, 0.3488],[10135, 0.5199],[1134, 0.4187],[304, 0.266],[2961, 0.481],[290, 0.2976],[7986, 0.324],[1138, 0.4069],[49015, 0.4101],[5879, 0.6112],[5460, 0.3358],[5261, 0.547],[50705, 0.5119],[2283, 0.3819],[5051, 0.4822],[9004, 0.4897],[913, 0.2388],[1851, 0.4159],[60102, 0.5122],[1313, 0.4011],[4542, 0.3796],[3247, 0.3232],[1615, 0.4485],[11047, 0.5577],[5627, 0.4891],[2098, 0.4865],[330, 0.303],[19388, 0.5668],[11349, 0.5629],[1369, 0.2299],[2125, 0.4828],[887, 0.1],[2475, 0.5258],[3253, 0.434],[2427, 0.5269],[2079, 0.4584],[496, 0.3001],[27631, 0.1],[44250, 0.5591],[959, 0.3627],[3079, 0.5576],[1236, 0.4684],[33793, 0.1],[3204, 0.5866],[1881, 0.4331],[5852, 0.3945],[2346, 0.4792],[6705, 0.4698],[15840, 0.4696],[405, 0.2995],[3203, 0.5046],[5628, 0.559],[6927, 0.509],[3670, 0.4595],[683, 0.3858],[1484, 0.3108],[2267, 0.4723],[9546, 0.3488],[1366, 0.3105],[1420, 0.3647],[1255, 0.389],[864, 0.384],[737, 0.3372],[24666, 0.4678],[7942, 0.6212],[2937, 0.1],[727, 0.3517],[41796, 0.4909],[7242, 0.5662],[1539, 0.3749],[10964, 0.5276],[29960, 0.6104],[3053, 0.5311],[991, 0.4153],[1311, 0.3843],[5850, 0.4709],[5272, 0.5682],[1934, 0.4163],[9567, 0.5123],[1793, 0.3774],[6946, 0.4674],[2119, 0.5012],[2871, 0.3758],[418, 0.2852],[4130, 0.3322],[9006, 0.655],[10301, 0.1],[1568, 0.3564],[2022, 0.3645],[1760, 0.3892],[40935, 0.4106],[576, 0.2974],[10892, 0.5769],[3710, 0.5944],[13452, 0.4208],[1337, 0.3823],[7312, 0.6132],[775, 0.3884],[2912, 0.5212],[9464, 0.5553],[3128, 0.3051],[3760, 0.4845],[5569, 0.5524],[23666, 0.5264],[722, 0.3577],[1117, 0.1],[21706, 0.6385],[16805, 0.5007],[14768, 0.5699],[2385, 0.4469],[21626, 0.1],[607, 0.3535],[26700, 0.6175],[1144, 0.3876],[14648, 0.1],[9176, 0.539],[36400, 0.5688],[3550, 0.3698],[13116, 0.667],[6059, 0.5592],[2223, 0.1],[10905, 0.4583],[8642, 0.5579],[51395, 0.1],[2323, 0.4468],[55526, 0.6109],[2729, 0.539],[3876, 0.1],[18014, 0.5392],[13506, 0.6327],[1436, 0.4913],[1491, 0.4071],[16678, 0.5208],[18486, 0.6015],[4061, 0.463],[25138, 0.5151],[14940, 0.526],[5951, 0.5049],[2831, 0.4862],[4061, 0.4662],[727, 0.3493],[2847, 0.5088],[33738, 0.5212],[1761, 0.4496],[1495, 0.4893],[11972, 0.628],[2097, 0.4226],[13201, 0.4999],[2992, 0.1],[1331, 0.3878],[55526, 0.6165],[1304, 0.3645],[10716, 0.5379],[13201, 0.4988],[44404, 0.6127],[10233, 0.5867],[896, 0.3626],[1127, 0.4769],[1256, 0.2641],[10287, 0.434],[931, 0.4331],[7591, 0.621],[10904, 0.6376],[2331, 0.412],[2304, 0.4403],[9948, 0.5134],[2485, 0.4237],[1649, 0.3365],[3385, 0.52],[3570, 0.4084],[10437, 0.5687],[4906, 0.6209],[11021, 0.4351],[47106, 0.6072],[739, 0.3978],[1938, 0.5326],[10436, 0.6278],[10135, 0.5195],[2439, 0.4024],[16242, 0.1],[8393, 0.5773],[4375, 0.5604],[22112, 0.6037],[5850, 0.474],[10623, 0.414],[571, 0.3137],[3136, 0.3317],[5793, 0.4292],[2717, 0.4904],[12686, 0.5149],[7554, 0.6399],[2493, 0.4864],[2708, 0.4393],[291, 0.2742],[6276, 0.5253],[10896, 0.5408],[19433, 0.4662],[1586, 0.4867],[1872, 0.4056],[11373, 0.5407],[6129, 0.1],[6638, 0.5702],[5598, 0.5952],[13116, 0.647],[4108, 0.5288],[26320, 0.1],[2039, 0.4203],[723, 0.3086],[1513, 0.4515],[1357, 0.2797],[8832, 0.525],[21626, 0.1],[1619, 0.5097],[2327, 0.4989],[11047, 0.5542],[19650, 0.6042],[4884, 0.5936],[978, 0.1],[12868, 0.1],[1713, 0.4115],[2993, 0.4166],[7041, 0.4134],[5198, 0.5479],[2919, 0.4522],[1352, 0.4063],[27534, 0.558],[515, 0.2948],[2924, 0.1],[4814, 0.4724],[6201, 0.1],[3136, 0.2714],[2296, 0.4999],[9345, 0.4412],[4812, 0.4908],[41776, 0.1],[2778, 0.5433],[37342, 0.5087],[1243, 0.3898],[1134, 0.4235],[53168, 0.5428],[3968, 0.5391],[24194, 0.5688],[2924, 0.1],[6840, 0.6255],[2447, 0.5538],[6054, 0.4034],[6654, 0.588],[22590, 0.5677],[10094, 0.5969],[19596, 0.6356],[683, 0.3478],[5949, 0.3909],[19212, 0.5364],[51264, 0.1],[1696, 0.3548],[291, 0.2207],[808, 0.3613],[578, 0.341],[2687, 0.408],[1565, 0.4619],[6637, 0.4035],[6638, 0.5664],[47580, 0.5483],[26628, 0.5512],[8262, 0.3931],[13620, 0.4732],[2098, 0.4977],[734, 0.3219],[795, 0.3462],[5038, 0.5458],[1213, 0.3646],[878, 0.3652],[10716, 0.544],[2309, 0.4612],[1319, 0.4292],[1126, 0.3887],[1891, 0.1],[896, 0.3145],[2236, 0.4092],[8466, 0.525],[16013, 0.5846],[1331, 0.3839],[5342, 0.5759],[1889, 0.5224],[8702, 0.5398],[987, 0.3707],[1595, 0.3306],[1092, 0.3387],[42252, 0.1],[4439, 0.5056],[1736, 0.1],[2767, 0.4122],[12036, 0.3884],[683, 0.339],[27104, 0.5576],[5627, 0.1],[14768, 0.5605],[2936, 0.3745],[1091, 0.4341],[2461, 0.1],[6312, 0.5438],[2311, 0.4325],[2041, 0.4021],[809, 0.3981],[3936, 0.507],[26327, 0.459],[3696, 0.1],[15106, 0.5026],[19650, 0.6039],[4145, 0.4275],[562, 0.328],[1366, 0.3105],[11046, 0.6404],[6499, 0.575],[27666, 0.4838],[5614, 0.1],[1157, 0.4788],[2188, 0.5059],[20142, 0.5578],[13620, 0.4697],[717, 0.3044],[50884, 0.5203],[1055, 0.3682],[418, 0.2956],[8741, 0.4296],[12207, 0.5409],[3188, 0.2757],[26882, 0.5212],[888, 0.364],[9153, 0.5414],[3348, 0.4267],[1547, 0.3745],[1532, 0.4007],[784, 0.3614],[53561, 0.1],[15897, 0.4634],[2869, 0.3151],[3152, 0.4362],[894, 0.4265],[55648, 0.5059],[2321, 0.1],[52670, 0.5305],[342, 0.2838],[697, 0.3409],[3760, 0.4794],[1458, 0.3347],[40935, 0.4066],[1458, 0.319],[17193, 0.5815],[1646, 0.4876],[10799, 0.4381],[5823, 0.1],[4160, 0.4825],[25344, 0.5528],[1471, 0.3828],[6398, 0.6143],[9464, 0.5514],[3944, 0.1],[6997, 0.593],[6111, 0.4999],[17193, 0.5792],[34055, 0.5862],[10896, 0.5292],[9170, 0.5988],[9536, 0.2664],[4785, 0.5416],[966, 0.3052],[15901, 0.441],[1440, 0.4606],[330, 0.2787],[2156, 0.4835],[22112, 0.6069],[1794, 0.1],[3009, 0.1],[1134, 0.4198],[13670, 0.1],[381, 0.289],[17390, 0.5346],[2830, 0.4525],[232, 0.2983],[5637, 0.5572],[4876, 0.5484],[50312, 0.4547],[3989, 0.5611],[15834, 0.4426],[4288, 0.4471],[3279, 0.5047],[12748, 0.3849],[8818, 0.568],[24554, 0.5675],[266, 0.2733],[1067, 0.3706],[12934, 0.4829],[5362, 0.3558],[2249, 0.5045],[25779, 0.4095],[13142, 0.5301],[1755, 0.4975],[1733, 0.3185],[1555, 0.3873],[10864, 0.4228],[1183, 0.3421],[6111, 0.4957],[294, 0.2602],[6269, 0.1],[1526, 0.1],[19212, 0.5317],[20124, 0.5298],[28318, 0.5346],[459, 0.3482],[5358, 0.1],[50705, 0.4877],[5437, 0.4085],[9536, 0.2752],[305, 0.2854],[13845, 0.5524],[2123, 0.3826],[49753, 0.4896],[14500, 0.5925],[14648, 0.1],[6726, 0.5264],[2364, 0.4102],[6543, 0.5789],[6903, 0.4046],[6543, 0.5704],[765, 0.373],[12078, 0.5868],[1791, 0.472],[3824, 0.1],[2703, 0.5492],[3696, 0.3134],[3696, 0.3172],[3128, 0.1],[9536, 0.2742],[644, 0.3398],[6705, 0.4718],[6646, 0.1],[4841, 0.4059],[3045, 0.2871],[2899, 0.5656],[1990, 0.4821],[6752, 0.5696],[28186, 0.5695],[45202, 0.5819],[2147, 0.4832],[2031, 0.4679],[20658, 0.1],[19740, 0.5755],[3348, 0.3647],[6303, 0.4975],[2475, 0.525],[1472, 0.3687],[1256, 0.2651],[1653, 0.457],[874, 0.3625],[672, 0.3398],[4528, 0.1],[6269, 0.1],[22114, 0.5577],[30859, 0.4057],[2997, 0.4327],[1142, 0.3595],[1565, 0.3916],[4932, 0.3879],[18396, 0.5233],[609, 0.2378],[1077, 0.4744],[683, 0.3405],[2031, 0.4665],[6499, 0.5785],[1045, 0.4499],[6988, 0.5926],[12452, 0.6249],[13465, 0.5263],[10745, 0.5076],[8592, 0.4544],[2832, 0.5098],[1620, 0.4343],[291, 0.2748],[3440, 0.3973],[1268, 0.3732],[26700, 0.615],[1671, 0.4615],[370, 0.2935],[9171, 0.4581],[2749, 0.5496],[951, 0.4576],[5459, 0.4533],[1134, 0.4274],[21043, 0.5567],[21043, 0.5507],[8584, 0.1],[1415, 0.4741],[4286, 0.5104],[19017, 0.1],[3967, 0.1],[2738, 0.1],[1620, 0.4277],[18880, 0.6501],[30996, 0.4787],[823, 0.3961],[13506, 0.5113],[13493, 0.5424],[2802, 0.4882],[1989, 0.442],[2150, 0.4015],[3828, 0.1],[266, 0.2751],[2123, 0.3837],[1545, 0.4494],[17050, 0.6546],[879, 0.4217],[21344, 0.5226],[16368, 0.5753],[12868, 0.1],[15458, 0.5839],[1201, 0.3893],[3348, 0.3713],[12339, 0.4355],[11021, 0.4549],[5460, 0.3351],[1285, 0.477],[1793, 0.4655],[4731, 0.4221],[3368, 0.3914],[3438, 0.4088],[795, 0.3377],[6312, 0.5459],[24892, 0.5096],[1635, 0.2996],[2479, 0.4297],[18850, 0.3816],[518, 0.3259],[779, 0.3299],[1624, 0.3917],[23237, 0.568],[25138, 0.5021],[3687, 0.541],[2012, 0.3894],[663, 0.3562],[49967, 0.1],[13731, 0.4759],[2041, 0.4395],[28318, 0.5226],[1725, 0.4037],[14094, 0.6081],[8097, 0.4315],[3042, 0.5002],[29490, 0.6173],[3807, 0.4658],[1603, 0.342],[521, 0.3129],[4075, 0.538],[2296, 0.484],[2021, 0.4385],[6238, 0.1],[12078, 0.5893],[21333, 0.5351],[1005, 0.4421],[1545, 0.4492],[2041, 0.4496],[2309, 0.5021],[13186, 0.5184],[2236, 0.3245],[3303, 0.5104],[8584, 0.1],[557, 0.3715],[19388, 0.5693],[1175, 0.3841],[14768, 0.5612],[966, 0.3164],[3798, 0.5229],[45219, 0.5439],[3887, 0.2883],[2015, 0.4293],[8296, 0.5605],[31400, 0.6217],[13465, 0.5268],[738, 0.3367],[577, 0.3154],[1710, 0.3571],[1045, 0.4312],[3298, 0.4232],[3833, 0.4745],[2997, 0.4392],[4127, 0.5376],[5038, 0.5497],[6846, 0.6442],[2002, 0.4104],[13079, 0.456],[1042, 0.3452],[5235, 0.4087],[1895, 0.4999],[2367, 0.4646],[1761, 0.3428],[4575, 0.5724],[1422, 0.348],[11166, 0.525],[532, 0.3316],[1762, 0.5101],[3188, 0.3739],[8878, 0.4367],[25141, 0.6194],[6738, 0.4311],[49932, 0.4553],[462, 0.3259],[1543, 0.4887],[2024, 0.3787],[1534, 0.29],[16349, 0.4997],[15696, 0.5198],[1788, 0.3647],[6934, 0.1],[737, 0.3307],[1972, 0.5187],[6150, 0.5996],[20147, 0.5666],[7616, 0.6183],[2602, 0.5262],[9843, 0.5651],[2539, 0.2572],[8702, 0.5362],[19740, 0.5856],[24958, 0.1],[2549, 0.478],[5627, 0.1],[7710, 0.516],[855, 0.4166],[3623, 0.4879],[10241, 0.5345],[15192, 0.4955],[2602, 0.5241],[9327, 0.5636],[11244, 0.5864],[4812, 0.4994],[2439, 0.3979],[3776, 0.4188],[4664, 0.4154],[10447, 0.5916],[2549, 0.4692],[4617, 0.4847],[13390, 0.588],[1696, 0.3553],[7058, 0.4985],[21638, 0.5414],[1377, 0.4143],[10594, 0.4498],[12541, 0.4246],[3287, 0.522],[5939, 0.5673],[2323, 0.4456],[3676, 0.509],[3762, 0.4182],[31380, 0.2704],[2994, 0.5802],[1568, 0.3589],[837, 0.4159],[50443, 0.1],[7785, 0.4044],[1333, 0.331],[3066, 0.4971],[536, 0.3239],[7710, 0.5168],[571, 0.3365],[3595, 0.3249],[18624, 0.3588],[2384, 0.4115],[435, 0.3078],[1042, 0.3428],[2476, 0.4168],[3507, 0.4953],[8818, 0.5858],[571, 0.3375],[683, 0.3828],[1357, 0.2808],[9176, 0.5373],[1099, 0.3228],[4615, 0.6076],[571, 0.3351],[9979, 0.1],[1710, 0.3613],[5358, 0.1],[3348, 0.3635],[435, 0.3101],[11400, 0.4634],[1713, 0.3999],[6638, 0.5669],[2048, 0.3853],[2708, 0.4092],[1797, 0.3678],[2802, 0.4841],[2276, 0.5326],[2223, 0.5284],[4113, 0.3328],[1823, 0.4671],[683, 0.3607],[31511, 0.1],[4414, 0.5964],[3152, 0.4517],[1126, 0.3958],[4803, 0.5357],[942, 0.2862],[4002, 0.4787],[1851, 0.4135],[9171, 0.457],[8854, 0.5397],[3944, 0.1],[1721, 0.4],[1646, 0.3898],[1861, 0.3775],[7894, 0.5977],[4173, 0.559],[4796, 0.4109],[16353, 0.4783],[2099, 0.5432],[2223, 0.5237],[2703, 0.5244],[915, 0.2541],[9782, 0.3884],[31447, 0.4826],[9464, 0.5489],[21809, 0.5543],[6238, 0.1],[1837, 0.3184],[9883, 0.4088],[14768, 0.5522],[2346, 0.4629],[46152, 0.4699],[10012, 0.1],[1954, 0.244],[4902, 0.51],[2338, 0.4109],[6080, 0.1],[3710, 0.1],[1420, 0.3714],[2266, 0.3823],[949, 0.3501],[5628, 0.5546],[3019, 0.531],[14179, 0.5647],[3130, 0.5635],[2993, 0.4142],[15192, 0.5267],[2321, 0.3801],[59626, 0.4569],[11349, 0.5567],[2324, 0.4266],[3353, 0.5551],[1891, 0.4591],[2076, 0.4833],[5329, 0.5631],[1089, 0.4207],[1845, 0.4265],[963, 0.3818],[2594, 0.5271],[4563, 0.4011],[4558, 0.5701],[3247, 0.2429],[814, 0.2699],[15746, 0.6163],[1401, 0.4047],[7785, 0.4705],[1972, 0.5184],[43537, 0.5375],[31400, 0.5986],[1346, 0.3553],[3273, 0.1],[9074, 0.5437],[3063, 0.429],[49836, 0.1],[19885, 0.5269],[2147, 0.4838],[5408, 0.5493],[1383, 0.4678],[672, 0.3401],[10090, 0.4984],[13996, 0.1],[567, 0.3822],[16904, 0.5233],[3824, 0.1],[10540, 0.5275],[1861, 0.3724],[1099, 0.2531],[4539, 0.3862],[3355, 0.4262],[12876, 0.6539],[8466, 0.5231],[20658, 0.1],[1995, 0.5261],[2599, 0.5516],[2147, 0.4835],[11024, 0.5858],[9345, 0.4409],[1268, 0.3727],[1777, 0.3896],[1201, 0.3534],[1220, 0.2936],[8466, 0.5196],[1720, 0.477],[1042, 0.3103],[33406, 0.568],[1805, 0.4105],[1707, 0.4122],[3273, 0.1],[1725, 0.4031],[3183, 0.509],[2567, 0.5174],[9850, 0.64],[7434, 0.6173],[1520, 0.3813],[2282, 0.1],[218, 0.2625],[2703, 0.53],[2717, 0.5146],[17424, 0.5902],[3234, 0.4312],[737, 0.3333],[14688, 0.4608],[6543, 0.5769],[16135, 0.1],[571, 0.3418],[8047, 0.5126],[5521, 0.4949],[4108, 0.5238],[2659, 0.5344],[6002, 0.5439],[795, 0.3329],[9828, 0.3857],[1871, 0.3628],[1097, 0.386],[1091, 0.4334],[34710, 0.5952],[4024, 0.5345],[1897, 0.3606],[915, 0.2763],[52306, 0.5694],[4967, 0.4368],[2727, 0.3957],[56600, 0.5361],[4160, 0.4861],[16242, 0.1],[32428, 0.5207],[3253, 0.4339],[1719, 0.3804],[8366, 0.4306],[1055, 0.3629],[4190, 0.4066],[3687, 0.5423],[49277, 0.4502],[2927, 0.4698],[694, 0.2861],[31380, 0.3738],[51354, 0.5366],[11024, 0.5783],[6903, 0.4453],[9874, 0.6132],[2961, 0.4827],[2729, 0.5358],[8610, 0.6308],[3887, 0.5293],[5279, 0.5689],[49491, 0.4475],[6705, 0.4748],[2427, 0.5353],[14337, 0.4095],[3079, 0.5277],[7014, 0.4528],\n",
    "])"
   ]
  },
  {
   "cell_type": "code",
   "execution_count": null,
   "metadata": {
    "collapsed": true
   },
   "outputs": [],
   "source": [
    "direct_cifar_lenet5 = array([\n",
    "    [0, 0.5875],[0, 0.5754],[0, 0.589]\n",
    "])\n",
    "subspace_cifar_lenet5 = array([\n",
    "    [100, 0.2294],[100, 0.2295],[500, 0.3844],[500, 0.3832],[500, 0.3843],[750, 0.4264],[750, 0.4251],[750, 0.423],[1000, 0.4642],[1000, 0.4607],[1000, 0.4633],[1250, 0.4766],[1250, 0.4773],[1250, 0.4786],[1500, 0.4899],[1500, 0.4922],[1500, 0.4891],[1750, 0.5015],[1750, 0.5021],[1750, 0.5035],[1900, 0.497],[1900, 0.4996],[1900, 0.4979],[1950, 0.5034],[1950, 0.5022],[1950, 0.504],[2000, 0.506],[2000, 0.5057],[2000, 0.5037],[2050, 0.5038],[2050, 0.4999],[2050, 0.4999],[2100, 0.5095],[2100, 0.5087],[2100, 0.5088],[2250, 0.5084],[2250, 0.5076],[2250, 0.5072],[2400, 0.5112],[2400, 0.5165],[2400, 0.5146],[2500, 0.5173],[2500, 0.5184],[2500, 0.516],[2600, 0.5223],[2600, 0.5199],[2600, 0.5205],[2750, 0.5229],[2750, 0.5253],[2750, 0.5247],[2900, 0.533],[2900, 0.5317],[2900, 0.5375],[3000, 0.5324],[3000, 0.5327],[3000, 0.5316],[4000, 0.5578],[4000, 0.5572],[4000, 0.5565],[5000, 0.5599],[5000, 0.5646],[5000, 0.5629],[10000, 0.5967],[10000, 0.5987],[10000, 0.5993],[15000, 0.602],[15000, 0.6114],[15000, 0.6084],[20000, 0.6102],[20000, 0.5987],[20000, 0.6029],[25000, 0.6079],[25000, 0.6001],[25000, 0.5979],[30000, 0.5951],[30000, 0.5921],[30000, 0.5963],[35000, 0.6007],[35000, 0.598],[35000, 0.5918],[40000, 0.5952],[40000, 0.6011],[40000, 0.5935],[45000, 0.5892],[45000, 0.5886],[45000, 0.5916],[50000, 0.602],[50000, 0.5942],[50000, 0.6055],[55000, 0.5934],[55000, 0.5857],[55000, 0.5931],[60000, 0.5938],[60000, 0.5966],[60000, 0.5934],[62006, 0.5969],[62006, 0.5886],[62006, 0.5926]\n",
    "])\n",
    "\n",
    "data_cifar_lenet5 =  vstack((direct_cifar_lenet5,subspace_cifar_lenet5))\n",
    "\n",
    "\n",
    "direct_cifar_lucky_lenet = array([\n",
    "    [0, 0.6583],[0, 0.6636],[0, 0.6561]\n",
    "])\n",
    "subspace_cifar_lucky_lenet = array([\n",
    "[100, 0.2227],[100, 0.2226],[100, 0.2234],[200, 0.2561],[200, 0.2551],[200, 0.256],[250, 0.2932],[250, 0.2921],[250, 0.2928],[400, 0.3465],[400, 0.3453],[400, 0.3433],[500, 0.3681],[500, 0.369],[500, 0.3716],[750, 0.4169],[750, 0.4171],[750, 0.4187],[1000, 0.4507],[1000, 0.4493],[1000, 0.4525],[1250, 0.4606],[1250, 0.4629],[1250, 0.4597],[1500, 0.4937],[1500, 0.4938],[1500, 0.4952],[1750, 0.5119],[1750, 0.51],[1750, 0.5116],[1900, 0.5111],[1900, 0.5117],[1900, 0.5121],[1950, 0.514],[1950, 0.5112],[1950, 0.5126],[2000, 0.5189],[2000, 0.5084],[2000, 0.5116],[2050, 0.5134],[2050, 0.5166],[2050, 0.5183],[2100, 0.5197],[2100, 0.5245],[2100, 0.5218],[2250, 0.5313],[2250, 0.5308],[2250, 0.5316],[2400, 0.5404],[2400, 0.5415],[2400, 0.5362],[2500, 0.55],[2500, 0.5488],[2500, 0.5513],[2600, 0.5545],[2600, 0.552],[2600, 0.5519],[2750, 0.5517],[2750, 0.5493],[2750, 0.5531],[2900, 0.5591],[2900, 0.5581],[2900, 0.5562],[3000, 0.5615],[3000, 0.5566],[3000, 0.5644],[4000, 0.5775],[4000, 0.5834],[4000, 0.5733],[5000, 0.6016],[5000, 0.6011],[5000, 0.6008],[7500, 0.6206],[7500, 0.6187],[7500, 0.6176],[10000, 0.6259],[10000, 0.6247],[10000, 0.6179],[12000, 0.6252],[12000, 0.6209],[12000, 0.6215],[13116, 0.6265],[13116, 0.628],[13116, 0.6273]\n",
    "])\n",
    "\n",
    "data_cifar_lucky_lenet =  vstack((direct_cifar_lucky_lenet,subspace_cifar_lucky_lenet))\n",
    "\n",
    "subspace_cifar_lenet = vstack((subspace_cifar_lenet5,subspace_cifar_lucky_lenet))"
   ]
  },
  {
   "cell_type": "code",
   "execution_count": null,
   "metadata": {
    "collapsed": true
   },
   "outputs": [],
   "source": [
    "plot_perf_cmp(smallnets_cifar_lenet, False, 'cifar_small_direct_lenet_linear')"
   ]
  },
  {
   "cell_type": "code",
   "execution_count": null,
   "metadata": {
    "collapsed": true
   },
   "outputs": [],
   "source": [
    "plot_perf_cmp(smallnets_cifar_lenet, True, 'cifar_small_direct_lenet_log')"
   ]
  },
  {
   "cell_type": "code",
   "execution_count": null,
   "metadata": {
    "collapsed": true
   },
   "outputs": [],
   "source": [
    "plot_perf_cmp_trainable(smallnets_cifar_lenet, subspace_cifar_lenet, False, 'cifar_cmp_lenet_linear')"
   ]
  },
  {
   "cell_type": "code",
   "execution_count": null,
   "metadata": {
    "collapsed": true
   },
   "outputs": [],
   "source": [
    "plot_perf_cmp_trainable(smallnets_cifar_lenet, subspace_cifar_lenet, True, 'cifar_cmp_lenet_log')"
   ]
  },
  {
   "cell_type": "code",
   "execution_count": null,
   "metadata": {
    "collapsed": true,
    "scrolled": false
   },
   "outputs": [],
   "source": [
    "plot_perf_dim(data_cifar_lenet5, logx=False, saveas=None)"
   ]
  },
  {
   "cell_type": "code",
   "execution_count": null,
   "metadata": {
    "collapsed": true,
    "scrolled": false
   },
   "outputs": [],
   "source": [
    "plot_perf_dim(data_cifar_lenet5, logx=True, saveas=None)"
   ]
  },
  {
   "cell_type": "code",
   "execution_count": null,
   "metadata": {
    "collapsed": true
   },
   "outputs": [],
   "source": [
    "plot_perf_dim(data_cifar_lucky_lenet, logx=False, saveas=None)"
   ]
  },
  {
   "cell_type": "code",
   "execution_count": null,
   "metadata": {
    "collapsed": true
   },
   "outputs": [],
   "source": [
    "plot_perf_dim(data_cifar_lucky_lenet, logx=True, saveas=None)"
   ]
  },
  {
   "cell_type": "markdown",
   "metadata": {},
   "source": [
    "# L2 vs subspace dim: regularization comparison"
   ]
  },
  {
   "cell_type": "markdown",
   "metadata": {},
   "source": [
    "Result directories like ```l2vsdim/171018_162039_99109f8_lrb_mnist_sgd_fastf_dim200_l20_s10/```\n",
    "\n",
    "Collected using\n",
    "\n",
    "```\n",
    "for dir in *sgd_dir_l2*; do echo -n \"[`cat $dir/diary | grep 'final_stats train_accuracy' | gk 4`, `cat $dir/diary | grep 'final_stats val_accuracy' | gk 4`],\"; done\n",
    "\n",
    "for dir in *sgd_fastf_dim*; do echo -n \"[`cat $dir/diary | grep 'final_stats train_accuracy' | gk 4`, `cat $dir/diary | grep 'final_stats val_accuracy' | gk 4`],\"; done\n",
    "```"
   ]
  },
  {
   "cell_type": "code",
   "execution_count": null,
   "metadata": {
    "collapsed": true,
    "scrolled": false
   },
   "outputs": [],
   "source": [
    "l2_trainval = array([[1, 0.9843],[1, 0.9833],[1, 0.9845],[1, 0.9839],[1, 0.9832],[1, 0.9835],[1, 0.984],[1, 0.9851],[0.9218, 0.9295],[0.99176, 0.981],[1, 0.9848],[1, 0.9841],[1, 0.9848],[1, 0.9845],[1, 0.9844],[1, 0.9841],[1, 0.9839],[0.99166, 0.9817],[1, 0.9845],[0.9217, 0.9291],[1, 0.9842],[1, 0.9841],[1, 0.984],[1, 0.9844],[1, 0.9838],[1, 0.9851],[1, 0.9844],[1, 0.9846],[0.9918, 0.9818],[0.92156, 0.9296],[1, 0.9823],[1, 0.9831],[1, 0.9833],[1, 0.9841],[1, 0.9836],[1, 0.9827]])"
   ]
  },
  {
   "cell_type": "code",
   "execution_count": null,
   "metadata": {
    "collapsed": true,
    "scrolled": false
   },
   "outputs": [],
   "source": [
    "dim_trainval = array([[0.75132, 0.7638],[0.80498, 0.8168],[0.858, 0.8681],[0.89536, 0.9007],[0.90796, 0.9118],[0.94088, 0.9388],[0.9534, 0.9515],[0.96874, 0.9563],[0.98082, 0.9658],[0.98564, 0.968],[0.99728, 0.974],[0.99964, 0.9764],[1, 0.9802],[1, 0.9785],[1, 0.9804],[1, 0.9819],[1, 0.9828],[0.74376, 0.7678],[0.80458, 0.8281],[0.86266, 0.8756],[0.89734, 0.9032],[0.91022, 0.9156],[0.93834, 0.9379],[0.95064, 0.9517],[0.96672, 0.9601],[0.98084, 0.9659],[0.98532, 0.9691],[0.99742, 0.975],[0.9997, 0.9773],[1, 0.9782],[1, 0.98],[1, 0.9818],[1, 0.9833],[1, 0.9834],[0.75068, 0.7677],[0.80918, 0.8217],[0.8649, 0.8735],[0.89516, 0.9004],[0.9087, 0.9137],[0.9392, 0.9378],[0.95184, 0.9502],[0.96834, 0.96],[0.98098, 0.9677],[0.98524, 0.97],[0.99714, 0.9739],[0.99956, 0.9767],[1, 0.9791],[1, 0.9802],[1, 0.9831],[0.74718, 0.7703],[0.80182, 0.8216],[0.86182, 0.8753],[0.89352, 0.9004],[0.90736, 0.9124],[0.93834, 0.935],[0.95192, 0.9512]])"
   ]
  },
  {
   "cell_type": "code",
   "execution_count": null,
   "metadata": {
    "collapsed": true
   },
   "outputs": [],
   "source": [
    "plot(l2_trainval[:,0], l2_trainval[:,1], 'o', mec='k', lw=3, mfc=(.7,.7,.7), ms=14)\n",
    "plot(dim_trainval[:,0], dim_trainval[:,1], 'o', mec='b', lw=3, mfc=(.7,.7,1), ms=14)\n",
    "axhline(1.0, color=(.7,.7,.7), ls='--')\n",
    "axvline(1.0, color=(.7,.7,.7), ls='--')\n",
    "xlabel('Train accuracy')\n",
    "ylabel('Validation accuracy')\n",
    "#savefig('test.png')\n",
    "#savefig('test.pdf')"
   ]
  },
  {
   "cell_type": "code",
   "execution_count": null,
   "metadata": {
    "collapsed": true
   },
   "outputs": [],
   "source": [
    "plot(l2_trainval[:,0], l2_trainval[:,1], 'o', mec='k', lw=3, mfc=(.7,.7,.7), ms=14)\n",
    "plot(dim_trainval[:,0], dim_trainval[:,1], 'o', mec='b', lw=3, mfc=(.7,.7,1), ms=14)\n",
    "axhline(1.0, color=(.7,.7,.7), ls='--')\n",
    "axvline(1.0, color=(.7,.7,.7), ls='--')\n",
    "xlabel('Train accuracy')\n",
    "ylabel('Validation accuracy')\n",
    "#savefig('test.png')\n",
    "#savefig('test.pdf')\n",
    "ax=axis()\n",
    "axis((.96, 1.005, .96, 1.005))"
   ]
  },
  {
   "cell_type": "code",
   "execution_count": null,
   "metadata": {
    "collapsed": true
   },
   "outputs": [],
   "source": [
    "# Error instead of accuracy\n",
    "plot(1-l2_trainval[:,0], 1-l2_trainval[:,1], 'o', mec='k', lw=3, mfc=(.7,.7,.7), ms=14)\n",
    "plot(1-dim_trainval[:,0], 1-dim_trainval[:,1], 'o', mec='b', lw=3, mfc=(.7,.7,1), ms=14)\n",
    "xlabel('Train error')\n",
    "ylabel('Validation error')"
   ]
  },
  {
   "cell_type": "code",
   "execution_count": null,
   "metadata": {
    "collapsed": true,
    "scrolled": false
   },
   "outputs": [],
   "source": []
  },
  {
   "cell_type": "code",
   "execution_count": null,
   "metadata": {
    "collapsed": true,
    "scrolled": false
   },
   "outputs": [],
   "source": []
  },
  {
   "cell_type": "code",
   "execution_count": null,
   "metadata": {
    "collapsed": true,
    "scrolled": false
   },
   "outputs": [],
   "source": []
  },
  {
   "cell_type": "markdown",
   "metadata": {},
   "source": [
    "## Toy example"
   ]
  },
  {
   "cell_type": "markdown",
   "metadata": {},
   "source": [
    "Result directories like ```toy/171019_184721_b8c525a_lrb_toy_proj_d10/```\n",
    "\n",
    "Collected using\n",
    "\n",
    "```\n",
    "for dir in 17*; do echo -n \"[`cat $dir/diary | grep 'final_stats total_params' | gk 4`, `cat $dir/diary | grep 'final_stats val_performance' | gk 4`],\"; done\n",
    "```"
   ]
  },
  {
   "cell_type": "code",
   "execution_count": null,
   "metadata": {
    "collapsed": true,
    "scrolled": false
   },
   "outputs": [],
   "source": [
    "dim_trainval = array([\n",
    "    #[0, 8.05361e-23],[1, 1.89087e-22],[2, 5.87724e-22],[3, 2.19866e-20],[4, 2.1993e-20],[5, 2.40969e-20],[6, 6.25471e-11],[7, 3.17628e-09],[8, 0.0475739],[9, 0.165084],[10, 0.999769],[11, 0.999461],[12, 0.999992],[13, 0.999464],[14, 0.998213],[15, 0.999998],[20, 0.997842],[30, 0.999712],[50, 0.999183],[80, 0.997498],[100, 0.990812]\n",
    "    [0, 8.05361e-23],[1, 1.89087e-22],[2, 5.87724e-22],[3, 2.19866e-20],[4, 2.1993e-20],[5, 2.40969e-20],[6, 6.25471e-11],[7, 3.17628e-09],[8, 0.0475739],[9, 0.165084],[10, 0.999769],[11, 0.999461],[12, 0.999992],[13, 0.999464],[14, 0.998213],[15, 0.999998],[20, 0.997842],[30, 0.999712],[50, 0.999183],\n",
    "])\n",
    "dir_perf = 0.999977"
   ]
  },
  {
   "cell_type": "code",
   "execution_count": null,
   "metadata": {
    "collapsed": true
   },
   "outputs": [],
   "source": [
    "#figsize(15, 8)\n",
    "figsize(10, 5)\n",
    "plt.rc('text', usetex=True)\n",
    "axhline(dir_perf, color=(.7,.7,.7), ls='-')\n",
    "axhline(.9 * dir_perf, color=(.7,.7,.7), ls='--')\n",
    "plot(dim_trainval[:,0], dim_trainval[:,1], 'o-', mec='b', lw=3, mfc=(.7,.7,1), color=(.7,.7,1), ms=14)\n",
    "plot(dim_trainval[10,0], dim_trainval[10,1], 'o', mec='b', lw=3, mfc='b', ms=14)\n",
    "\n",
    "#text(10.5, .91, '$d_{\\mathrm{int90}} = d_{\\mathrm{int100}} = 10$')\n",
    "#arrow(12.5, .85, -1.8, .1, head_width=.2)\n",
    "gca().annotate('', xy=(10.4, .97), xytext=(12.5, .85), arrowprops=dict(arrowstyle=\"->\"))\n",
    "text(12.5, .77, '$d_{\\mathrm{int90}} = d_{\\mathrm{int100}} = 10$')\n",
    "\n",
    "xlabel('Subspace dim $d$')\n",
    "ylabel('Performance')\n",
    "plt.tight_layout()\n",
    "savefig('toy_example.png')\n",
    "savefig('toy_example.pdf')"
   ]
  },
  {
   "cell_type": "code",
   "execution_count": null,
   "metadata": {
    "collapsed": true,
    "scrolled": false
   },
   "outputs": [],
   "source": []
  },
  {
   "cell_type": "markdown",
   "metadata": {
    "collapsed": true,
    "scrolled": false
   },
   "source": [
    "## Percentage of Permuted Label MNIST"
   ]
  },
  {
   "cell_type": "code",
   "execution_count": null,
   "metadata": {
    "collapsed": true,
    "scrolled": false
   },
   "outputs": [],
   "source": [
    "mnist_pl_01_dim = array([\n",
    "    [0, 1.0],[1000, 0.1246],[10000, 0.2328],[20000, 0.3072],[30000, 0.3996],[40000, 0.487],[50000, 0.575],[60000, 0.6686],[70000, 0.7506],[80000, 0.8392],[90000, 0.8992],[100000, 0.949],[110000, 0.975],[120000, 0.9876],[130000, 0.9924],[140000, 0.9984],[150000, 0.9998],[160000, 1.0],[170000, 1.0],[180000, 1.0],[190000, 1.0],[200000, 1.0],[210000, 1.0],[220000, 1.0],[230000, 1.0],[240000, 1.0],[250000, 1.0],[260000, 1.0],[270000, 1.0],[280000, 1.0],[290000, 1.0],[300000, 1.0]\n",
    "])\n",
    "\n",
    "mnist_pl_05_dim = array([\n",
    "    [0, 0.99156],[1000, 0.11652],[10000, 0.1764],[20000, 0.23804],[30000, 0.29904],[40000, 0.3604],[50000, 0.42488],[60000, 0.48488],[70000, 0.54584],[80000, 0.605],[90000, 0.66688],[100000, 0.73308],[110000, 0.79204],[120000, 0.84436],[130000, 0.89172],[140000, 0.92576],[150000, 0.95044],[160000, 0.96692],[170000, 0.97468],[180000, 0.98328],[190000, 0.98708],[200000, 0.99308],[210000, 0.9946],[220000, 0.99728],[230000, 0.9982],[240000, 0.99884],[250000, 0.99884],[260000, 0.99724],[270000, 0.99804],[280000, 0.9996],[290000, 0.99988],[300000, 0.99892]\n",
    "])\n",
    "\n",
    "mnist_pl_10_dim = array([\n",
    "    [0, 0.99444],[1000, 0.11292],[10000, 0.15122],[20000, 0.19618],[30000, 0.24556],[40000, 0.29172],[50000, 0.3347],[60000, 0.3811],[70000, 0.42188],[80000, 0.46698],[90000, 0.50712],[100000, 0.54436],[110000, 0.5939],[120000, 0.63058],[130000, 0.67804],[140000, 0.71868],[150000, 0.7643],[160000, 0.80814],[170000, 0.84078],[180000, 0.87192],[190000, 0.90398],[200000, 0.92432],[210000, 0.94128],[220000, 0.95406],[230000, 0.96462],[240000, 0.97232],[250000, 0.97732],[260000, 0.9809],[270000, 0.98446],[280000, 0.98714],[290000, 0.98706],[300000, 0.99086]\n",
    "])"
   ]
  },
  {
   "cell_type": "code",
   "execution_count": null,
   "metadata": {
    "collapsed": true,
    "scrolled": false
   },
   "outputs": [],
   "source": [
    "def plot_pl_perf_dim(dat, logx=False, saveas=None, d_Int=False):\n",
    "    plotfn = semilogx if logx else plot\n",
    "    figsize(10, 5)\n",
    "    plt.rc('text', usetex=True)\n",
    "\n",
    "    dir_perf = dat[0,1]\n",
    "\n",
    "    axhline(dir_perf, color=(.7,.7,.7), ls='-')\n",
    "    axhline(.9 * dir_perf, color=(.7,.7,.7), ls='--')\n",
    "    plot(dat[1:,0], dat[1:,1], 'o-', mec='b', lw=3, mfc=(.7,.7,1), color=(.7,.7,1), ms=14)\n",
    "    \n",
    "    if d_Int==True:\n",
    "        for i in range(dat.shape[0]):\n",
    "            if dat[i,1]>dir_perf*.89 and i>0:\n",
    "                print \"d_int=\"+str(dat[i,0]) + \", acc=\" +str(dat[i,1] ) \n",
    "                plot(dat[i,0], dat[i,1], 'o', mec='b', lw=3, mfc='b', ms=14)\n",
    "                break\n",
    "\n",
    "    xlabel('Subspace dim d')\n",
    "    ylabel('Training accuracy')\n",
    "    if saveas:\n",
    "        savefig('%s.png' % saveas)\n",
    "        savefig('%s.pdf' % saveas)"
   ]
  },
  {
   "cell_type": "code",
   "execution_count": null,
   "metadata": {
    "collapsed": true
   },
   "outputs": [],
   "source": [
    "plot_pl_perf_dim(mnist_pl_01_dim, logx=False, saveas=None, d_Int=True)\n",
    "print \"bit=\"+str(90000.0/(50000*0.1))\n",
    "print \"bit=\"+str(log(90000.0/(50000*0.1)))\n",
    "print log(90000)"
   ]
  },
  {
   "cell_type": "code",
   "execution_count": null,
   "metadata": {
    "collapsed": true
   },
   "outputs": [],
   "source": [
    "plot_pl_perf_dim(mnist_pl_05_dim, logx=False, saveas=None, d_Int=True)\n",
    "print \"bit=\"+str(130000.0/(50000*0.5))\n",
    "print \"bit=\"+str(log(130000.0/(50000*0.5)))\n",
    "print log(130000)"
   ]
  },
  {
   "cell_type": "code",
   "execution_count": null,
   "metadata": {
    "collapsed": true
   },
   "outputs": [],
   "source": [
    "plot_pl_perf_dim(mnist_pl_10_dim, logx=False, saveas=None, d_Int=True)\n",
    "print \"bit=\"+str(190000.0/(50000*1.0))\n",
    "print \"bit=\"+str(log(190000.0/(50000*1.0)))\n",
    "print log(190000)"
   ]
  },
  {
   "cell_type": "code",
   "execution_count": null,
   "metadata": {
    "collapsed": true
   },
   "outputs": [],
   "source": []
  },
  {
   "cell_type": "markdown",
   "metadata": {
    "collapsed": true
   },
   "source": [
    "## ConvNet Controls"
   ]
  },
  {
   "cell_type": "code",
   "execution_count": null,
   "metadata": {
    "collapsed": true
   },
   "outputs": [],
   "source": [
    "cifar_Untied_LeNet = array([\n",
    "    [0, 0.6112],[1000, 0.3731],[1500, 0.4075],[1750, 0.4165],[2000, 0.4303],[2250, 0.4334],[2500, 0.4465],[2750, 0.4503],[3000, 0.4571],[3500, 0.4649],[4000, 0.4745],[4500, 0.4825],[5000, 0.4913],[5500, 0.4851],[6000, 0.4971],[6500, 0.4959],[6750, 0.5025],[7000, 0.5041],[7500, 0.5095],[8000, 0.5125],[9000, 0.5208],[10000, 0.5301],[11000, 0.5351],[12000, 0.5404],[13000, 0.5406],[14000, 0.5406],[15000, 0.5508]\n",
    "])\n",
    "\n",
    "cifar_MLP_LeNet = array([\n",
    "    [0, 0.5231],[1000, 0.265],[1500, 0.2853],[1750, 0.3007],[2000, 0.3116],[2250, 0.3168],[2500, 0.32],[2750, 0.3283],[3000, 0.335],[3500, 0.343],[4000, 0.3527],[4000, 0.3533],[4000, 0.3527],[4000, 0.3533],[4500, 0.3585],[5000, 0.3617],[5000, 0.3622],[5000, 0.3617],[5000, 0.3622],[5500, 0.3722],[6000, 0.3745],[6500, 0.3794],[6750, 0.3838],[7000, 0.3865],[7500, 0.3914],[7500, 0.3893],[7500, 0.3914],[7500, 0.3893],[8000, 0.3934],[9000, 0.3984],[10000, 0.3994],[10000, 0.3997],[10000, 0.3994],[10000, 0.3997],[11000, 0.4093],[12000, 0.4095],[13000, 0.419],[14000, 0.4198],[15000, 0.4284],[15000, 0.4275],[15000, 0.4284],[15000, 0.4275],[17500, 0.4315],[20000, 0.4375],[20000, 0.435],[20000, 0.4375],[20000, 0.435],[25000, 0.4458],[35000, 0.458],[50000, 0.4631],[75000, 0.4653],[100000, 0.4605]\n",
    "])\n",
    "\n",
    "mnist_Untied_LeNet = array([\n",
    "    [0, 0.986],[100, 0.6446],[200, 0.7978],[225, 0.7946],[250, 0.823],[275, 0.8306],[300, 0.8339],[325, 0.8426],[350, 0.8579],[375, 0.8626],[400, 0.8611],[425, 0.8796],[450, 0.8887],[475, 0.8915],[500, 0.8861],[550, 0.8886],[600, 0.9001],[700, 0.9039],[800, 0.9106],[900, 0.9204],[1000, 0.925],[1100, 0.9295],[1200, 0.93],[1300, 0.9329],[1400, 0.9344],[1500, 0.9431]\n",
    "])\n",
    "\n",
    "mnist_MLP_LeNet = array([\n",
    "    [0, 0.9758],[100, 0.4056],[200, 0.6268],[225, 0.6375],[250, 0.6996],[275, 0.702],[300, 0.6986],[325, 0.7145],[350, 0.7238],[375, 0.7534],[400, 0.7643],[425, 0.756],[450, 0.7703],[475, 0.7735],[500, 0.7846],[550, 0.7992],[600, 0.8061],[700, 0.82],[800, 0.8437],[900, 0.8557],[1000, 0.865],[1100, 0.8646],[1200, 0.8677],[1300, 0.877],[1400, 0.8787],[1500, 0.887],[1750, 0.8892],[2000, 0.9004],[2250, 0.9051],[2500, 0.9108],[4000, 0.9209],[5000, 0.9295],[7500, 0.938],[10000, 0.9432],[15000, 0.9498],[20000, 0.9558],[50000, 0.9681],[100000, 0.9732]\n",
    "])"
   ]
  },
  {
   "cell_type": "code",
   "execution_count": null,
   "metadata": {
    "collapsed": true
   },
   "outputs": [],
   "source": [
    "plot_perf_dim(cifar_Untied_LeNet, logx=True, saveas=None)"
   ]
  },
  {
   "cell_type": "code",
   "execution_count": null,
   "metadata": {
    "collapsed": true
   },
   "outputs": [],
   "source": [
    "plot_perf_dim(cifar_MLP_LeNet, logx=True, saveas=None)"
   ]
  },
  {
   "cell_type": "code",
   "execution_count": null,
   "metadata": {
    "collapsed": true
   },
   "outputs": [],
   "source": [
    "plot_perf_dim(mnist_Untied_LeNet, logx=True, saveas=None)"
   ]
  },
  {
   "cell_type": "code",
   "execution_count": null,
   "metadata": {
    "collapsed": true
   },
   "outputs": [],
   "source": [
    "plot_perf_dim(mnist_MLP_LeNet, logx=True, saveas=None)"
   ]
  },
  {
   "cell_type": "code",
   "execution_count": null,
   "metadata": {
    "collapsed": true
   },
   "outputs": [],
   "source": [
    "def compute_d_int(dat, perf_b=None):\n",
    "    dir_perf = np.mean(dat[dat[:,0]==0,:],0)[1]\n",
    "    sub_perf = dat[dat[:,0]!=0,:]\n",
    "    \n",
    "    unique_dim = sorted(list(set(sub_perf[:,0])))\n",
    "    perf_mean = [np.mean(dat[dat[:,0]==d,:],0)[1] for d in unique_dim]\n",
    "    \n",
    "    if perf_b!=None:\n",
    "        dir_perf = perf_b\n",
    "        \n",
    "    for i in range(len(unique_dim)):\n",
    "        if perf_mean[i]>dir_perf*.90:\n",
    "            print \"d_int=\"+str(unique_dim[i]) + \", acc=\" +str( perf_mean[i] ) \n",
    "            solved = array([unique_dim[i], perf_mean[i]])\n",
    "            break\n",
    "        elif perf_mean[-1]<dir_perf*.90:\n",
    "            solved = array([unique_dim[-1], perf_mean[-1]])\n",
    "            print \"d_int=\"+str(unique_dim[-1]) + \", acc=\" +str( perf_mean[-1] ) + \"(Warning: larger d should be considered)\"\n",
    "            break\n",
    "        \n",
    "    return solved, unique_dim, perf_mean\n",
    "    \n",
    "    \n",
    "def plot_convnet_ff(dat_lenet, dat_lenet_untied,dat_lenet_mlp,  perf_b=1.0, logx=True, xmin=None, saveas=None):\n",
    "    \n",
    "    plotfn = semilogx if logx else plot\n",
    "    leg = OrderedDict()\n",
    "    \n",
    "    axhline(perf_b, color=(.7,.7,.7), ls='-')\n",
    "    hhd = axhline(.9 * perf_b, color=(.7,.7,.7), ls='--')\n",
    "\n",
    "    solved, unique_dim, perf_mean = compute_d_int(dat_lenet, perf_b)\n",
    "    hh, = plotfn(unique_dim, perf_mean, 'o-', color='b',  mfc=(.7,.7,1), ms=14)\n",
    "    plotfn(solved[0], solved[1], 'o-', color='b', ms=15)\n",
    "    leg[hh] = 'Standard LeNet'\n",
    "\n",
    "    solved, unique_dim, perf_mean = compute_d_int(dat_lenet_untied, perf_b)\n",
    "    hh, = plotfn(unique_dim, perf_mean, 'o-', color='g', mfc=(.7,.7,1), ms=14)\n",
    "    plotfn(solved[0], solved[1], 'o-', color='g', ms=15)    \n",
    "    leg[hh] = 'Untied-LeNet'    \n",
    "    \n",
    "    solved, unique_dim, perf_mean = compute_d_int(dat_lenet_mlp, perf_b)\n",
    "    hh, = plotfn(unique_dim, perf_mean, 'o-', color='r', mfc=(.7,.7,1), ms=14)\n",
    "    plotfn(solved[0], solved[1], 'o', color='r', ms=15)\n",
    "    leg[hh] = 'MLP-LeNet'\n",
    "\n",
    "\n",
    "    leg[hhd] = 'threshold'\n",
    "\n",
    "    xlabel('Intrinsic dim d')\n",
    "    ylabel('Validation accuracy')\n",
    "    ax = axis()\n",
    "    axis([xmin, ax[1], 0, ax[3]])\n",
    "    legend(leg.keys(), leg.values())\n",
    "    #legend?\n",
    "    \n",
    "    if saveas:\n",
    "        savefig('%s.png' % saveas)\n",
    "        savefig('%s.pdf' % saveas)    \n",
    "    "
   ]
  },
  {
   "cell_type": "markdown",
   "metadata": {},
   "source": [
    "For a given accuracy threshold, compare $d_{int}$ "
   ]
  },
  {
   "cell_type": "code",
   "execution_count": null,
   "metadata": {
    "collapsed": true
   },
   "outputs": [],
   "source": [
    "print \"Individual Baseline:\"\n",
    "compute_d_int(data_mnist_lenet, perf_b=None)\n",
    "compute_d_int(mnist_Untied_LeNet, perf_b=None)\n",
    "compute_d_int(mnist_MLP_LeNet, perf_b=None)\n",
    "\n",
    "print \"Global Baseline:\"\n",
    "perf_b = 1.0\n",
    "plot_convnet_ff(data_mnist_lenet, mnist_Untied_LeNet, mnist_MLP_LeNet, perf_b, logx=True, xmin=None, saveas=None)"
   ]
  },
  {
   "cell_type": "code",
   "execution_count": null,
   "metadata": {
    "collapsed": true
   },
   "outputs": [],
   "source": [
    "print \"Individual Baseline:\"\n",
    "compute_d_int(data_cifar_lenet5, perf_b=None)\n",
    "compute_d_int(cifar_Untied_LeNet, perf_b=None)\n",
    "compute_d_int(cifar_MLP_LeNet, perf_b=None)\n",
    "\n",
    "print \"Global Baseline:\"\n",
    "perf_b = 0.5\n",
    "plot_convnet_ff(data_cifar_lenet5, cifar_Untied_LeNet, cifar_MLP_LeNet, perf_b, logx=True, xmin=None, saveas=None)"
   ]
  },
  {
   "cell_type": "code",
   "execution_count": null,
   "metadata": {
    "collapsed": true
   },
   "outputs": [],
   "source": []
  },
  {
   "cell_type": "markdown",
   "metadata": {
    "collapsed": true
   },
   "source": [
    "## CIFAR ResNet"
   ]
  },
  {
   "cell_type": "code",
   "execution_count": 5,
   "metadata": {},
   "outputs": [
    {
     "data": {
      "image/png": "[encoded data removed]",
      "text/plain": [
       "<matplotlib.figure.Figure at 0x1161e9a90>"
      ]
     },
     "metadata": {},
     "output_type": "display_data"
    }
   ],
   "source": [
    "dim_trainval = np.array([\n",
    "    [300, 0.329],\n",
    "    [500, 0.379],\n",
    "    [800, 0.422],\n",
    "    [1000, 0.439],\n",
    "    [2000, 0.551],\n",
    "    [5000, 0.650],\n",
    "    [10000, 0.672],\n",
    "    [15000, 0.6885],\n",
    "    [20000, 0.6925],  \n",
    "    [50000, 0.7145]    \n",
    "])\n",
    "dir_perf = 0.78\n",
    "dir_perf_lenet = np.mean([0.5875, 0.5754, 0.589])\n",
    "\n",
    "figsize(10, 5)\n",
    "plt.rc('text', usetex=True)\n",
    "axhline(dir_perf, color=(0,0,0), ls='-', label='ResNet baseline')\n",
    "axhline(.9 * dir_perf, color=(0,0,0), ls='--',label='90\\% ResNet baseline')\n",
    "axhline(.9 * dir_perf_lenet, color=(0,0,0), ls='-.', label='90\\% LeNet baseline')\n",
    "\n",
    "plot(dim_trainval[:,0], dim_trainval[:,1], 'o-', mec='b', lw=3, mfc=(.7,.7,1), color=(.7,.7,1), ms=14)\n",
    "#plot(dim_trainval[4,0], dim_trainval[4,1], 'o', mec='b', lw=3, mfc='b', ms=14)\n",
    "\n",
    "#text(10.5, .91, '$d_{\\mathrm{int90}} = d_{\\mathrm{int100}} = 10$')\n",
    "#arrow(12.5, .85, -1.8, .1, head_width=.2)\n",
    "#gca().annotate('', xy=(10.4, .97), xytext=(12.5, .85), arrowprops=dict(arrowstyle=\"->\"))\n",
    "#text(12.5, .77, '$d_{\\mathrm{int90}} = d_{\\mathrm{int100}} = 10$')\n",
    "\n",
    "xlabel('Subspace dim $d$')\n",
    "ylabel('Validation accuracy')\n",
    "plt.tight_layout()\n",
    "legend()\n",
    "savefig('cifar_resnet.png')\n",
    "savefig('cifar_resnet.pdf')"
   ]
  },
  {
   "cell_type": "markdown",
   "metadata": {
    "collapsed": true
   },
   "source": [
    "## ImageNet"
   ]
  },
  {
   "cell_type": "code",
   "execution_count": 6,
   "metadata": {},
   "outputs": [
    {
     "data": {
      "image/png": "[encoded data removed]",
      "text/plain": [
       "<matplotlib.figure.Figure at 0x11afaa450>"
      ]
     },
     "metadata": {},
     "output_type": "display_data"
    }
   ],
   "source": [
    "dim_trainval = array([\n",
    "[50000, np.mean([0.1526, 0.1530, 0.1538, 0.1554])],\n",
    "    [100000, np.mean([0.2421, 0.2417, 0.2461, 0.2400])],\n",
    "    [200000, np.mean([0.2948, 0.2925, 0.2901, 0.2959])],\n",
    "    [500000, np.mean([0.3279, 0.3308, 0.3302, 0.3339])],\n",
    "    [500000, np.mean([0.3408, 0.3421, 0.3431, 0.3476])]    \n",
    "])\n",
    "dir_perf = 0.5550\n",
    "\n",
    "\n",
    "figsize(10, 5)\n",
    "plt.rc('text', usetex=True)\n",
    "axhline(dir_perf, color=(.7,.7,.7), ls='-')\n",
    "axhline(.9 * dir_perf, color=(.7,.7,.7), ls='--')\n",
    "plot(dim_trainval[:,0], dim_trainval[:,1], 'o-', mec='b', lw=3, mfc=(.7,.7,1), color=(.7,.7,1), ms=14)\n",
    "#plot(dim_trainval[10,0], dim_trainval[10,1], 'o', mec='b', lw=3, mfc='b', ms=14)\n",
    "\n",
    "#text(10.5, .91, '$d_{\\mathrm{int90}} = d_{\\mathrm{int100}} = 10$')\n",
    "#arrow(12.5, .85, -1.8, .1, head_width=.2)\n",
    "#gca().annotate('', xy=(10.4, .97), xytext=(12.5, .85), arrowprops=dict(arrowstyle=\"->\"))\n",
    "#text(12.5, .77, '$d_{\\mathrm{int90}} = d_{\\mathrm{int100}} = 10$')\n",
    "\n",
    "xlabel('Subspace dim $d$')\n",
    "ylabel('Validation accuracy')\n",
    "plt.tight_layout()\n",
    "savefig('imagenet_sqz.png')\n",
    "savefig('imagenet_sqz.pdf')"
   ]
  },
  {
   "cell_type": "code",
   "execution_count": null,
   "metadata": {
    "collapsed": true
   },
   "outputs": [],
   "source": []
  }
 ],
 "metadata": {
  "kernelspec": {
   "display_name": "Python 2",
   "language": "python",
   "name": "python2"
  },
  "language_info": {
   "codemirror_mode": {
    "name": "ipython",
    "version": 2
   },
   "file_extension": ".py",
   "mimetype": "text/x-python",
   "name": "python",
   "nbconvert_exporter": "python",
   "pygments_lexer": "ipython2",
   "version": "2.7.13"
  }
 },
 "nbformat": 4,
 "nbformat_minor": 2
}
